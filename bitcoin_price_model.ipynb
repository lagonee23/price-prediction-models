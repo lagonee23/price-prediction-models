{
  "nbformat": 4,
  "nbformat_minor": 0,
  "metadata": {
    "colab": {
      "provenance": [],
      "include_colab_link": true
    },
    "kernelspec": {
      "name": "python3",
      "display_name": "Python 3"
    },
    "language_info": {
      "name": "python"
    }
  },
  "cells": [
    {
      "cell_type": "markdown",
      "metadata": {
        "id": "view-in-github",
        "colab_type": "text"
      },
      "source": [
        "<a href=\"https://colab.research.google.com/github/lagonee23/price-prediction-models/blob/main/bitcoin_price_model.ipynb\" target=\"_parent\"><img src=\"https://colab.research.google.com/assets/colab-badge.svg\" alt=\"Open In Colab\"/></a>"
      ]
    },
    {
      "cell_type": "markdown",
      "source": [
        "# 암호화폐(BitCoin)의 가격 예측 모델\n"
      ],
      "metadata": {
        "id": "ncvk3adDf-Fg"
      }
    },
    {
      "cell_type": "markdown",
      "source": [
        "### 필요 모듈 설치\n",
        "> [pyupbit](https://github.com/sharebook-kr/pyupbit) 모듈은 업비트라는 암호화폐 거래소의 API를 파이썬에서 쉽게 사용하기 위해 개발되었습니다.\n",
        "해당 라이브러리를 통해 암호화폐의 현재 가격, 매매 주문 등의 정보를 쉽게 얻어올 수 있습니다."
      ],
      "metadata": {
        "id": "XJeMqxahkERA"
      }
    },
    {
      "cell_type": "code",
      "execution_count": 2,
      "metadata": {
        "id": "KMzzvcnMk7U5",
        "outputId": "c71932e7-fded-4e10-e872-f270ba245dc5",
        "colab": {
          "base_uri": "https://localhost:8080/"
        }
      },
      "outputs": [
        {
          "output_type": "stream",
          "name": "stdout",
          "text": [
            "Collecting pyupbit\n",
            "  Downloading pyupbit-0.2.33-py3-none-any.whl (24 kB)\n",
            "Requirement already satisfied: pyjwt>=2.0.0 in /usr/lib/python3/dist-packages (from pyupbit) (2.3.0)\n",
            "Requirement already satisfied: pandas in /usr/local/lib/python3.10/dist-packages (from pyupbit) (1.5.3)\n",
            "Requirement already satisfied: requests in /usr/local/lib/python3.10/dist-packages (from pyupbit) (2.31.0)\n",
            "Collecting websockets (from pyupbit)\n",
            "  Downloading websockets-12.0-cp310-cp310-manylinux_2_5_x86_64.manylinux1_x86_64.manylinux_2_17_x86_64.manylinux2014_x86_64.whl (130 kB)\n",
            "\u001b[2K     \u001b[90m━━━━━━━━━━━━━━━━━━━━━━━━━━━━━━━━━━━━━━━━\u001b[0m \u001b[32m130.2/130.2 kB\u001b[0m \u001b[31m5.4 MB/s\u001b[0m eta \u001b[36m0:00:00\u001b[0m\n",
            "\u001b[?25hRequirement already satisfied: python-dateutil>=2.8.1 in /usr/local/lib/python3.10/dist-packages (from pandas->pyupbit) (2.8.2)\n",
            "Requirement already satisfied: pytz>=2020.1 in /usr/local/lib/python3.10/dist-packages (from pandas->pyupbit) (2023.3.post1)\n",
            "Requirement already satisfied: numpy>=1.21.0 in /usr/local/lib/python3.10/dist-packages (from pandas->pyupbit) (1.23.5)\n",
            "Requirement already satisfied: charset-normalizer<4,>=2 in /usr/local/lib/python3.10/dist-packages (from requests->pyupbit) (3.3.2)\n",
            "Requirement already satisfied: idna<4,>=2.5 in /usr/local/lib/python3.10/dist-packages (from requests->pyupbit) (3.6)\n",
            "Requirement already satisfied: urllib3<3,>=1.21.1 in /usr/local/lib/python3.10/dist-packages (from requests->pyupbit) (2.0.7)\n",
            "Requirement already satisfied: certifi>=2017.4.17 in /usr/local/lib/python3.10/dist-packages (from requests->pyupbit) (2023.11.17)\n",
            "Requirement already satisfied: six>=1.5 in /usr/local/lib/python3.10/dist-packages (from python-dateutil>=2.8.1->pandas->pyupbit) (1.16.0)\n",
            "Installing collected packages: websockets, pyupbit\n",
            "Successfully installed pyupbit-0.2.33 websockets-12.0\n"
          ]
        }
      ],
      "source": [
        "!pip install pyupbit"
      ]
    },
    {
      "cell_type": "markdown",
      "source": [
        "### 업비트에서 일봉(day)차트의 데이터 가져오기\n",
        "* `open`: 시가\n",
        "* `high`: 고가\n",
        "* `low`: 저가\n",
        "* `close`: 종가\n",
        "* `volume`: 거래량\n",
        "* `value`: 거래대금\n",
        "\n",
        "> 업비트는 한국 거래소이므로 데이터의 단위는 원화(￦)입니다."
      ],
      "metadata": {
        "id": "RVlfb5-o2nCE"
      }
    },
    {
      "cell_type": "code",
      "source": [
        "import pyupbit\n",
        "\n",
        "# UpBit에서 비트코인 가격 데이터 가져오기\n",
        "df_origin = pyupbit.get_ohlcv(\"KRW-BTC\", \"day\", count=2500, period=1)\n",
        "df_origin"
      ],
      "metadata": {
        "colab": {
          "base_uri": "https://localhost:8080/",
          "height": 423
        },
        "id": "WpIDxLunozsW",
        "outputId": "c0dba847-a49f-4785-a1fd-fcb8b74057f2"
      },
      "execution_count": 3,
      "outputs": [
        {
          "output_type": "execute_result",
          "data": {
            "text/plain": [
              "                           open        high         low       close  \\\n",
              "2017-09-25 09:00:00   4201000.0   4333000.0   4175000.0   4322000.0   \n",
              "2017-09-26 09:00:00   4317000.0   4418000.0   4311000.0   4321000.0   \n",
              "2017-09-27 09:00:00   4322000.0   4677000.0   4318000.0   4657000.0   \n",
              "2017-09-28 09:00:00   4657000.0   4772000.0   4519000.0   4586000.0   \n",
              "2017-09-29 09:00:00   4586000.0   4709000.0   4476000.0   4657000.0   \n",
              "...                         ...         ...         ...         ...   \n",
              "2023-12-07 09:00:00  60295000.0  60958000.0  58555000.0  59250000.0   \n",
              "2023-12-08 09:00:00  59237000.0  60753000.0  58750000.0  60142000.0   \n",
              "2023-12-09 09:00:00  60148000.0  60395000.0  59680000.0  60082000.0   \n",
              "2023-12-10 09:00:00  60082000.0  60277000.0  59563000.0  59835000.0   \n",
              "2023-12-11 09:00:00  59834000.0  59918000.0  55460000.0  55831000.0   \n",
              "\n",
              "                           volume         value  \n",
              "2017-09-25 09:00:00    132.484755  5.602146e+08  \n",
              "2017-09-26 09:00:00     22.788340  9.950724e+07  \n",
              "2017-09-27 09:00:00     32.269662  1.448276e+08  \n",
              "2017-09-28 09:00:00     80.588243  3.721860e+08  \n",
              "2017-09-29 09:00:00     59.352373  2.724558e+08  \n",
              "...                           ...           ...  \n",
              "2023-12-07 09:00:00   8318.924757  4.969294e+11  \n",
              "2023-12-08 09:00:00   5252.133202  3.128890e+11  \n",
              "2023-12-09 09:00:00   3528.907593  2.121763e+11  \n",
              "2023-12-10 09:00:00   2575.294711  1.545037e+11  \n",
              "2023-12-11 09:00:00  10699.914927  6.180733e+11  \n",
              "\n",
              "[2269 rows x 6 columns]"
            ],
            "text/html": [
              "\n",
              "  <div id=\"df-91517361-c76b-45ce-ac98-0c739e46fda5\" class=\"colab-df-container\">\n",
              "    <div>\n",
              "<style scoped>\n",
              "    .dataframe tbody tr th:only-of-type {\n",
              "        vertical-align: middle;\n",
              "    }\n",
              "\n",
              "    .dataframe tbody tr th {\n",
              "        vertical-align: top;\n",
              "    }\n",
              "\n",
              "    .dataframe thead th {\n",
              "        text-align: right;\n",
              "    }\n",
              "</style>\n",
              "<table border=\"1\" class=\"dataframe\">\n",
              "  <thead>\n",
              "    <tr style=\"text-align: right;\">\n",
              "      <th></th>\n",
              "      <th>open</th>\n",
              "      <th>high</th>\n",
              "      <th>low</th>\n",
              "      <th>close</th>\n",
              "      <th>volume</th>\n",
              "      <th>value</th>\n",
              "    </tr>\n",
              "  </thead>\n",
              "  <tbody>\n",
              "    <tr>\n",
              "      <th>2017-09-25 09:00:00</th>\n",
              "      <td>4201000.0</td>\n",
              "      <td>4333000.0</td>\n",
              "      <td>4175000.0</td>\n",
              "      <td>4322000.0</td>\n",
              "      <td>132.484755</td>\n",
              "      <td>5.602146e+08</td>\n",
              "    </tr>\n",
              "    <tr>\n",
              "      <th>2017-09-26 09:00:00</th>\n",
              "      <td>4317000.0</td>\n",
              "      <td>4418000.0</td>\n",
              "      <td>4311000.0</td>\n",
              "      <td>4321000.0</td>\n",
              "      <td>22.788340</td>\n",
              "      <td>9.950724e+07</td>\n",
              "    </tr>\n",
              "    <tr>\n",
              "      <th>2017-09-27 09:00:00</th>\n",
              "      <td>4322000.0</td>\n",
              "      <td>4677000.0</td>\n",
              "      <td>4318000.0</td>\n",
              "      <td>4657000.0</td>\n",
              "      <td>32.269662</td>\n",
              "      <td>1.448276e+08</td>\n",
              "    </tr>\n",
              "    <tr>\n",
              "      <th>2017-09-28 09:00:00</th>\n",
              "      <td>4657000.0</td>\n",
              "      <td>4772000.0</td>\n",
              "      <td>4519000.0</td>\n",
              "      <td>4586000.0</td>\n",
              "      <td>80.588243</td>\n",
              "      <td>3.721860e+08</td>\n",
              "    </tr>\n",
              "    <tr>\n",
              "      <th>2017-09-29 09:00:00</th>\n",
              "      <td>4586000.0</td>\n",
              "      <td>4709000.0</td>\n",
              "      <td>4476000.0</td>\n",
              "      <td>4657000.0</td>\n",
              "      <td>59.352373</td>\n",
              "      <td>2.724558e+08</td>\n",
              "    </tr>\n",
              "    <tr>\n",
              "      <th>...</th>\n",
              "      <td>...</td>\n",
              "      <td>...</td>\n",
              "      <td>...</td>\n",
              "      <td>...</td>\n",
              "      <td>...</td>\n",
              "      <td>...</td>\n",
              "    </tr>\n",
              "    <tr>\n",
              "      <th>2023-12-07 09:00:00</th>\n",
              "      <td>60295000.0</td>\n",
              "      <td>60958000.0</td>\n",
              "      <td>58555000.0</td>\n",
              "      <td>59250000.0</td>\n",
              "      <td>8318.924757</td>\n",
              "      <td>4.969294e+11</td>\n",
              "    </tr>\n",
              "    <tr>\n",
              "      <th>2023-12-08 09:00:00</th>\n",
              "      <td>59237000.0</td>\n",
              "      <td>60753000.0</td>\n",
              "      <td>58750000.0</td>\n",
              "      <td>60142000.0</td>\n",
              "      <td>5252.133202</td>\n",
              "      <td>3.128890e+11</td>\n",
              "    </tr>\n",
              "    <tr>\n",
              "      <th>2023-12-09 09:00:00</th>\n",
              "      <td>60148000.0</td>\n",
              "      <td>60395000.0</td>\n",
              "      <td>59680000.0</td>\n",
              "      <td>60082000.0</td>\n",
              "      <td>3528.907593</td>\n",
              "      <td>2.121763e+11</td>\n",
              "    </tr>\n",
              "    <tr>\n",
              "      <th>2023-12-10 09:00:00</th>\n",
              "      <td>60082000.0</td>\n",
              "      <td>60277000.0</td>\n",
              "      <td>59563000.0</td>\n",
              "      <td>59835000.0</td>\n",
              "      <td>2575.294711</td>\n",
              "      <td>1.545037e+11</td>\n",
              "    </tr>\n",
              "    <tr>\n",
              "      <th>2023-12-11 09:00:00</th>\n",
              "      <td>59834000.0</td>\n",
              "      <td>59918000.0</td>\n",
              "      <td>55460000.0</td>\n",
              "      <td>55831000.0</td>\n",
              "      <td>10699.914927</td>\n",
              "      <td>6.180733e+11</td>\n",
              "    </tr>\n",
              "  </tbody>\n",
              "</table>\n",
              "<p>2269 rows × 6 columns</p>\n",
              "</div>\n",
              "    <div class=\"colab-df-buttons\">\n",
              "\n",
              "  <div class=\"colab-df-container\">\n",
              "    <button class=\"colab-df-convert\" onclick=\"convertToInteractive('df-91517361-c76b-45ce-ac98-0c739e46fda5')\"\n",
              "            title=\"Convert this dataframe to an interactive table.\"\n",
              "            style=\"display:none;\">\n",
              "\n",
              "  <svg xmlns=\"http://www.w3.org/2000/svg\" height=\"24px\" viewBox=\"0 -960 960 960\">\n",
              "    <path d=\"M120-120v-720h720v720H120Zm60-500h600v-160H180v160Zm220 220h160v-160H400v160Zm0 220h160v-160H400v160ZM180-400h160v-160H180v160Zm440 0h160v-160H620v160ZM180-180h160v-160H180v160Zm440 0h160v-160H620v160Z\"/>\n",
              "  </svg>\n",
              "    </button>\n",
              "\n",
              "  <style>\n",
              "    .colab-df-container {\n",
              "      display:flex;\n",
              "      gap: 12px;\n",
              "    }\n",
              "\n",
              "    .colab-df-convert {\n",
              "      background-color: #E8F0FE;\n",
              "      border: none;\n",
              "      border-radius: 50%;\n",
              "      cursor: pointer;\n",
              "      display: none;\n",
              "      fill: #1967D2;\n",
              "      height: 32px;\n",
              "      padding: 0 0 0 0;\n",
              "      width: 32px;\n",
              "    }\n",
              "\n",
              "    .colab-df-convert:hover {\n",
              "      background-color: #E2EBFA;\n",
              "      box-shadow: 0px 1px 2px rgba(60, 64, 67, 0.3), 0px 1px 3px 1px rgba(60, 64, 67, 0.15);\n",
              "      fill: #174EA6;\n",
              "    }\n",
              "\n",
              "    .colab-df-buttons div {\n",
              "      margin-bottom: 4px;\n",
              "    }\n",
              "\n",
              "    [theme=dark] .colab-df-convert {\n",
              "      background-color: #3B4455;\n",
              "      fill: #D2E3FC;\n",
              "    }\n",
              "\n",
              "    [theme=dark] .colab-df-convert:hover {\n",
              "      background-color: #434B5C;\n",
              "      box-shadow: 0px 1px 3px 1px rgba(0, 0, 0, 0.15);\n",
              "      filter: drop-shadow(0px 1px 2px rgba(0, 0, 0, 0.3));\n",
              "      fill: #FFFFFF;\n",
              "    }\n",
              "  </style>\n",
              "\n",
              "    <script>\n",
              "      const buttonEl =\n",
              "        document.querySelector('#df-91517361-c76b-45ce-ac98-0c739e46fda5 button.colab-df-convert');\n",
              "      buttonEl.style.display =\n",
              "        google.colab.kernel.accessAllowed ? 'block' : 'none';\n",
              "\n",
              "      async function convertToInteractive(key) {\n",
              "        const element = document.querySelector('#df-91517361-c76b-45ce-ac98-0c739e46fda5');\n",
              "        const dataTable =\n",
              "          await google.colab.kernel.invokeFunction('convertToInteractive',\n",
              "                                                    [key], {});\n",
              "        if (!dataTable) return;\n",
              "\n",
              "        const docLinkHtml = 'Like what you see? Visit the ' +\n",
              "          '<a target=\"_blank\" href=https://colab.research.google.com/notebooks/data_table.ipynb>data table notebook</a>'\n",
              "          + ' to learn more about interactive tables.';\n",
              "        element.innerHTML = '';\n",
              "        dataTable['output_type'] = 'display_data';\n",
              "        await google.colab.output.renderOutput(dataTable, element);\n",
              "        const docLink = document.createElement('div');\n",
              "        docLink.innerHTML = docLinkHtml;\n",
              "        element.appendChild(docLink);\n",
              "      }\n",
              "    </script>\n",
              "  </div>\n",
              "\n",
              "\n",
              "<div id=\"df-88a5e5d3-c330-4ea9-b6ef-3e1c26de7f56\">\n",
              "  <button class=\"colab-df-quickchart\" onclick=\"quickchart('df-88a5e5d3-c330-4ea9-b6ef-3e1c26de7f56')\"\n",
              "            title=\"Suggest charts\"\n",
              "            style=\"display:none;\">\n",
              "\n",
              "<svg xmlns=\"http://www.w3.org/2000/svg\" height=\"24px\"viewBox=\"0 0 24 24\"\n",
              "     width=\"24px\">\n",
              "    <g>\n",
              "        <path d=\"M19 3H5c-1.1 0-2 .9-2 2v14c0 1.1.9 2 2 2h14c1.1 0 2-.9 2-2V5c0-1.1-.9-2-2-2zM9 17H7v-7h2v7zm4 0h-2V7h2v10zm4 0h-2v-4h2v4z\"/>\n",
              "    </g>\n",
              "</svg>\n",
              "  </button>\n",
              "\n",
              "<style>\n",
              "  .colab-df-quickchart {\n",
              "      --bg-color: #E8F0FE;\n",
              "      --fill-color: #1967D2;\n",
              "      --hover-bg-color: #E2EBFA;\n",
              "      --hover-fill-color: #174EA6;\n",
              "      --disabled-fill-color: #AAA;\n",
              "      --disabled-bg-color: #DDD;\n",
              "  }\n",
              "\n",
              "  [theme=dark] .colab-df-quickchart {\n",
              "      --bg-color: #3B4455;\n",
              "      --fill-color: #D2E3FC;\n",
              "      --hover-bg-color: #434B5C;\n",
              "      --hover-fill-color: #FFFFFF;\n",
              "      --disabled-bg-color: #3B4455;\n",
              "      --disabled-fill-color: #666;\n",
              "  }\n",
              "\n",
              "  .colab-df-quickchart {\n",
              "    background-color: var(--bg-color);\n",
              "    border: none;\n",
              "    border-radius: 50%;\n",
              "    cursor: pointer;\n",
              "    display: none;\n",
              "    fill: var(--fill-color);\n",
              "    height: 32px;\n",
              "    padding: 0;\n",
              "    width: 32px;\n",
              "  }\n",
              "\n",
              "  .colab-df-quickchart:hover {\n",
              "    background-color: var(--hover-bg-color);\n",
              "    box-shadow: 0 1px 2px rgba(60, 64, 67, 0.3), 0 1px 3px 1px rgba(60, 64, 67, 0.15);\n",
              "    fill: var(--button-hover-fill-color);\n",
              "  }\n",
              "\n",
              "  .colab-df-quickchart-complete:disabled,\n",
              "  .colab-df-quickchart-complete:disabled:hover {\n",
              "    background-color: var(--disabled-bg-color);\n",
              "    fill: var(--disabled-fill-color);\n",
              "    box-shadow: none;\n",
              "  }\n",
              "\n",
              "  .colab-df-spinner {\n",
              "    border: 2px solid var(--fill-color);\n",
              "    border-color: transparent;\n",
              "    border-bottom-color: var(--fill-color);\n",
              "    animation:\n",
              "      spin 1s steps(1) infinite;\n",
              "  }\n",
              "\n",
              "  @keyframes spin {\n",
              "    0% {\n",
              "      border-color: transparent;\n",
              "      border-bottom-color: var(--fill-color);\n",
              "      border-left-color: var(--fill-color);\n",
              "    }\n",
              "    20% {\n",
              "      border-color: transparent;\n",
              "      border-left-color: var(--fill-color);\n",
              "      border-top-color: var(--fill-color);\n",
              "    }\n",
              "    30% {\n",
              "      border-color: transparent;\n",
              "      border-left-color: var(--fill-color);\n",
              "      border-top-color: var(--fill-color);\n",
              "      border-right-color: var(--fill-color);\n",
              "    }\n",
              "    40% {\n",
              "      border-color: transparent;\n",
              "      border-right-color: var(--fill-color);\n",
              "      border-top-color: var(--fill-color);\n",
              "    }\n",
              "    60% {\n",
              "      border-color: transparent;\n",
              "      border-right-color: var(--fill-color);\n",
              "    }\n",
              "    80% {\n",
              "      border-color: transparent;\n",
              "      border-right-color: var(--fill-color);\n",
              "      border-bottom-color: var(--fill-color);\n",
              "    }\n",
              "    90% {\n",
              "      border-color: transparent;\n",
              "      border-bottom-color: var(--fill-color);\n",
              "    }\n",
              "  }\n",
              "</style>\n",
              "\n",
              "  <script>\n",
              "    async function quickchart(key) {\n",
              "      const quickchartButtonEl =\n",
              "        document.querySelector('#' + key + ' button');\n",
              "      quickchartButtonEl.disabled = true;  // To prevent multiple clicks.\n",
              "      quickchartButtonEl.classList.add('colab-df-spinner');\n",
              "      try {\n",
              "        const charts = await google.colab.kernel.invokeFunction(\n",
              "            'suggestCharts', [key], {});\n",
              "      } catch (error) {\n",
              "        console.error('Error during call to suggestCharts:', error);\n",
              "      }\n",
              "      quickchartButtonEl.classList.remove('colab-df-spinner');\n",
              "      quickchartButtonEl.classList.add('colab-df-quickchart-complete');\n",
              "    }\n",
              "    (() => {\n",
              "      let quickchartButtonEl =\n",
              "        document.querySelector('#df-88a5e5d3-c330-4ea9-b6ef-3e1c26de7f56 button');\n",
              "      quickchartButtonEl.style.display =\n",
              "        google.colab.kernel.accessAllowed ? 'block' : 'none';\n",
              "    })();\n",
              "  </script>\n",
              "</div>\n",
              "\n",
              "  <div id=\"id_fbc03fac-0459-42b5-b8cf-28f34431d648\">\n",
              "    <style>\n",
              "      .colab-df-generate {\n",
              "        background-color: #E8F0FE;\n",
              "        border: none;\n",
              "        border-radius: 50%;\n",
              "        cursor: pointer;\n",
              "        display: none;\n",
              "        fill: #1967D2;\n",
              "        height: 32px;\n",
              "        padding: 0 0 0 0;\n",
              "        width: 32px;\n",
              "      }\n",
              "\n",
              "      .colab-df-generate:hover {\n",
              "        background-color: #E2EBFA;\n",
              "        box-shadow: 0px 1px 2px rgba(60, 64, 67, 0.3), 0px 1px 3px 1px rgba(60, 64, 67, 0.15);\n",
              "        fill: #174EA6;\n",
              "      }\n",
              "\n",
              "      [theme=dark] .colab-df-generate {\n",
              "        background-color: #3B4455;\n",
              "        fill: #D2E3FC;\n",
              "      }\n",
              "\n",
              "      [theme=dark] .colab-df-generate:hover {\n",
              "        background-color: #434B5C;\n",
              "        box-shadow: 0px 1px 3px 1px rgba(0, 0, 0, 0.15);\n",
              "        filter: drop-shadow(0px 1px 2px rgba(0, 0, 0, 0.3));\n",
              "        fill: #FFFFFF;\n",
              "      }\n",
              "    </style>\n",
              "    <button class=\"colab-df-generate\" onclick=\"generateWithVariable('df_origin')\"\n",
              "            title=\"Generate code using this dataframe.\"\n",
              "            style=\"display:none;\">\n",
              "\n",
              "  <svg xmlns=\"http://www.w3.org/2000/svg\" height=\"24px\"viewBox=\"0 0 24 24\"\n",
              "       width=\"24px\">\n",
              "    <path d=\"M7,19H8.4L18.45,9,17,7.55,7,17.6ZM5,21V16.75L18.45,3.32a2,2,0,0,1,2.83,0l1.4,1.43a1.91,1.91,0,0,1,.58,1.4,1.91,1.91,0,0,1-.58,1.4L9.25,21ZM18.45,9,17,7.55Zm-12,3A5.31,5.31,0,0,0,4.9,8.1,5.31,5.31,0,0,0,1,6.5,5.31,5.31,0,0,0,4.9,4.9,5.31,5.31,0,0,0,6.5,1,5.31,5.31,0,0,0,8.1,4.9,5.31,5.31,0,0,0,12,6.5,5.46,5.46,0,0,0,6.5,12Z\"/>\n",
              "  </svg>\n",
              "    </button>\n",
              "    <script>\n",
              "      (() => {\n",
              "      const buttonEl =\n",
              "        document.querySelector('#id_fbc03fac-0459-42b5-b8cf-28f34431d648 button.colab-df-generate');\n",
              "      buttonEl.style.display =\n",
              "        google.colab.kernel.accessAllowed ? 'block' : 'none';\n",
              "\n",
              "      buttonEl.onclick = () => {\n",
              "        google.colab.notebook.generateWithVariable('df_origin');\n",
              "      }\n",
              "      })();\n",
              "    </script>\n",
              "  </div>\n",
              "\n",
              "    </div>\n",
              "  </div>\n"
            ]
          },
          "metadata": {},
          "execution_count": 3
        }
      ]
    },
    {
      "cell_type": "code",
      "source": [
        "df_origin.info()"
      ],
      "metadata": {
        "colab": {
          "base_uri": "https://localhost:8080/"
        },
        "id": "v6YWAscQgomp",
        "outputId": "48a77c54-45bd-4917-fb78-9815e9ec9066"
      },
      "execution_count": 4,
      "outputs": [
        {
          "output_type": "stream",
          "name": "stdout",
          "text": [
            "<class 'pandas.core.frame.DataFrame'>\n",
            "DatetimeIndex: 2269 entries, 2017-09-25 09:00:00 to 2023-12-11 09:00:00\n",
            "Data columns (total 6 columns):\n",
            " #   Column  Non-Null Count  Dtype  \n",
            "---  ------  --------------  -----  \n",
            " 0   open    2269 non-null   float64\n",
            " 1   high    2269 non-null   float64\n",
            " 2   low     2269 non-null   float64\n",
            " 3   close   2269 non-null   float64\n",
            " 4   volume  2269 non-null   float64\n",
            " 5   value   2269 non-null   float64\n",
            "dtypes: float64(6)\n",
            "memory usage: 124.1 KB\n"
          ]
        }
      ]
    },
    {
      "cell_type": "code",
      "source": [
        "import seaborn as sns\n",
        "import matplotlib.pyplot as plt\n",
        "\n",
        "plt.figure(figsize=(14, 6))\n",
        "sns.lineplot(data=df_origin, x=df_origin.index, y='close')  # 비트코인 차트\n",
        "plt.title('Bitcoin Line Chart');"
      ],
      "metadata": {
        "colab": {
          "base_uri": "https://localhost:8080/",
          "height": 545
        },
        "id": "_oJEu-lhpEVY",
        "outputId": "2c345716-0290-44a4-cf45-fdf70efc2e2d"
      },
      "execution_count": 5,
      "outputs": [
        {
          "output_type": "display_data",
          "data": {
            "text/plain": [
              "<Figure size 1400x600 with 1 Axes>"
            ],
            "image/png": "[encoded data removed]"
          },
          "metadata": {}
        }
      ]
    },
    {
      "cell_type": "markdown",
      "source": [
        "## LSTM(Long Short Term Memory)\n",
        "---\n",
        "본 프로젝트에서는 long memory 특성을 보이는 비트코인의 가격 예측을 위한 딥러닝 모형으로 LSTM을 선택하였습니다. LSTM 모형을 이용하여 비트코인의 가격을 예측하고, 예측된 비트코인 가격을 이용한 이동평균선 교차 전략의 투자 성과를 비교 분석하겠습니다.\n",
        "\n",
        "> [LSTM(Long Short-Term Memory)](https://wikidocs.net/152773) 모델은 순환 신경망(Recurrent Neural Network, RNN)의 한 종류로서, 시퀀스 데이터를 처리하는 데 효과적입니다. LSTM은 RNN의 장기 의존성 문제를 해결하기 위해 고안되었습니다."
      ],
      "metadata": {
        "id": "hqC1AuJPJCUG"
      }
    },
    {
      "cell_type": "markdown",
      "source": [
        "### 1. 데이터 전처리\n",
        "일별 수익률(`Return`) 컬럼을 추가합니다."
      ],
      "metadata": {
        "id": "oOZ70dh63qHV"
      }
    },
    {
      "cell_type": "code",
      "source": [
        "# 원본 복사\n",
        "df = df_origin.copy()\n",
        "\n",
        "df['Return'] = df['close'].pct_change()\n",
        "df.head()"
      ],
      "metadata": {
        "id": "NJPC_K7S4GQl",
        "outputId": "dacb6603-0e49-465b-adae-ddcdb7f94d7f",
        "colab": {
          "base_uri": "https://localhost:8080/",
          "height": 206
        }
      },
      "execution_count": 6,
      "outputs": [
        {
          "output_type": "execute_result",
          "data": {
            "text/plain": [
              "                          open       high        low      close      volume  \\\n",
              "2017-09-25 09:00:00  4201000.0  4333000.0  4175000.0  4322000.0  132.484755   \n",
              "2017-09-26 09:00:00  4317000.0  4418000.0  4311000.0  4321000.0   22.788340   \n",
              "2017-09-27 09:00:00  4322000.0  4677000.0  4318000.0  4657000.0   32.269662   \n",
              "2017-09-28 09:00:00  4657000.0  4772000.0  4519000.0  4586000.0   80.588243   \n",
              "2017-09-29 09:00:00  4586000.0  4709000.0  4476000.0  4657000.0   59.352373   \n",
              "\n",
              "                            value    Return  \n",
              "2017-09-25 09:00:00  5.602146e+08       NaN  \n",
              "2017-09-26 09:00:00  9.950724e+07 -0.000231  \n",
              "2017-09-27 09:00:00  1.448276e+08  0.077760  \n",
              "2017-09-28 09:00:00  3.721860e+08 -0.015246  \n",
              "2017-09-29 09:00:00  2.724558e+08  0.015482  "
            ],
            "text/html": [
              "\n",
              "  <div id=\"df-c9f0ab61-c338-4561-8b54-26a5848540de\" class=\"colab-df-container\">\n",
              "    <div>\n",
              "<style scoped>\n",
              "    .dataframe tbody tr th:only-of-type {\n",
              "        vertical-align: middle;\n",
              "    }\n",
              "\n",
              "    .dataframe tbody tr th {\n",
              "        vertical-align: top;\n",
              "    }\n",
              "\n",
              "    .dataframe thead th {\n",
              "        text-align: right;\n",
              "    }\n",
              "</style>\n",
              "<table border=\"1\" class=\"dataframe\">\n",
              "  <thead>\n",
              "    <tr style=\"text-align: right;\">\n",
              "      <th></th>\n",
              "      <th>open</th>\n",
              "      <th>high</th>\n",
              "      <th>low</th>\n",
              "      <th>close</th>\n",
              "      <th>volume</th>\n",
              "      <th>value</th>\n",
              "      <th>Return</th>\n",
              "    </tr>\n",
              "  </thead>\n",
              "  <tbody>\n",
              "    <tr>\n",
              "      <th>2017-09-25 09:00:00</th>\n",
              "      <td>4201000.0</td>\n",
              "      <td>4333000.0</td>\n",
              "      <td>4175000.0</td>\n",
              "      <td>4322000.0</td>\n",
              "      <td>132.484755</td>\n",
              "      <td>5.602146e+08</td>\n",
              "      <td>NaN</td>\n",
              "    </tr>\n",
              "    <tr>\n",
              "      <th>2017-09-26 09:00:00</th>\n",
              "      <td>4317000.0</td>\n",
              "      <td>4418000.0</td>\n",
              "      <td>4311000.0</td>\n",
              "      <td>4321000.0</td>\n",
              "      <td>22.788340</td>\n",
              "      <td>9.950724e+07</td>\n",
              "      <td>-0.000231</td>\n",
              "    </tr>\n",
              "    <tr>\n",
              "      <th>2017-09-27 09:00:00</th>\n",
              "      <td>4322000.0</td>\n",
              "      <td>4677000.0</td>\n",
              "      <td>4318000.0</td>\n",
              "      <td>4657000.0</td>\n",
              "      <td>32.269662</td>\n",
              "      <td>1.448276e+08</td>\n",
              "      <td>0.077760</td>\n",
              "    </tr>\n",
              "    <tr>\n",
              "      <th>2017-09-28 09:00:00</th>\n",
              "      <td>4657000.0</td>\n",
              "      <td>4772000.0</td>\n",
              "      <td>4519000.0</td>\n",
              "      <td>4586000.0</td>\n",
              "      <td>80.588243</td>\n",
              "      <td>3.721860e+08</td>\n",
              "      <td>-0.015246</td>\n",
              "    </tr>\n",
              "    <tr>\n",
              "      <th>2017-09-29 09:00:00</th>\n",
              "      <td>4586000.0</td>\n",
              "      <td>4709000.0</td>\n",
              "      <td>4476000.0</td>\n",
              "      <td>4657000.0</td>\n",
              "      <td>59.352373</td>\n",
              "      <td>2.724558e+08</td>\n",
              "      <td>0.015482</td>\n",
              "    </tr>\n",
              "  </tbody>\n",
              "</table>\n",
              "</div>\n",
              "    <div class=\"colab-df-buttons\">\n",
              "\n",
              "  <div class=\"colab-df-container\">\n",
              "    <button class=\"colab-df-convert\" onclick=\"convertToInteractive('df-c9f0ab61-c338-4561-8b54-26a5848540de')\"\n",
              "            title=\"Convert this dataframe to an interactive table.\"\n",
              "            style=\"display:none;\">\n",
              "\n",
              "  <svg xmlns=\"http://www.w3.org/2000/svg\" height=\"24px\" viewBox=\"0 -960 960 960\">\n",
              "    <path d=\"M120-120v-720h720v720H120Zm60-500h600v-160H180v160Zm220 220h160v-160H400v160Zm0 220h160v-160H400v160ZM180-400h160v-160H180v160Zm440 0h160v-160H620v160ZM180-180h160v-160H180v160Zm440 0h160v-160H620v160Z\"/>\n",
              "  </svg>\n",
              "    </button>\n",
              "\n",
              "  <style>\n",
              "    .colab-df-container {\n",
              "      display:flex;\n",
              "      gap: 12px;\n",
              "    }\n",
              "\n",
              "    .colab-df-convert {\n",
              "      background-color: #E8F0FE;\n",
              "      border: none;\n",
              "      border-radius: 50%;\n",
              "      cursor: pointer;\n",
              "      display: none;\n",
              "      fill: #1967D2;\n",
              "      height: 32px;\n",
              "      padding: 0 0 0 0;\n",
              "      width: 32px;\n",
              "    }\n",
              "\n",
              "    .colab-df-convert:hover {\n",
              "      background-color: #E2EBFA;\n",
              "      box-shadow: 0px 1px 2px rgba(60, 64, 67, 0.3), 0px 1px 3px 1px rgba(60, 64, 67, 0.15);\n",
              "      fill: #174EA6;\n",
              "    }\n",
              "\n",
              "    .colab-df-buttons div {\n",
              "      margin-bottom: 4px;\n",
              "    }\n",
              "\n",
              "    [theme=dark] .colab-df-convert {\n",
              "      background-color: #3B4455;\n",
              "      fill: #D2E3FC;\n",
              "    }\n",
              "\n",
              "    [theme=dark] .colab-df-convert:hover {\n",
              "      background-color: #434B5C;\n",
              "      box-shadow: 0px 1px 3px 1px rgba(0, 0, 0, 0.15);\n",
              "      filter: drop-shadow(0px 1px 2px rgba(0, 0, 0, 0.3));\n",
              "      fill: #FFFFFF;\n",
              "    }\n",
              "  </style>\n",
              "\n",
              "    <script>\n",
              "      const buttonEl =\n",
              "        document.querySelector('#df-c9f0ab61-c338-4561-8b54-26a5848540de button.colab-df-convert');\n",
              "      buttonEl.style.display =\n",
              "        google.colab.kernel.accessAllowed ? 'block' : 'none';\n",
              "\n",
              "      async function convertToInteractive(key) {\n",
              "        const element = document.querySelector('#df-c9f0ab61-c338-4561-8b54-26a5848540de');\n",
              "        const dataTable =\n",
              "          await google.colab.kernel.invokeFunction('convertToInteractive',\n",
              "                                                    [key], {});\n",
              "        if (!dataTable) return;\n",
              "\n",
              "        const docLinkHtml = 'Like what you see? Visit the ' +\n",
              "          '<a target=\"_blank\" href=https://colab.research.google.com/notebooks/data_table.ipynb>data table notebook</a>'\n",
              "          + ' to learn more about interactive tables.';\n",
              "        element.innerHTML = '';\n",
              "        dataTable['output_type'] = 'display_data';\n",
              "        await google.colab.output.renderOutput(dataTable, element);\n",
              "        const docLink = document.createElement('div');\n",
              "        docLink.innerHTML = docLinkHtml;\n",
              "        element.appendChild(docLink);\n",
              "      }\n",
              "    </script>\n",
              "  </div>\n",
              "\n",
              "\n",
              "<div id=\"df-539a3f90-0995-41f8-a600-72f351e0fda1\">\n",
              "  <button class=\"colab-df-quickchart\" onclick=\"quickchart('df-539a3f90-0995-41f8-a600-72f351e0fda1')\"\n",
              "            title=\"Suggest charts\"\n",
              "            style=\"display:none;\">\n",
              "\n",
              "<svg xmlns=\"http://www.w3.org/2000/svg\" height=\"24px\"viewBox=\"0 0 24 24\"\n",
              "     width=\"24px\">\n",
              "    <g>\n",
              "        <path d=\"M19 3H5c-1.1 0-2 .9-2 2v14c0 1.1.9 2 2 2h14c1.1 0 2-.9 2-2V5c0-1.1-.9-2-2-2zM9 17H7v-7h2v7zm4 0h-2V7h2v10zm4 0h-2v-4h2v4z\"/>\n",
              "    </g>\n",
              "</svg>\n",
              "  </button>\n",
              "\n",
              "<style>\n",
              "  .colab-df-quickchart {\n",
              "      --bg-color: #E8F0FE;\n",
              "      --fill-color: #1967D2;\n",
              "      --hover-bg-color: #E2EBFA;\n",
              "      --hover-fill-color: #174EA6;\n",
              "      --disabled-fill-color: #AAA;\n",
              "      --disabled-bg-color: #DDD;\n",
              "  }\n",
              "\n",
              "  [theme=dark] .colab-df-quickchart {\n",
              "      --bg-color: #3B4455;\n",
              "      --fill-color: #D2E3FC;\n",
              "      --hover-bg-color: #434B5C;\n",
              "      --hover-fill-color: #FFFFFF;\n",
              "      --disabled-bg-color: #3B4455;\n",
              "      --disabled-fill-color: #666;\n",
              "  }\n",
              "\n",
              "  .colab-df-quickchart {\n",
              "    background-color: var(--bg-color);\n",
              "    border: none;\n",
              "    border-radius: 50%;\n",
              "    cursor: pointer;\n",
              "    display: none;\n",
              "    fill: var(--fill-color);\n",
              "    height: 32px;\n",
              "    padding: 0;\n",
              "    width: 32px;\n",
              "  }\n",
              "\n",
              "  .colab-df-quickchart:hover {\n",
              "    background-color: var(--hover-bg-color);\n",
              "    box-shadow: 0 1px 2px rgba(60, 64, 67, 0.3), 0 1px 3px 1px rgba(60, 64, 67, 0.15);\n",
              "    fill: var(--button-hover-fill-color);\n",
              "  }\n",
              "\n",
              "  .colab-df-quickchart-complete:disabled,\n",
              "  .colab-df-quickchart-complete:disabled:hover {\n",
              "    background-color: var(--disabled-bg-color);\n",
              "    fill: var(--disabled-fill-color);\n",
              "    box-shadow: none;\n",
              "  }\n",
              "\n",
              "  .colab-df-spinner {\n",
              "    border: 2px solid var(--fill-color);\n",
              "    border-color: transparent;\n",
              "    border-bottom-color: var(--fill-color);\n",
              "    animation:\n",
              "      spin 1s steps(1) infinite;\n",
              "  }\n",
              "\n",
              "  @keyframes spin {\n",
              "    0% {\n",
              "      border-color: transparent;\n",
              "      border-bottom-color: var(--fill-color);\n",
              "      border-left-color: var(--fill-color);\n",
              "    }\n",
              "    20% {\n",
              "      border-color: transparent;\n",
              "      border-left-color: var(--fill-color);\n",
              "      border-top-color: var(--fill-color);\n",
              "    }\n",
              "    30% {\n",
              "      border-color: transparent;\n",
              "      border-left-color: var(--fill-color);\n",
              "      border-top-color: var(--fill-color);\n",
              "      border-right-color: var(--fill-color);\n",
              "    }\n",
              "    40% {\n",
              "      border-color: transparent;\n",
              "      border-right-color: var(--fill-color);\n",
              "      border-top-color: var(--fill-color);\n",
              "    }\n",
              "    60% {\n",
              "      border-color: transparent;\n",
              "      border-right-color: var(--fill-color);\n",
              "    }\n",
              "    80% {\n",
              "      border-color: transparent;\n",
              "      border-right-color: var(--fill-color);\n",
              "      border-bottom-color: var(--fill-color);\n",
              "    }\n",
              "    90% {\n",
              "      border-color: transparent;\n",
              "      border-bottom-color: var(--fill-color);\n",
              "    }\n",
              "  }\n",
              "</style>\n",
              "\n",
              "  <script>\n",
              "    async function quickchart(key) {\n",
              "      const quickchartButtonEl =\n",
              "        document.querySelector('#' + key + ' button');\n",
              "      quickchartButtonEl.disabled = true;  // To prevent multiple clicks.\n",
              "      quickchartButtonEl.classList.add('colab-df-spinner');\n",
              "      try {\n",
              "        const charts = await google.colab.kernel.invokeFunction(\n",
              "            'suggestCharts', [key], {});\n",
              "      } catch (error) {\n",
              "        console.error('Error during call to suggestCharts:', error);\n",
              "      }\n",
              "      quickchartButtonEl.classList.remove('colab-df-spinner');\n",
              "      quickchartButtonEl.classList.add('colab-df-quickchart-complete');\n",
              "    }\n",
              "    (() => {\n",
              "      let quickchartButtonEl =\n",
              "        document.querySelector('#df-539a3f90-0995-41f8-a600-72f351e0fda1 button');\n",
              "      quickchartButtonEl.style.display =\n",
              "        google.colab.kernel.accessAllowed ? 'block' : 'none';\n",
              "    })();\n",
              "  </script>\n",
              "</div>\n",
              "\n",
              "    </div>\n",
              "  </div>\n"
            ]
          },
          "metadata": {},
          "execution_count": 6
        }
      ]
    },
    {
      "cell_type": "markdown",
      "source": [
        "`MinMaxScaler()` 최소/최대값이 각각 0, 1이 되도록 하여스 모든 feature 값이 0~1 사이에 있도록 데이터를 재조정합니다.\n",
        "\n",
        "$$ Y = \\frac{X-X_{min}}{X_{max}-X_{min}} $$\n",
        "\n"
      ],
      "metadata": {
        "id": "QOQVwb_YRjB_"
      }
    },
    {
      "cell_type": "code",
      "source": [
        "from sklearn.preprocessing import MinMaxScaler\n",
        "\n",
        "# 입력 변수 설정\n",
        "input_data = df[['open', 'high', 'low', 'close', 'Return']].values\n",
        "scaler = MinMaxScaler()\n",
        "input_data = scaler.fit_transform(input_data)\n",
        "\n",
        "print(input_data.shape)\n",
        "input_data"
      ],
      "metadata": {
        "id": "dW8vn19ZJ_e0",
        "outputId": "46cdd2cb-40f3-4aaa-98d9-36fb8421db1a",
        "colab": {
          "base_uri": "https://localhost:8080/"
        }
      },
      "execution_count": 7,
      "outputs": [
        {
          "output_type": "stream",
          "name": "stdout",
          "text": [
            "(2269, 5)\n"
          ]
        },
        {
          "output_type": "execute_result",
          "data": {
            "text/plain": [
              "array([[0.00746959, 0.00820097, 0.00802094, 0.00903785,        nan],\n",
              "       [0.00896094, 0.00927672, 0.00980046, 0.00902499, 0.52942638],\n",
              "       [0.00902522, 0.01255458, 0.00989205, 0.01334465, 0.65429073],\n",
              "       ...,\n",
              "       [0.72674912, 0.71771183, 0.73428852, 0.72589479, 0.52819959],\n",
              "       [0.72590059, 0.71621844, 0.73275761, 0.72271933, 0.523215  ],\n",
              "       [0.7227122 , 0.711675  , 0.67907098, 0.67124344, 0.42266169]])"
            ]
          },
          "metadata": {},
          "execution_count": 7
        }
      ]
    },
    {
      "cell_type": "markdown",
      "source": [
        "학습 데이터는 전체 데이터의 70%로 합니다."
      ],
      "metadata": {
        "id": "gpZIW-YqkGDf"
      }
    },
    {
      "cell_type": "code",
      "source": [
        "import math\n",
        "\n",
        "# 학습용 데이터 설정\n",
        "train_len = math.ceil(len(input_data) * 0.7)\n",
        "train = input_data[0:train_len]\n",
        "print(\"Train data shape:\", train.shape)"
      ],
      "metadata": {
        "colab": {
          "base_uri": "https://localhost:8080/"
        },
        "id": "o062q-tAjQs1",
        "outputId": "005a2e6f-5179-4b1e-c174-923cf9e085e1"
      },
      "execution_count": 8,
      "outputs": [
        {
          "output_type": "stream",
          "name": "stdout",
          "text": [
            "Train data shape: (1589, 5)\n"
          ]
        }
      ]
    },
    {
      "cell_type": "markdown",
      "source": [
        "연속된 5일의 데이터를 하나의 시퀀스로 설정하고 특성(features) 변수와 타겟(target) 변수를 분리합니다. 시퀀스를 설정하는 것이 시계열 패턴의 데이터를 학습하기에 용이합니다."
      ],
      "metadata": {
        "id": "UqOWtUehx6GE"
      }
    },
    {
      "cell_type": "code",
      "source": [
        "import numpy as np\n",
        "\n",
        "# 시퀀스 설정\n",
        "sequence_length = 5\n",
        "X_train = []  # features\n",
        "y_train = []  # target\n",
        "\n",
        "for i in range(sequence_length, len(train)):\n",
        "    X_train.append(train[i-sequence_length:i, :])\n",
        "    y_train.append(train[i, 0])\n",
        "\n",
        "X_train, y_train = np.array(X_train), np.array(y_train)\n",
        "\n",
        "print(\"X_train shape:\", X_train.shape)\n",
        "print(\"y_train shape:\", y_train.shape)"
      ],
      "metadata": {
        "colab": {
          "base_uri": "https://localhost:8080/"
        },
        "id": "kpgD6ZadlPhc",
        "outputId": "7dc15d1b-f3b2-416c-98d4-5d091f6c81b8"
      },
      "execution_count": 10,
      "outputs": [
        {
          "output_type": "stream",
          "name": "stdout",
          "text": [
            "X_train shape: (1584, 5, 5)\n",
            "y_train shape: (1584,)\n"
          ]
        }
      ]
    },
    {
      "cell_type": "code",
      "source": [
        "X_train[0]"
      ],
      "metadata": {
        "colab": {
          "base_uri": "https://localhost:8080/"
        },
        "id": "ykrRCTegzvXs",
        "outputId": "a63eea95-0050-4f30-f1a5-ec892f9bacf0"
      },
      "execution_count": 11,
      "outputs": [
        {
          "output_type": "execute_result",
          "data": {
            "text/plain": [
              "array([[0.00746959, 0.00820097, 0.00802094, 0.00903785,        nan],\n",
              "       [0.00896094, 0.00927672, 0.00980046, 0.00902499, 0.52942638],\n",
              "       [0.00902522, 0.01255458, 0.00989205, 0.01334465, 0.65429073],\n",
              "       [0.01333213, 0.01375688, 0.01252208, 0.01243186, 0.50538808],\n",
              "       [0.01241933, 0.01295956, 0.01195944, 0.01334465, 0.55458344]])"
            ]
          },
          "metadata": {},
          "execution_count": 11
        }
      ]
    },
    {
      "cell_type": "code",
      "source": [
        "# 테스트 데이터 설정\n",
        "test = input_data[train_len - sequence_length:]\n",
        "test.shape\n",
        "# x_test = []\n",
        "# y_test = df['close'][train_data_len:].values\n",
        "\n",
        "# for i in range(sequence_length, len(test_data)):\n",
        "#     x_test.append(test_data[i-sequence_length:i, :])\n",
        "\n",
        "# x_test = np.array(x_test)"
      ],
      "metadata": {
        "id": "WK-PfpBOoWYH",
        "outputId": "662d7c27-e7bb-45e4-aa27-7e52162cef33",
        "colab": {
          "base_uri": "https://localhost:8080/"
        }
      },
      "execution_count": 15,
      "outputs": [
        {
          "output_type": "execute_result",
          "data": {
            "text/plain": [
              "(685, 5)"
            ]
          },
          "metadata": {},
          "execution_count": 15
        }
      ]
    },
    {
      "cell_type": "markdown",
      "source": [
        "### 2. 모델 설정"
      ],
      "metadata": {
        "id": "mCCQob0yHnCH"
      }
    },
    {
      "cell_type": "code",
      "source": [
        "import tensorflow as tf\n",
        "\n",
        "model = tf.keras.models.Sequential([\n",
        "    tf.keras.layers.LSTM(units=50, return_sequences=True, input_shape=(X_train.shape[1], 5)),\n",
        "    tf.keras.layers.Dropout(0.1),\n",
        "    tf.keras.layers.LSTM(units=50, return_sequences=False),\n",
        "    tf.keras.layers.Dense(25),\n",
        "    tf.keras.layers.Dense(1),\n",
        "])\n",
        "\n",
        "# 모델 컴파일\n",
        "adam = Adam(lr=0.01)\n",
        "model.compile(optimizer=adam, loss='mean_squared_error')"
      ],
      "metadata": {
        "id": "rL1_k099Hq9o"
      },
      "execution_count": null,
      "outputs": []
    },
    {
      "cell_type": "code",
      "source": [
        "from sklearn.model_selection import TimeSeriesSplit\n",
        "\n",
        "# Features and target\n",
        "X = df.drop('profit_loss', axis=1)\n",
        "y = df['profit_loss']\n",
        "\n",
        "# Cross-Validation\n",
        "tscv = TimeSeriesSplit(n_splits=5)"
      ],
      "metadata": {
        "id": "h9Kpg-Tqd1BV"
      },
      "execution_count": null,
      "outputs": []
    },
    {
      "cell_type": "markdown",
      "source": [
        "> **기준 모델(Baseline Model)**은 예측 문제를 해결하기 위해 설정하는 단순한 모델이나 기준을 의미합니다. 이 모델은 일반적으로 복잡한 머신러닝 모델을 사용하기 전에, 문제를 얼마나 잘 이해하고 있는지, 어떤 방식으로 접근해야하는지를 판단하는 데 도움을 줍니다.\n",
        "\n",
        "본 프로젝트에서는 타겟 변수의 **최빈값**으로 기준모델을 설정합니다.\n",
        "\n"
      ],
      "metadata": {
        "id": "tntawJ3u2ZaT"
      }
    },
    {
      "cell_type": "code",
      "source": [
        "from sklearn.metrics import classification_report\n",
        "\n",
        "for train_index, test_index in tscv.split(y):\n",
        "  y_train, y_test = y.iloc[train_index], y.iloc[test_index]\n",
        "\n",
        "  base = y_train.mode()[0]  # 최빈값\n",
        "  base_pred = [base] * len(y_test)\n",
        "\n",
        "  # 성능 평가\n",
        "  print('Base Model Report:')\n",
        "  print(classification_report(y_test, base_pred))\n",
        "  print('-'*53)"
      ],
      "metadata": {
        "id": "y175u5275R4d"
      },
      "execution_count": null,
      "outputs": []
    },
    {
      "cell_type": "code",
      "source": [
        "from sklearn.linear_model import LogisticRegression\n",
        "\n",
        "model = LogisticRegression()\n",
        "\n",
        "for train_index, test_index in tscv.split(X):\n",
        "  X_train, X_test = X.iloc[train_index], X.iloc[test_index]\n",
        "  y_train, y_test = y.iloc[train_index], y.iloc[test_index]\n",
        "\n",
        "  model.fit(X_train, y_train)\n",
        "  y_pred = model.predict(X_test)\n",
        "\n",
        "  # 성능 평가\n",
        "  print('Logistic Regression Report:')\n",
        "  print(classification_report(y_test, y_pred))\n",
        "  print('-'*53)"
      ],
      "metadata": {
        "id": "516RTgsRONaF"
      },
      "execution_count": null,
      "outputs": []
    },
    {
      "cell_type": "markdown",
      "source": [
        "### 데이터 정규화 및 기준모델의 정확도 계산"
      ],
      "metadata": {
        "id": "Nd5RM0fW5U0s"
      }
    },
    {
      "cell_type": "code",
      "source": [
        "from sklearn.metrics import accuracy_score\n",
        "from sklearn.preprocessing import StandardScaler\n",
        "\n",
        "# Scaling\n",
        "scaler_std = StandardScaler()\n",
        "\n",
        "X_train_std = scaler_std.fit_transform(X_train)\n",
        "X_test_std = scaler_std.transform(X_test)\n",
        "\n",
        "\n",
        "# 기준모델\n",
        "base = y_train.mode()[0]\n",
        "baseline = len(y_train) * [base]\n",
        "y_pred_base = len(y_test) * [base]\n",
        "# 기준모델의 정확도\n",
        "print(\"Train accuracy:\", accuracy_score(y_train, baseline).round(3))\n",
        "print(\"Test accuracy:\", accuracy_score(y_test, y_pred_base).round(3))"
      ],
      "metadata": {
        "id": "sv23Oz0cNMwW"
      },
      "execution_count": null,
      "outputs": []
    },
    {
      "cell_type": "markdown",
      "source": [
        "### 기준모델의 Confusion Matrix"
      ],
      "metadata": {
        "id": "BOPMK3bg5l7R"
      }
    },
    {
      "cell_type": "code",
      "source": [
        "y_true0 = y_test.value_counts()[0]\n",
        "y_true1 = y_test.value_counts()[1]\n",
        "confusion_base = pd.DataFrame(index = ['True 0', 'True 1'], data = {'Predicted 0':[0,0], 'Predicted 1':[y_true0,y_true1]})\n",
        "confusion_base"
      ],
      "metadata": {
        "id": "WsKQrRQu5rLO"
      },
      "execution_count": null,
      "outputs": []
    },
    {
      "cell_type": "markdown",
      "source": [
        "### 모델의 정확도"
      ],
      "metadata": {
        "id": "0TcPxbqg6HrL"
      }
    },
    {
      "cell_type": "code",
      "source": [
        "from sklearn.linear_model import LogisticRegressionCV\n",
        "from sklearn.model_selection import cross_val_score\n",
        "\n",
        "# 로지스틱 회귀\n",
        "logCV_model = LogisticRegressionCV(cv=5)\n",
        "logCV_model.fit(X_train_std, y_train)\n",
        "\n",
        "# 로지스틱 회귀모델의 정확도\n",
        "print(\"Train accuracy:\", logCV_model.score(X_train_std, y_train).round(3))"
      ],
      "metadata": {
        "id": "fHx4JBvZuG3O"
      },
      "execution_count": null,
      "outputs": []
    },
    {
      "cell_type": "markdown",
      "source": [
        "### 평가지표"
      ],
      "metadata": {
        "id": "EKtxkqEw6QSc"
      }
    },
    {
      "cell_type": "code",
      "source": [
        "from sklearn.metrics import classification_report\n",
        "\n",
        "y_pred_test_log = logCV_model.predict(X_test_std)\n",
        "\n",
        "print(classification_report(y_test, y_pred_test_log))"
      ],
      "metadata": {
        "id": "yVLgenIQvjTY"
      },
      "execution_count": null,
      "outputs": []
    }
  ]
}