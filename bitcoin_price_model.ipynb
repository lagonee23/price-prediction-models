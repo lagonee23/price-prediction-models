{
  "nbformat": 4,
  "nbformat_minor": 0,
  "metadata": {
    "colab": {
      "provenance": [],
      "include_colab_link": true
    },
    "kernelspec": {
      "name": "python3",
      "display_name": "Python 3"
    },
    "language_info": {
      "name": "python"
    }
  },
  "cells": [
    {
      "cell_type": "markdown",
      "metadata": {
        "id": "view-in-github",
        "colab_type": "text"
      },
      "source": [
        "<a href=\"https://colab.research.google.com/github/lagonee23/price-prediction-models/blob/main/bitcoin_price_model.ipynb\" target=\"_parent\"><img src=\"https://colab.research.google.com/assets/colab-badge.svg\" alt=\"Open In Colab\"/></a>"
      ]
    },
    {
      "cell_type": "markdown",
      "source": [
        "# 암호화폐(BitCoin)의 가격 예측 모델\n"
      ],
      "metadata": {
        "id": "ncvk3adDf-Fg"
      }
    },
    {
      "cell_type": "markdown",
      "source": [
        "### 필요 모듈 설치\n",
        "> [pyupbit](https://github.com/sharebook-kr/pyupbit) 모듈은 업비트라는 암호화폐 거래소의 API를 파이썬에서 쉽게 사용하기 위해 개발되었습니다.\n",
        "해당 라이브러리를 통해 암호화폐의 현재 가격, 매매 주문 등의 정보를 쉽게 얻어올 수 있습니다."
      ],
      "metadata": {
        "id": "XJeMqxahkERA"
      }
    },
    {
      "cell_type": "code",
      "execution_count": 3,
      "metadata": {
        "id": "KMzzvcnMk7U5",
        "outputId": "1a2534e9-823f-4585-f69d-33eff362bd49",
        "colab": {
          "base_uri": "https://localhost:8080/"
        }
      },
      "outputs": [
        {
          "output_type": "stream",
          "name": "stdout",
          "text": [
            "Collecting pyupbit\n",
            "  Downloading pyupbit-0.2.33-py3-none-any.whl (24 kB)\n",
            "Requirement already satisfied: pyjwt>=2.0.0 in /usr/lib/python3/dist-packages (from pyupbit) (2.3.0)\n",
            "Requirement already satisfied: pandas in /usr/local/lib/python3.10/dist-packages (from pyupbit) (1.5.3)\n",
            "Requirement already satisfied: requests in /usr/local/lib/python3.10/dist-packages (from pyupbit) (2.31.0)\n",
            "Collecting websockets (from pyupbit)\n",
            "  Downloading websockets-12.0-cp310-cp310-manylinux_2_5_x86_64.manylinux1_x86_64.manylinux_2_17_x86_64.manylinux2014_x86_64.whl (130 kB)\n",
            "\u001b[2K     \u001b[90m━━━━━━━━━━━━━━━━━━━━━━━━━━━━━━━━━━━━━━━━\u001b[0m \u001b[32m130.2/130.2 kB\u001b[0m \u001b[31m3.9 MB/s\u001b[0m eta \u001b[36m0:00:00\u001b[0m\n",
            "\u001b[?25hRequirement already satisfied: python-dateutil>=2.8.1 in /usr/local/lib/python3.10/dist-packages (from pandas->pyupbit) (2.8.2)\n",
            "Requirement already satisfied: pytz>=2020.1 in /usr/local/lib/python3.10/dist-packages (from pandas->pyupbit) (2023.3.post1)\n",
            "Requirement already satisfied: numpy>=1.21.0 in /usr/local/lib/python3.10/dist-packages (from pandas->pyupbit) (1.23.5)\n",
            "Requirement already satisfied: charset-normalizer<4,>=2 in /usr/local/lib/python3.10/dist-packages (from requests->pyupbit) (3.3.2)\n",
            "Requirement already satisfied: idna<4,>=2.5 in /usr/local/lib/python3.10/dist-packages (from requests->pyupbit) (3.6)\n",
            "Requirement already satisfied: urllib3<3,>=1.21.1 in /usr/local/lib/python3.10/dist-packages (from requests->pyupbit) (2.0.7)\n",
            "Requirement already satisfied: certifi>=2017.4.17 in /usr/local/lib/python3.10/dist-packages (from requests->pyupbit) (2023.11.17)\n",
            "Requirement already satisfied: six>=1.5 in /usr/local/lib/python3.10/dist-packages (from python-dateutil>=2.8.1->pandas->pyupbit) (1.16.0)\n",
            "Installing collected packages: websockets, pyupbit\n",
            "Successfully installed pyupbit-0.2.33 websockets-12.0\n",
            "Requirement already satisfied: xgboost in /usr/local/lib/python3.10/dist-packages (2.0.2)\n",
            "Requirement already satisfied: numpy in /usr/local/lib/python3.10/dist-packages (from xgboost) (1.23.5)\n",
            "Requirement already satisfied: scipy in /usr/local/lib/python3.10/dist-packages (from xgboost) (1.11.4)\n",
            "Collecting bayesian-optimization\n",
            "  Downloading bayesian_optimization-1.4.3-py3-none-any.whl (18 kB)\n",
            "Requirement already satisfied: numpy>=1.9.0 in /usr/local/lib/python3.10/dist-packages (from bayesian-optimization) (1.23.5)\n",
            "Requirement already satisfied: scipy>=1.0.0 in /usr/local/lib/python3.10/dist-packages (from bayesian-optimization) (1.11.4)\n",
            "Requirement already satisfied: scikit-learn>=0.18.0 in /usr/local/lib/python3.10/dist-packages (from bayesian-optimization) (1.2.2)\n",
            "Collecting colorama>=0.4.6 (from bayesian-optimization)\n",
            "  Downloading colorama-0.4.6-py2.py3-none-any.whl (25 kB)\n",
            "Requirement already satisfied: joblib>=1.1.1 in /usr/local/lib/python3.10/dist-packages (from scikit-learn>=0.18.0->bayesian-optimization) (1.3.2)\n",
            "Requirement already satisfied: threadpoolctl>=2.0.0 in /usr/local/lib/python3.10/dist-packages (from scikit-learn>=0.18.0->bayesian-optimization) (3.2.0)\n",
            "Installing collected packages: colorama, bayesian-optimization\n",
            "Successfully installed bayesian-optimization-1.4.3 colorama-0.4.6\n"
          ]
        }
      ],
      "source": [
        "!pip install pyupbit\n",
        "!pip3 install xgboost\n",
        "!pip3 install bayesian-optimization"
      ]
    },
    {
      "cell_type": "markdown",
      "source": [
        "### 업비트에서 일봉(day)차트의 데이터 가져오기\n",
        "* `open`: 시가\n",
        "* `high`: 고가\n",
        "* `low`: 저가\n",
        "* `close`: 종가\n",
        "* `volume`: 거래량\n",
        "* `value`: 거래대금\n",
        "\n",
        "> 업비트는 한국 거래소이므로 데이터의 단위는 원화(￦)입니다."
      ],
      "metadata": {
        "id": "RVlfb5-o2nCE"
      }
    },
    {
      "cell_type": "code",
      "source": [
        "import pyupbit\n",
        "\n",
        "# UpBit에서 비트코인 가격 데이터 가져오기\n",
        "df_origin = pyupbit.get_ohlcv(\"KRW-BTC\", \"day\", count=2500, period=1)\n",
        "df_origin"
      ],
      "metadata": {
        "colab": {
          "base_uri": "https://localhost:8080/",
          "height": 423
        },
        "id": "WpIDxLunozsW",
        "outputId": "5f8cee5b-ca62-4d36-e30b-b1133448d3cf"
      },
      "execution_count": 4,
      "outputs": [
        {
          "output_type": "execute_result",
          "data": {
            "text/plain": [
              "                           open        high         low       close  \\\n",
              "2017-09-25 09:00:00   4201000.0   4333000.0   4175000.0   4322000.0   \n",
              "2017-09-26 09:00:00   4317000.0   4418000.0   4311000.0   4321000.0   \n",
              "2017-09-27 09:00:00   4322000.0   4677000.0   4318000.0   4657000.0   \n",
              "2017-09-28 09:00:00   4657000.0   4772000.0   4519000.0   4586000.0   \n",
              "2017-09-29 09:00:00   4586000.0   4709000.0   4476000.0   4657000.0   \n",
              "...                         ...         ...         ...         ...   \n",
              "2023-12-05 09:00:00  56922000.0  60769000.0  56000000.0  60227000.0   \n",
              "2023-12-06 09:00:00  60230000.0  61312000.0  59572000.0  60314000.0   \n",
              "2023-12-07 09:00:00  60295000.0  60958000.0  58555000.0  59250000.0   \n",
              "2023-12-08 09:00:00  59237000.0  60753000.0  58750000.0  60142000.0   \n",
              "2023-12-09 09:00:00  60148000.0  60395000.0  60058000.0  60082000.0   \n",
              "\n",
              "                          volume         value  \n",
              "2017-09-25 09:00:00   132.484755  5.602146e+08  \n",
              "2017-09-26 09:00:00    22.788340  9.950724e+07  \n",
              "2017-09-27 09:00:00    32.269662  1.448276e+08  \n",
              "2017-09-28 09:00:00    80.588243  3.721860e+08  \n",
              "2017-09-29 09:00:00    59.352373  2.724558e+08  \n",
              "...                          ...           ...  \n",
              "2023-12-05 09:00:00  9996.252712  5.807882e+11  \n",
              "2023-12-06 09:00:00  8840.709910  5.336398e+11  \n",
              "2023-12-07 09:00:00  8318.924757  4.969294e+11  \n",
              "2023-12-08 09:00:00  5252.133202  3.128890e+11  \n",
              "2023-12-09 09:00:00   392.209170  2.362218e+10  \n",
              "\n",
              "[2267 rows x 6 columns]"
            ],
            "text/html": [
              "\n",
              "  <div id=\"df-66a52d31-82e5-4ca7-8e10-1a734603d98f\" class=\"colab-df-container\">\n",
              "    <div>\n",
              "<style scoped>\n",
              "    .dataframe tbody tr th:only-of-type {\n",
              "        vertical-align: middle;\n",
              "    }\n",
              "\n",
              "    .dataframe tbody tr th {\n",
              "        vertical-align: top;\n",
              "    }\n",
              "\n",
              "    .dataframe thead th {\n",
              "        text-align: right;\n",
              "    }\n",
              "</style>\n",
              "<table border=\"1\" class=\"dataframe\">\n",
              "  <thead>\n",
              "    <tr style=\"text-align: right;\">\n",
              "      <th></th>\n",
              "      <th>open</th>\n",
              "      <th>high</th>\n",
              "      <th>low</th>\n",
              "      <th>close</th>\n",
              "      <th>volume</th>\n",
              "      <th>value</th>\n",
              "    </tr>\n",
              "  </thead>\n",
              "  <tbody>\n",
              "    <tr>\n",
              "      <th>2017-09-25 09:00:00</th>\n",
              "      <td>4201000.0</td>\n",
              "      <td>4333000.0</td>\n",
              "      <td>4175000.0</td>\n",
              "      <td>4322000.0</td>\n",
              "      <td>132.484755</td>\n",
              "      <td>5.602146e+08</td>\n",
              "    </tr>\n",
              "    <tr>\n",
              "      <th>2017-09-26 09:00:00</th>\n",
              "      <td>4317000.0</td>\n",
              "      <td>4418000.0</td>\n",
              "      <td>4311000.0</td>\n",
              "      <td>4321000.0</td>\n",
              "      <td>22.788340</td>\n",
              "      <td>9.950724e+07</td>\n",
              "    </tr>\n",
              "    <tr>\n",
              "      <th>2017-09-27 09:00:00</th>\n",
              "      <td>4322000.0</td>\n",
              "      <td>4677000.0</td>\n",
              "      <td>4318000.0</td>\n",
              "      <td>4657000.0</td>\n",
              "      <td>32.269662</td>\n",
              "      <td>1.448276e+08</td>\n",
              "    </tr>\n",
              "    <tr>\n",
              "      <th>2017-09-28 09:00:00</th>\n",
              "      <td>4657000.0</td>\n",
              "      <td>4772000.0</td>\n",
              "      <td>4519000.0</td>\n",
              "      <td>4586000.0</td>\n",
              "      <td>80.588243</td>\n",
              "      <td>3.721860e+08</td>\n",
              "    </tr>\n",
              "    <tr>\n",
              "      <th>2017-09-29 09:00:00</th>\n",
              "      <td>4586000.0</td>\n",
              "      <td>4709000.0</td>\n",
              "      <td>4476000.0</td>\n",
              "      <td>4657000.0</td>\n",
              "      <td>59.352373</td>\n",
              "      <td>2.724558e+08</td>\n",
              "    </tr>\n",
              "    <tr>\n",
              "      <th>...</th>\n",
              "      <td>...</td>\n",
              "      <td>...</td>\n",
              "      <td>...</td>\n",
              "      <td>...</td>\n",
              "      <td>...</td>\n",
              "      <td>...</td>\n",
              "    </tr>\n",
              "    <tr>\n",
              "      <th>2023-12-05 09:00:00</th>\n",
              "      <td>56922000.0</td>\n",
              "      <td>60769000.0</td>\n",
              "      <td>56000000.0</td>\n",
              "      <td>60227000.0</td>\n",
              "      <td>9996.252712</td>\n",
              "      <td>5.807882e+11</td>\n",
              "    </tr>\n",
              "    <tr>\n",
              "      <th>2023-12-06 09:00:00</th>\n",
              "      <td>60230000.0</td>\n",
              "      <td>61312000.0</td>\n",
              "      <td>59572000.0</td>\n",
              "      <td>60314000.0</td>\n",
              "      <td>8840.709910</td>\n",
              "      <td>5.336398e+11</td>\n",
              "    </tr>\n",
              "    <tr>\n",
              "      <th>2023-12-07 09:00:00</th>\n",
              "      <td>60295000.0</td>\n",
              "      <td>60958000.0</td>\n",
              "      <td>58555000.0</td>\n",
              "      <td>59250000.0</td>\n",
              "      <td>8318.924757</td>\n",
              "      <td>4.969294e+11</td>\n",
              "    </tr>\n",
              "    <tr>\n",
              "      <th>2023-12-08 09:00:00</th>\n",
              "      <td>59237000.0</td>\n",
              "      <td>60753000.0</td>\n",
              "      <td>58750000.0</td>\n",
              "      <td>60142000.0</td>\n",
              "      <td>5252.133202</td>\n",
              "      <td>3.128890e+11</td>\n",
              "    </tr>\n",
              "    <tr>\n",
              "      <th>2023-12-09 09:00:00</th>\n",
              "      <td>60148000.0</td>\n",
              "      <td>60395000.0</td>\n",
              "      <td>60058000.0</td>\n",
              "      <td>60082000.0</td>\n",
              "      <td>392.209170</td>\n",
              "      <td>2.362218e+10</td>\n",
              "    </tr>\n",
              "  </tbody>\n",
              "</table>\n",
              "<p>2267 rows × 6 columns</p>\n",
              "</div>\n",
              "    <div class=\"colab-df-buttons\">\n",
              "\n",
              "  <div class=\"colab-df-container\">\n",
              "    <button class=\"colab-df-convert\" onclick=\"convertToInteractive('df-66a52d31-82e5-4ca7-8e10-1a734603d98f')\"\n",
              "            title=\"Convert this dataframe to an interactive table.\"\n",
              "            style=\"display:none;\">\n",
              "\n",
              "  <svg xmlns=\"http://www.w3.org/2000/svg\" height=\"24px\" viewBox=\"0 -960 960 960\">\n",
              "    <path d=\"M120-120v-720h720v720H120Zm60-500h600v-160H180v160Zm220 220h160v-160H400v160Zm0 220h160v-160H400v160ZM180-400h160v-160H180v160Zm440 0h160v-160H620v160ZM180-180h160v-160H180v160Zm440 0h160v-160H620v160Z\"/>\n",
              "  </svg>\n",
              "    </button>\n",
              "\n",
              "  <style>\n",
              "    .colab-df-container {\n",
              "      display:flex;\n",
              "      gap: 12px;\n",
              "    }\n",
              "\n",
              "    .colab-df-convert {\n",
              "      background-color: #E8F0FE;\n",
              "      border: none;\n",
              "      border-radius: 50%;\n",
              "      cursor: pointer;\n",
              "      display: none;\n",
              "      fill: #1967D2;\n",
              "      height: 32px;\n",
              "      padding: 0 0 0 0;\n",
              "      width: 32px;\n",
              "    }\n",
              "\n",
              "    .colab-df-convert:hover {\n",
              "      background-color: #E2EBFA;\n",
              "      box-shadow: 0px 1px 2px rgba(60, 64, 67, 0.3), 0px 1px 3px 1px rgba(60, 64, 67, 0.15);\n",
              "      fill: #174EA6;\n",
              "    }\n",
              "\n",
              "    .colab-df-buttons div {\n",
              "      margin-bottom: 4px;\n",
              "    }\n",
              "\n",
              "    [theme=dark] .colab-df-convert {\n",
              "      background-color: #3B4455;\n",
              "      fill: #D2E3FC;\n",
              "    }\n",
              "\n",
              "    [theme=dark] .colab-df-convert:hover {\n",
              "      background-color: #434B5C;\n",
              "      box-shadow: 0px 1px 3px 1px rgba(0, 0, 0, 0.15);\n",
              "      filter: drop-shadow(0px 1px 2px rgba(0, 0, 0, 0.3));\n",
              "      fill: #FFFFFF;\n",
              "    }\n",
              "  </style>\n",
              "\n",
              "    <script>\n",
              "      const buttonEl =\n",
              "        document.querySelector('#df-66a52d31-82e5-4ca7-8e10-1a734603d98f button.colab-df-convert');\n",
              "      buttonEl.style.display =\n",
              "        google.colab.kernel.accessAllowed ? 'block' : 'none';\n",
              "\n",
              "      async function convertToInteractive(key) {\n",
              "        const element = document.querySelector('#df-66a52d31-82e5-4ca7-8e10-1a734603d98f');\n",
              "        const dataTable =\n",
              "          await google.colab.kernel.invokeFunction('convertToInteractive',\n",
              "                                                    [key], {});\n",
              "        if (!dataTable) return;\n",
              "\n",
              "        const docLinkHtml = 'Like what you see? Visit the ' +\n",
              "          '<a target=\"_blank\" href=https://colab.research.google.com/notebooks/data_table.ipynb>data table notebook</a>'\n",
              "          + ' to learn more about interactive tables.';\n",
              "        element.innerHTML = '';\n",
              "        dataTable['output_type'] = 'display_data';\n",
              "        await google.colab.output.renderOutput(dataTable, element);\n",
              "        const docLink = document.createElement('div');\n",
              "        docLink.innerHTML = docLinkHtml;\n",
              "        element.appendChild(docLink);\n",
              "      }\n",
              "    </script>\n",
              "  </div>\n",
              "\n",
              "\n",
              "<div id=\"df-d8e427db-b68e-42d3-ab2a-5e4f7f6fa793\">\n",
              "  <button class=\"colab-df-quickchart\" onclick=\"quickchart('df-d8e427db-b68e-42d3-ab2a-5e4f7f6fa793')\"\n",
              "            title=\"Suggest charts\"\n",
              "            style=\"display:none;\">\n",
              "\n",
              "<svg xmlns=\"http://www.w3.org/2000/svg\" height=\"24px\"viewBox=\"0 0 24 24\"\n",
              "     width=\"24px\">\n",
              "    <g>\n",
              "        <path d=\"M19 3H5c-1.1 0-2 .9-2 2v14c0 1.1.9 2 2 2h14c1.1 0 2-.9 2-2V5c0-1.1-.9-2-2-2zM9 17H7v-7h2v7zm4 0h-2V7h2v10zm4 0h-2v-4h2v4z\"/>\n",
              "    </g>\n",
              "</svg>\n",
              "  </button>\n",
              "\n",
              "<style>\n",
              "  .colab-df-quickchart {\n",
              "      --bg-color: #E8F0FE;\n",
              "      --fill-color: #1967D2;\n",
              "      --hover-bg-color: #E2EBFA;\n",
              "      --hover-fill-color: #174EA6;\n",
              "      --disabled-fill-color: #AAA;\n",
              "      --disabled-bg-color: #DDD;\n",
              "  }\n",
              "\n",
              "  [theme=dark] .colab-df-quickchart {\n",
              "      --bg-color: #3B4455;\n",
              "      --fill-color: #D2E3FC;\n",
              "      --hover-bg-color: #434B5C;\n",
              "      --hover-fill-color: #FFFFFF;\n",
              "      --disabled-bg-color: #3B4455;\n",
              "      --disabled-fill-color: #666;\n",
              "  }\n",
              "\n",
              "  .colab-df-quickchart {\n",
              "    background-color: var(--bg-color);\n",
              "    border: none;\n",
              "    border-radius: 50%;\n",
              "    cursor: pointer;\n",
              "    display: none;\n",
              "    fill: var(--fill-color);\n",
              "    height: 32px;\n",
              "    padding: 0;\n",
              "    width: 32px;\n",
              "  }\n",
              "\n",
              "  .colab-df-quickchart:hover {\n",
              "    background-color: var(--hover-bg-color);\n",
              "    box-shadow: 0 1px 2px rgba(60, 64, 67, 0.3), 0 1px 3px 1px rgba(60, 64, 67, 0.15);\n",
              "    fill: var(--button-hover-fill-color);\n",
              "  }\n",
              "\n",
              "  .colab-df-quickchart-complete:disabled,\n",
              "  .colab-df-quickchart-complete:disabled:hover {\n",
              "    background-color: var(--disabled-bg-color);\n",
              "    fill: var(--disabled-fill-color);\n",
              "    box-shadow: none;\n",
              "  }\n",
              "\n",
              "  .colab-df-spinner {\n",
              "    border: 2px solid var(--fill-color);\n",
              "    border-color: transparent;\n",
              "    border-bottom-color: var(--fill-color);\n",
              "    animation:\n",
              "      spin 1s steps(1) infinite;\n",
              "  }\n",
              "\n",
              "  @keyframes spin {\n",
              "    0% {\n",
              "      border-color: transparent;\n",
              "      border-bottom-color: var(--fill-color);\n",
              "      border-left-color: var(--fill-color);\n",
              "    }\n",
              "    20% {\n",
              "      border-color: transparent;\n",
              "      border-left-color: var(--fill-color);\n",
              "      border-top-color: var(--fill-color);\n",
              "    }\n",
              "    30% {\n",
              "      border-color: transparent;\n",
              "      border-left-color: var(--fill-color);\n",
              "      border-top-color: var(--fill-color);\n",
              "      border-right-color: var(--fill-color);\n",
              "    }\n",
              "    40% {\n",
              "      border-color: transparent;\n",
              "      border-right-color: var(--fill-color);\n",
              "      border-top-color: var(--fill-color);\n",
              "    }\n",
              "    60% {\n",
              "      border-color: transparent;\n",
              "      border-right-color: var(--fill-color);\n",
              "    }\n",
              "    80% {\n",
              "      border-color: transparent;\n",
              "      border-right-color: var(--fill-color);\n",
              "      border-bottom-color: var(--fill-color);\n",
              "    }\n",
              "    90% {\n",
              "      border-color: transparent;\n",
              "      border-bottom-color: var(--fill-color);\n",
              "    }\n",
              "  }\n",
              "</style>\n",
              "\n",
              "  <script>\n",
              "    async function quickchart(key) {\n",
              "      const quickchartButtonEl =\n",
              "        document.querySelector('#' + key + ' button');\n",
              "      quickchartButtonEl.disabled = true;  // To prevent multiple clicks.\n",
              "      quickchartButtonEl.classList.add('colab-df-spinner');\n",
              "      try {\n",
              "        const charts = await google.colab.kernel.invokeFunction(\n",
              "            'suggestCharts', [key], {});\n",
              "      } catch (error) {\n",
              "        console.error('Error during call to suggestCharts:', error);\n",
              "      }\n",
              "      quickchartButtonEl.classList.remove('colab-df-spinner');\n",
              "      quickchartButtonEl.classList.add('colab-df-quickchart-complete');\n",
              "    }\n",
              "    (() => {\n",
              "      let quickchartButtonEl =\n",
              "        document.querySelector('#df-d8e427db-b68e-42d3-ab2a-5e4f7f6fa793 button');\n",
              "      quickchartButtonEl.style.display =\n",
              "        google.colab.kernel.accessAllowed ? 'block' : 'none';\n",
              "    })();\n",
              "  </script>\n",
              "</div>\n",
              "    </div>\n",
              "  </div>\n"
            ]
          },
          "metadata": {},
          "execution_count": 4
        }
      ]
    },
    {
      "cell_type": "code",
      "source": [
        "import seaborn as sns\n",
        "import matplotlib.pyplot as plt\n",
        "\n",
        "plt.figure(figsize=(14, 6))\n",
        "sns.lineplot(data=df_origin, x=df_origin.index, y='close')  # 비트코인 차트\n",
        "plt.title('Bitcoin Line Chart');"
      ],
      "metadata": {
        "colab": {
          "base_uri": "https://localhost:8080/",
          "height": 545
        },
        "id": "_oJEu-lhpEVY",
        "outputId": "88f05f70-012d-40e1-9e83-5559d2fdfd6c"
      },
      "execution_count": 5,
      "outputs": [
        {
          "output_type": "display_data",
          "data": {
            "text/plain": [
              "<Figure size 1400x600 with 1 Axes>"
            ],
            "image/png": "[encoded data removed]"
          },
          "metadata": {}
        }
      ]
    },
    {
      "cell_type": "markdown",
      "source": [
        "## Model 1. Logistic Regression\n",
        "---\n",
        "> [로지스틱 회귀(logistic regression)](https://bluenoa.tistory.com/48)는 분류 문제를 해결하기 위한 강력한 통계 방법입니다. 종속 변수가 범주형 데이터(예: 이메일이 스팸인지 아닌지, 거래가 사기인지 아닌지 등)일 때 사용됩니다.\n",
        "\n",
        "본 프로젝트에서는 가격이 몇 프로 올랐는지(혹은 내려갔는지), 거래량이 얼만큼 증감했는지에 따라 다음 날 가격 변화를 예측하려 합니다.\n",
        "\n",
        "다음 날 가격이 올랐다면 `1`, 가격이 내려갔다면 `0`으로 표기합니다."
      ],
      "metadata": {
        "id": "hqC1AuJPJCUG"
      }
    },
    {
      "cell_type": "markdown",
      "source": [
        "### 1-1. Feature engineering & EDA\n",
        "* 새로운 컬럼을 생성\n",
        "  * `candle`: 가격 변화율(%)\n",
        "  * `volume_change_rate`: 거래량의 변화율(%)\n",
        "  * `profit_loss`: 다음 날의 손실(0)과 이득(1)을 나타내는 컬럼을 생성"
      ],
      "metadata": {
        "id": "oOZ70dh63qHV"
      }
    },
    {
      "cell_type": "code",
      "source": [
        "import numpy as np\n",
        "\n",
        "# 원본 복사\n",
        "df = df_origin.copy()\n",
        "\n",
        "df['candle'] = ((df['close'] - df['open']) / df['open'] * 100).round(1)  # 가격 변화율 열 추가\n",
        "df['volume_change_rate'] = (df['volume'].pct_change() * 100).round(1)  # 거래량 변화율 열 추가\n",
        "df['profit_loss'] = np.where(df['close'].shift(-1) > df['open'].shift(-1), 1, 0)  # profit_loss 열 추가\n",
        "\n",
        "# 첫 행과 마지막 행 삭제\n",
        "df.drop([df.index[0], df.index[-1]], inplace=True)\n",
        "# 불필요한 컬럼 삭제\n",
        "df.drop([\"open\", \"high\", \"low\", \"close\", \"volume\", \"value\"], axis=1, inplace=True)\n",
        "\n",
        "print(df.shape)\n",
        "df.head()"
      ],
      "metadata": {
        "id": "QDmFrqmlb2SB",
        "outputId": "4b38ad33-43d9-4b1e-9d87-ddc56674f05a",
        "colab": {
          "base_uri": "https://localhost:8080/",
          "height": 224
        }
      },
      "execution_count": 40,
      "outputs": [
        {
          "output_type": "stream",
          "name": "stdout",
          "text": [
            "(2265, 3)\n"
          ]
        },
        {
          "output_type": "execute_result",
          "data": {
            "text/plain": [
              "                     candle  volume_change_rate  profit_loss\n",
              "2017-09-26 09:00:00     0.1               -82.8            1\n",
              "2017-09-27 09:00:00     7.8                41.6            0\n",
              "2017-09-28 09:00:00    -1.5               149.7            1\n",
              "2017-09-29 09:00:00     1.5               -26.4            1\n",
              "2017-09-30 09:00:00     5.1               -66.3            1"
            ],
            "text/html": [
              "\n",
              "  <div id=\"df-86970d60-8e76-470a-b936-e96936b76804\" class=\"colab-df-container\">\n",
              "    <div>\n",
              "<style scoped>\n",
              "    .dataframe tbody tr th:only-of-type {\n",
              "        vertical-align: middle;\n",
              "    }\n",
              "\n",
              "    .dataframe tbody tr th {\n",
              "        vertical-align: top;\n",
              "    }\n",
              "\n",
              "    .dataframe thead th {\n",
              "        text-align: right;\n",
              "    }\n",
              "</style>\n",
              "<table border=\"1\" class=\"dataframe\">\n",
              "  <thead>\n",
              "    <tr style=\"text-align: right;\">\n",
              "      <th></th>\n",
              "      <th>candle</th>\n",
              "      <th>volume_change_rate</th>\n",
              "      <th>profit_loss</th>\n",
              "    </tr>\n",
              "  </thead>\n",
              "  <tbody>\n",
              "    <tr>\n",
              "      <th>2017-09-26 09:00:00</th>\n",
              "      <td>0.1</td>\n",
              "      <td>-82.8</td>\n",
              "      <td>1</td>\n",
              "    </tr>\n",
              "    <tr>\n",
              "      <th>2017-09-27 09:00:00</th>\n",
              "      <td>7.8</td>\n",
              "      <td>41.6</td>\n",
              "      <td>0</td>\n",
              "    </tr>\n",
              "    <tr>\n",
              "      <th>2017-09-28 09:00:00</th>\n",
              "      <td>-1.5</td>\n",
              "      <td>149.7</td>\n",
              "      <td>1</td>\n",
              "    </tr>\n",
              "    <tr>\n",
              "      <th>2017-09-29 09:00:00</th>\n",
              "      <td>1.5</td>\n",
              "      <td>-26.4</td>\n",
              "      <td>1</td>\n",
              "    </tr>\n",
              "    <tr>\n",
              "      <th>2017-09-30 09:00:00</th>\n",
              "      <td>5.1</td>\n",
              "      <td>-66.3</td>\n",
              "      <td>1</td>\n",
              "    </tr>\n",
              "  </tbody>\n",
              "</table>\n",
              "</div>\n",
              "    <div class=\"colab-df-buttons\">\n",
              "\n",
              "  <div class=\"colab-df-container\">\n",
              "    <button class=\"colab-df-convert\" onclick=\"convertToInteractive('df-86970d60-8e76-470a-b936-e96936b76804')\"\n",
              "            title=\"Convert this dataframe to an interactive table.\"\n",
              "            style=\"display:none;\">\n",
              "\n",
              "  <svg xmlns=\"http://www.w3.org/2000/svg\" height=\"24px\" viewBox=\"0 -960 960 960\">\n",
              "    <path d=\"M120-120v-720h720v720H120Zm60-500h600v-160H180v160Zm220 220h160v-160H400v160Zm0 220h160v-160H400v160ZM180-400h160v-160H180v160Zm440 0h160v-160H620v160ZM180-180h160v-160H180v160Zm440 0h160v-160H620v160Z\"/>\n",
              "  </svg>\n",
              "    </button>\n",
              "\n",
              "  <style>\n",
              "    .colab-df-container {\n",
              "      display:flex;\n",
              "      gap: 12px;\n",
              "    }\n",
              "\n",
              "    .colab-df-convert {\n",
              "      background-color: #E8F0FE;\n",
              "      border: none;\n",
              "      border-radius: 50%;\n",
              "      cursor: pointer;\n",
              "      display: none;\n",
              "      fill: #1967D2;\n",
              "      height: 32px;\n",
              "      padding: 0 0 0 0;\n",
              "      width: 32px;\n",
              "    }\n",
              "\n",
              "    .colab-df-convert:hover {\n",
              "      background-color: #E2EBFA;\n",
              "      box-shadow: 0px 1px 2px rgba(60, 64, 67, 0.3), 0px 1px 3px 1px rgba(60, 64, 67, 0.15);\n",
              "      fill: #174EA6;\n",
              "    }\n",
              "\n",
              "    .colab-df-buttons div {\n",
              "      margin-bottom: 4px;\n",
              "    }\n",
              "\n",
              "    [theme=dark] .colab-df-convert {\n",
              "      background-color: #3B4455;\n",
              "      fill: #D2E3FC;\n",
              "    }\n",
              "\n",
              "    [theme=dark] .colab-df-convert:hover {\n",
              "      background-color: #434B5C;\n",
              "      box-shadow: 0px 1px 3px 1px rgba(0, 0, 0, 0.15);\n",
              "      filter: drop-shadow(0px 1px 2px rgba(0, 0, 0, 0.3));\n",
              "      fill: #FFFFFF;\n",
              "    }\n",
              "  </style>\n",
              "\n",
              "    <script>\n",
              "      const buttonEl =\n",
              "        document.querySelector('#df-86970d60-8e76-470a-b936-e96936b76804 button.colab-df-convert');\n",
              "      buttonEl.style.display =\n",
              "        google.colab.kernel.accessAllowed ? 'block' : 'none';\n",
              "\n",
              "      async function convertToInteractive(key) {\n",
              "        const element = document.querySelector('#df-86970d60-8e76-470a-b936-e96936b76804');\n",
              "        const dataTable =\n",
              "          await google.colab.kernel.invokeFunction('convertToInteractive',\n",
              "                                                    [key], {});\n",
              "        if (!dataTable) return;\n",
              "\n",
              "        const docLinkHtml = 'Like what you see? Visit the ' +\n",
              "          '<a target=\"_blank\" href=https://colab.research.google.com/notebooks/data_table.ipynb>data table notebook</a>'\n",
              "          + ' to learn more about interactive tables.';\n",
              "        element.innerHTML = '';\n",
              "        dataTable['output_type'] = 'display_data';\n",
              "        await google.colab.output.renderOutput(dataTable, element);\n",
              "        const docLink = document.createElement('div');\n",
              "        docLink.innerHTML = docLinkHtml;\n",
              "        element.appendChild(docLink);\n",
              "      }\n",
              "    </script>\n",
              "  </div>\n",
              "\n",
              "\n",
              "<div id=\"df-36aabd78-9236-40fa-be2f-7985c7a0e45e\">\n",
              "  <button class=\"colab-df-quickchart\" onclick=\"quickchart('df-36aabd78-9236-40fa-be2f-7985c7a0e45e')\"\n",
              "            title=\"Suggest charts\"\n",
              "            style=\"display:none;\">\n",
              "\n",
              "<svg xmlns=\"http://www.w3.org/2000/svg\" height=\"24px\"viewBox=\"0 0 24 24\"\n",
              "     width=\"24px\">\n",
              "    <g>\n",
              "        <path d=\"M19 3H5c-1.1 0-2 .9-2 2v14c0 1.1.9 2 2 2h14c1.1 0 2-.9 2-2V5c0-1.1-.9-2-2-2zM9 17H7v-7h2v7zm4 0h-2V7h2v10zm4 0h-2v-4h2v4z\"/>\n",
              "    </g>\n",
              "</svg>\n",
              "  </button>\n",
              "\n",
              "<style>\n",
              "  .colab-df-quickchart {\n",
              "      --bg-color: #E8F0FE;\n",
              "      --fill-color: #1967D2;\n",
              "      --hover-bg-color: #E2EBFA;\n",
              "      --hover-fill-color: #174EA6;\n",
              "      --disabled-fill-color: #AAA;\n",
              "      --disabled-bg-color: #DDD;\n",
              "  }\n",
              "\n",
              "  [theme=dark] .colab-df-quickchart {\n",
              "      --bg-color: #3B4455;\n",
              "      --fill-color: #D2E3FC;\n",
              "      --hover-bg-color: #434B5C;\n",
              "      --hover-fill-color: #FFFFFF;\n",
              "      --disabled-bg-color: #3B4455;\n",
              "      --disabled-fill-color: #666;\n",
              "  }\n",
              "\n",
              "  .colab-df-quickchart {\n",
              "    background-color: var(--bg-color);\n",
              "    border: none;\n",
              "    border-radius: 50%;\n",
              "    cursor: pointer;\n",
              "    display: none;\n",
              "    fill: var(--fill-color);\n",
              "    height: 32px;\n",
              "    padding: 0;\n",
              "    width: 32px;\n",
              "  }\n",
              "\n",
              "  .colab-df-quickchart:hover {\n",
              "    background-color: var(--hover-bg-color);\n",
              "    box-shadow: 0 1px 2px rgba(60, 64, 67, 0.3), 0 1px 3px 1px rgba(60, 64, 67, 0.15);\n",
              "    fill: var(--button-hover-fill-color);\n",
              "  }\n",
              "\n",
              "  .colab-df-quickchart-complete:disabled,\n",
              "  .colab-df-quickchart-complete:disabled:hover {\n",
              "    background-color: var(--disabled-bg-color);\n",
              "    fill: var(--disabled-fill-color);\n",
              "    box-shadow: none;\n",
              "  }\n",
              "\n",
              "  .colab-df-spinner {\n",
              "    border: 2px solid var(--fill-color);\n",
              "    border-color: transparent;\n",
              "    border-bottom-color: var(--fill-color);\n",
              "    animation:\n",
              "      spin 1s steps(1) infinite;\n",
              "  }\n",
              "\n",
              "  @keyframes spin {\n",
              "    0% {\n",
              "      border-color: transparent;\n",
              "      border-bottom-color: var(--fill-color);\n",
              "      border-left-color: var(--fill-color);\n",
              "    }\n",
              "    20% {\n",
              "      border-color: transparent;\n",
              "      border-left-color: var(--fill-color);\n",
              "      border-top-color: var(--fill-color);\n",
              "    }\n",
              "    30% {\n",
              "      border-color: transparent;\n",
              "      border-left-color: var(--fill-color);\n",
              "      border-top-color: var(--fill-color);\n",
              "      border-right-color: var(--fill-color);\n",
              "    }\n",
              "    40% {\n",
              "      border-color: transparent;\n",
              "      border-right-color: var(--fill-color);\n",
              "      border-top-color: var(--fill-color);\n",
              "    }\n",
              "    60% {\n",
              "      border-color: transparent;\n",
              "      border-right-color: var(--fill-color);\n",
              "    }\n",
              "    80% {\n",
              "      border-color: transparent;\n",
              "      border-right-color: var(--fill-color);\n",
              "      border-bottom-color: var(--fill-color);\n",
              "    }\n",
              "    90% {\n",
              "      border-color: transparent;\n",
              "      border-bottom-color: var(--fill-color);\n",
              "    }\n",
              "  }\n",
              "</style>\n",
              "\n",
              "  <script>\n",
              "    async function quickchart(key) {\n",
              "      const quickchartButtonEl =\n",
              "        document.querySelector('#' + key + ' button');\n",
              "      quickchartButtonEl.disabled = true;  // To prevent multiple clicks.\n",
              "      quickchartButtonEl.classList.add('colab-df-spinner');\n",
              "      try {\n",
              "        const charts = await google.colab.kernel.invokeFunction(\n",
              "            'suggestCharts', [key], {});\n",
              "      } catch (error) {\n",
              "        console.error('Error during call to suggestCharts:', error);\n",
              "      }\n",
              "      quickchartButtonEl.classList.remove('colab-df-spinner');\n",
              "      quickchartButtonEl.classList.add('colab-df-quickchart-complete');\n",
              "    }\n",
              "    (() => {\n",
              "      let quickchartButtonEl =\n",
              "        document.querySelector('#df-36aabd78-9236-40fa-be2f-7985c7a0e45e button');\n",
              "      quickchartButtonEl.style.display =\n",
              "        google.colab.kernel.accessAllowed ? 'block' : 'none';\n",
              "    })();\n",
              "  </script>\n",
              "</div>\n",
              "    </div>\n",
              "  </div>\n"
            ]
          },
          "metadata": {},
          "execution_count": 40
        }
      ]
    },
    {
      "cell_type": "markdown",
      "source": [
        "분류 문제는 항상 먼저 타겟의 범주가 어떤 비율을 가지고 있는지 확인해 보아야 합니다.\n",
        "\n",
        "타겟 범주의 분포가 균형을 이루지 않고 한쪽으로 치우친 경우, 머신러닝 모델은 다수의 범주에 치우쳐 학습할 가능성이 높습니다. 이러한 상황에서는 소수의 범주에 대한 예측 성능이 저하될 수 있습니다."
      ],
      "metadata": {
        "id": "mCCQob0yHnCH"
      }
    },
    {
      "cell_type": "code",
      "source": [
        "# 타겟 데이터 범주의 비율을 확인합니다.\n",
        "y =  df['profit_loss']\n",
        "print(\"타겟 데이터의 비율:\\n\", y.value_counts(normalize=True))\n",
        "\n",
        "plt.figure(figsize=(3, 3))\n",
        "sns.countplot(x=y);"
      ],
      "metadata": {
        "id": "rL1_k099Hq9o",
        "outputId": "374807ab-b8dd-4102-ec00-9eb29784363b",
        "colab": {
          "base_uri": "https://localhost:8080/",
          "height": 384
        }
      },
      "execution_count": 41,
      "outputs": [
        {
          "output_type": "stream",
          "name": "stdout",
          "text": [
            "타겟 데이터의 비율:\n",
            " 1    0.517881\n",
            "0    0.482119\n",
            "Name: profit_loss, dtype: float64\n"
          ]
        },
        {
          "output_type": "display_data",
          "data": {
            "text/plain": [
              "<Figure size 300x300 with 1 Axes>"
            ],
            "image/png": "[encoded data removed]"
          },
          "metadata": {}
        }
      ]
    },
    {
      "cell_type": "markdown",
      "source": [
        "### 1-2. Modeling\n",
        "[교차 검증(Cross-Validation)](https://sodayeong.tistory.com/224)은 모델의 성능을 평가하고 일반화 능력을 확인하는 데 사용되는 통계적 방법입니다. 이 방법을 사용하면 과적합(Overfitting)을 피하고 모델의 예측 성능을 향상시킬 수 있습니다. 데이터를 여러 개의 하위 집합(subset)으로 나눈 다음, 일부 하위 집합을 훈련 데이터로, 나머지 하위 집합을 테스트 데이터로 사용하여 모델을 여러 번 학습하고 평가하게 됩니다.\n",
        "\n"
      ],
      "metadata": {
        "id": "u38pAMpuOLGK"
      }
    },
    {
      "cell_type": "code",
      "source": [
        "from sklearn.model_selection import TimeSeriesSplit\n",
        "\n",
        "# Features and target\n",
        "X = df.drop('profit_loss', axis=1)\n",
        "y = df['profit_loss']\n",
        "\n",
        "# Cross-Validation\n",
        "tscv = TimeSeriesSplit(n_splits=5)"
      ],
      "metadata": {
        "id": "h9Kpg-Tqd1BV"
      },
      "execution_count": 42,
      "outputs": []
    },
    {
      "cell_type": "markdown",
      "source": [
        "> **기준 모델(Baseline Model)**은 예측 문제를 해결하기 위해 설정하는 단순한 모델이나 기준을 의미합니다. 이 모델은 일반적으로 복잡한 머신러닝 모델을 사용하기 전에, 문제를 얼마나 잘 이해하고 있는지, 어떤 방식으로 접근해야하는지를 판단하는 데 도움을 줍니다.\n",
        "\n",
        "본 프로젝트에서는 타겟 변수의 **최빈값**으로 기준모델을 설정합니다.\n",
        "\n"
      ],
      "metadata": {
        "id": "tntawJ3u2ZaT"
      }
    },
    {
      "cell_type": "code",
      "source": [
        "from sklearn.metrics import accuracy_score\n",
        "\n",
        "for train_index, test_index in tscv.split(y):\n",
        "  y_train, y_test = y.iloc[train_index], y.iloc[test_index]\n",
        "\n",
        "  base = y_train.mode()[0]  # 최빈값\n",
        "  base_pred = [base] * len(y_test)\n",
        "\n",
        "  # 최빈 클래스의 빈도가 정확도가 됩니다.\n",
        "  print(\"정확도: \", accuracy_score(y_test, base_pred).round(2))"
      ],
      "metadata": {
        "colab": {
          "base_uri": "https://localhost:8080/"
        },
        "id": "y175u5275R4d",
        "outputId": "a588af58-d652-4f6c-8f18-a1980e72a578"
      },
      "execution_count": 43,
      "outputs": [
        {
          "output_type": "stream",
          "name": "stdout",
          "text": [
            "정확도:  0.53\n",
            "정확도:  0.54\n",
            "정확도:  0.54\n",
            "정확도:  0.47\n",
            "정확도:  0.5\n"
          ]
        }
      ]
    },
    {
      "cell_type": "code",
      "source": [
        "from sklearn.linear_model import LogisticRegression\n",
        "from sklearn.metrics import classification_report\n",
        "\n",
        "model = LogisticRegression()\n",
        "\n",
        "for train_index, test_index in tscv.split(X):\n",
        "  X_train, X_test = X.iloc[train_index], X.iloc[test_index]\n",
        "  y_train, y_test = y.iloc[train_index], y.iloc[test_index]\n",
        "\n",
        "  model.fit(X_train, y_train)\n",
        "  y_pred = model.predict(X_test)\n",
        "\n",
        "  # 성능 평가\n",
        "  print('Classification Report:')\n",
        "  print(classification_report(y_test, y_pred))\n",
        "  print('-'*53)"
      ],
      "metadata": {
        "id": "516RTgsRONaF",
        "colab": {
          "base_uri": "https://localhost:8080/"
        },
        "outputId": "be403296-4313-422e-9694-92a205ef8365"
      },
      "execution_count": 44,
      "outputs": [
        {
          "output_type": "stream",
          "name": "stdout",
          "text": [
            "Classification Report:\n",
            "              precision    recall  f1-score   support\n",
            "\n",
            "           0       0.35      0.07      0.11       178\n",
            "           1       0.52      0.89      0.65       199\n",
            "\n",
            "    accuracy                           0.50       377\n",
            "   macro avg       0.43      0.48      0.38       377\n",
            "weighted avg       0.44      0.50      0.40       377\n",
            "\n",
            "-----------------------------------------------------\n",
            "Classification Report:\n",
            "              precision    recall  f1-score   support\n",
            "\n",
            "           0       0.00      0.00      0.00       174\n",
            "           1       0.54      1.00      0.70       203\n",
            "\n",
            "    accuracy                           0.54       377\n",
            "   macro avg       0.27      0.50      0.35       377\n",
            "weighted avg       0.29      0.54      0.38       377\n",
            "\n",
            "-----------------------------------------------------\n",
            "Classification Report:\n",
            "              precision    recall  f1-score   support\n",
            "\n",
            "           0       0.43      0.06      0.10       175\n",
            "           1       0.53      0.94      0.68       202\n",
            "\n",
            "    accuracy                           0.53       377\n",
            "   macro avg       0.48      0.50      0.39       377\n",
            "weighted avg       0.49      0.53      0.41       377\n",
            "\n",
            "-----------------------------------------------------\n",
            "Classification Report:\n",
            "              precision    recall  f1-score   support\n",
            "\n",
            "           0       0.50      0.01      0.01       199\n",
            "           1       0.47      0.99      0.64       178\n",
            "\n",
            "    accuracy                           0.47       377\n",
            "   macro avg       0.49      0.50      0.33       377\n",
            "weighted avg       0.49      0.47      0.31       377\n",
            "\n",
            "-----------------------------------------------------\n",
            "Classification Report:\n",
            "              precision    recall  f1-score   support\n",
            "\n",
            "           0       0.00      0.00      0.00       190\n",
            "           1       0.50      1.00      0.66       187\n",
            "\n",
            "    accuracy                           0.50       377\n",
            "   macro avg       0.25      0.50      0.33       377\n",
            "weighted avg       0.25      0.50      0.33       377\n",
            "\n",
            "-----------------------------------------------------\n"
          ]
        },
        {
          "output_type": "stream",
          "name": "stderr",
          "text": [
            "/usr/local/lib/python3.10/dist-packages/sklearn/metrics/_classification.py:1344: UndefinedMetricWarning: Precision and F-score are ill-defined and being set to 0.0 in labels with no predicted samples. Use `zero_division` parameter to control this behavior.\n",
            "  _warn_prf(average, modifier, msg_start, len(result))\n",
            "/usr/local/lib/python3.10/dist-packages/sklearn/metrics/_classification.py:1344: UndefinedMetricWarning: Precision and F-score are ill-defined and being set to 0.0 in labels with no predicted samples. Use `zero_division` parameter to control this behavior.\n",
            "  _warn_prf(average, modifier, msg_start, len(result))\n",
            "/usr/local/lib/python3.10/dist-packages/sklearn/metrics/_classification.py:1344: UndefinedMetricWarning: Precision and F-score are ill-defined and being set to 0.0 in labels with no predicted samples. Use `zero_division` parameter to control this behavior.\n",
            "  _warn_prf(average, modifier, msg_start, len(result))\n",
            "/usr/local/lib/python3.10/dist-packages/sklearn/metrics/_classification.py:1344: UndefinedMetricWarning: Precision and F-score are ill-defined and being set to 0.0 in labels with no predicted samples. Use `zero_division` parameter to control this behavior.\n",
            "  _warn_prf(average, modifier, msg_start, len(result))\n",
            "/usr/local/lib/python3.10/dist-packages/sklearn/metrics/_classification.py:1344: UndefinedMetricWarning: Precision and F-score are ill-defined and being set to 0.0 in labels with no predicted samples. Use `zero_division` parameter to control this behavior.\n",
            "  _warn_prf(average, modifier, msg_start, len(result))\n",
            "/usr/local/lib/python3.10/dist-packages/sklearn/metrics/_classification.py:1344: UndefinedMetricWarning: Precision and F-score are ill-defined and being set to 0.0 in labels with no predicted samples. Use `zero_division` parameter to control this behavior.\n",
            "  _warn_prf(average, modifier, msg_start, len(result))\n"
          ]
        }
      ]
    },
    {
      "cell_type": "markdown",
      "source": [
        "### 데이터 정규화 및 기준모델의 정확도 계산"
      ],
      "metadata": {
        "id": "Nd5RM0fW5U0s"
      }
    },
    {
      "cell_type": "code",
      "source": [
        "from sklearn.metrics import accuracy_score\n",
        "from sklearn.preprocessing import StandardScaler\n",
        "\n",
        "# Scaling\n",
        "scaler_std = StandardScaler()\n",
        "\n",
        "X_train_std = scaler_std.fit_transform(X_train)\n",
        "X_test_std = scaler_std.transform(X_test)\n",
        "\n",
        "\n",
        "# 기준모델\n",
        "base = y_train.mode()[0]\n",
        "baseline = len(y_train) * [base]\n",
        "y_pred_base = len(y_test) * [base]\n",
        "# 기준모델의 정확도\n",
        "print(\"Train accuracy:\", accuracy_score(y_train, baseline).round(3))\n",
        "print(\"Test accuracy:\", accuracy_score(y_test, y_pred_base).round(3))"
      ],
      "metadata": {
        "id": "sv23Oz0cNMwW",
        "colab": {
          "base_uri": "https://localhost:8080/"
        },
        "outputId": "37f60067-49f0-4445-a207-16dd67eeea85"
      },
      "execution_count": 45,
      "outputs": [
        {
          "output_type": "stream",
          "name": "stdout",
          "text": [
            "Train accuracy: 0.522\n",
            "Test accuracy: 0.496\n"
          ]
        }
      ]
    },
    {
      "cell_type": "markdown",
      "source": [
        "### 기준모델의 Confusion Matrix"
      ],
      "metadata": {
        "id": "BOPMK3bg5l7R"
      }
    },
    {
      "cell_type": "code",
      "source": [
        "y_true0 = y_test.value_counts()[0]\n",
        "y_true1 = y_test.value_counts()[1]\n",
        "confusion_base = pd.DataFrame(index = ['True 0', 'True 1'], data = {'Predicted 0':[0,0], 'Predicted 1':[y_true0,y_true1]})\n",
        "confusion_base"
      ],
      "metadata": {
        "id": "WsKQrRQu5rLO",
        "colab": {
          "base_uri": "https://localhost:8080/",
          "height": 237
        },
        "outputId": "5985f655-918a-4fc7-8b91-8f8a452c110f"
      },
      "execution_count": 46,
      "outputs": [
        {
          "output_type": "error",
          "ename": "NameError",
          "evalue": "ignored",
          "traceback": [
            "\u001b[0;31m---------------------------------------------------------------------------\u001b[0m",
            "\u001b[0;31mNameError\u001b[0m                                 Traceback (most recent call last)",
            "\u001b[0;32m<ipython-input-46-55028d084ae5>\u001b[0m in \u001b[0;36m<cell line: 3>\u001b[0;34m()\u001b[0m\n\u001b[1;32m      1\u001b[0m \u001b[0my_true0\u001b[0m \u001b[0;34m=\u001b[0m \u001b[0my_test\u001b[0m\u001b[0;34m.\u001b[0m\u001b[0mvalue_counts\u001b[0m\u001b[0;34m(\u001b[0m\u001b[0;34m)\u001b[0m\u001b[0;34m[\u001b[0m\u001b[0;36m0\u001b[0m\u001b[0;34m]\u001b[0m\u001b[0;34m\u001b[0m\u001b[0;34m\u001b[0m\u001b[0m\n\u001b[1;32m      2\u001b[0m \u001b[0my_true1\u001b[0m \u001b[0;34m=\u001b[0m \u001b[0my_test\u001b[0m\u001b[0;34m.\u001b[0m\u001b[0mvalue_counts\u001b[0m\u001b[0;34m(\u001b[0m\u001b[0;34m)\u001b[0m\u001b[0;34m[\u001b[0m\u001b[0;36m1\u001b[0m\u001b[0;34m]\u001b[0m\u001b[0;34m\u001b[0m\u001b[0;34m\u001b[0m\u001b[0m\n\u001b[0;32m----> 3\u001b[0;31m \u001b[0mconfusion_base\u001b[0m \u001b[0;34m=\u001b[0m \u001b[0mpd\u001b[0m\u001b[0;34m.\u001b[0m\u001b[0mDataFrame\u001b[0m\u001b[0;34m(\u001b[0m\u001b[0mindex\u001b[0m \u001b[0;34m=\u001b[0m \u001b[0;34m[\u001b[0m\u001b[0;34m'True 0'\u001b[0m\u001b[0;34m,\u001b[0m \u001b[0;34m'True 1'\u001b[0m\u001b[0;34m]\u001b[0m\u001b[0;34m,\u001b[0m \u001b[0mdata\u001b[0m \u001b[0;34m=\u001b[0m \u001b[0;34m{\u001b[0m\u001b[0;34m'Predicted 0'\u001b[0m\u001b[0;34m:\u001b[0m\u001b[0;34m[\u001b[0m\u001b[0;36m0\u001b[0m\u001b[0;34m,\u001b[0m\u001b[0;36m0\u001b[0m\u001b[0;34m]\u001b[0m\u001b[0;34m,\u001b[0m \u001b[0;34m'Predicted 1'\u001b[0m\u001b[0;34m:\u001b[0m\u001b[0;34m[\u001b[0m\u001b[0my_true0\u001b[0m\u001b[0;34m,\u001b[0m\u001b[0my_true1\u001b[0m\u001b[0;34m]\u001b[0m\u001b[0;34m}\u001b[0m\u001b[0;34m)\u001b[0m\u001b[0;34m\u001b[0m\u001b[0;34m\u001b[0m\u001b[0m\n\u001b[0m\u001b[1;32m      4\u001b[0m \u001b[0mconfusion_base\u001b[0m\u001b[0;34m\u001b[0m\u001b[0;34m\u001b[0m\u001b[0m\n",
            "\u001b[0;31mNameError\u001b[0m: name 'pd' is not defined"
          ]
        }
      ]
    },
    {
      "cell_type": "markdown",
      "source": [
        "### 모델의 정확도"
      ],
      "metadata": {
        "id": "0TcPxbqg6HrL"
      }
    },
    {
      "cell_type": "code",
      "source": [
        "from sklearn.linear_model import LogisticRegressionCV\n",
        "from sklearn.model_selection import cross_val_score\n",
        "\n",
        "# 로지스틱 회귀\n",
        "logCV_model = LogisticRegressionCV(cv=5)\n",
        "logCV_model.fit(X_train_std, y_train)\n",
        "\n",
        "# 로지스틱 회귀모델의 정확도\n",
        "print(\"Train accuracy:\", logCV_model.score(X_train_std, y_train).round(3))"
      ],
      "metadata": {
        "id": "fHx4JBvZuG3O"
      },
      "execution_count": null,
      "outputs": []
    },
    {
      "cell_type": "markdown",
      "source": [
        "### 평가지표"
      ],
      "metadata": {
        "id": "EKtxkqEw6QSc"
      }
    },
    {
      "cell_type": "code",
      "source": [
        "from sklearn.metrics import classification_report\n",
        "\n",
        "y_pred_test_log = logCV_model.predict(X_test_std)\n",
        "\n",
        "print(classification_report(y_test, y_pred_test_log))"
      ],
      "metadata": {
        "id": "yVLgenIQvjTY"
      },
      "execution_count": null,
      "outputs": []
    },
    {
      "cell_type": "markdown",
      "source": [
        "## 랜덤포레스트 모델"
      ],
      "metadata": {
        "id": "mDtqD7bWOHeL"
      }
    },
    {
      "cell_type": "code",
      "source": [
        "from sklearn.ensemble import RandomForestClassifier\n",
        "\n",
        "rf_model = RandomForestClassifier(oob_score=True, n_jobs=-1)\n",
        "rf_model.fit(X_train, y_train)\n",
        "\n",
        "print(\"Train accuracy:\", rf_model.score(X_train, y_train).round(3))\n",
        "print(\"Out-of-bag 샘플의 정확도:\", rf_model.oob_score_.round(3))"
      ],
      "metadata": {
        "id": "n4YLreNXOpK6"
      },
      "execution_count": null,
      "outputs": []
    },
    {
      "cell_type": "code",
      "source": [
        "y_pred_test_rf = rf_model.predict(X_test)\n",
        "print(classification_report(y_test, y_pred_test_rf))"
      ],
      "metadata": {
        "id": "KyIJQbQc8hh3"
      },
      "execution_count": null,
      "outputs": []
    },
    {
      "cell_type": "markdown",
      "source": [
        "## XGBoost"
      ],
      "metadata": {
        "id": "cltdAyxgPrr0"
      }
    },
    {
      "cell_type": "code",
      "source": [
        "from xgboost import XGBClassifier\n",
        "\n",
        "xgb_model = XGBClassifier(\n",
        "    eval_metric=\"error\",\n",
        "    n_estimators=200,\n",
        "    random_state=42,\n",
        "    n_jobs=-1,\n",
        "    learning_rate=0.1,\n",
        "    use_label_encoder=False\n",
        ")\n",
        "\n",
        "xgb_model.fit(X_train, y_train)\n",
        "\n",
        "# 정확도\n",
        "print(\"Traing accuracy\", xgb_model.score(X_train, y_train).round(3))\n",
        "\n",
        "y_pred_xgb = xgb_model.predict(X_test)\n",
        "print(classification_report(y_test, y_pred_xgb))"
      ],
      "metadata": {
        "id": "oWdnyZ6EPxx1"
      },
      "execution_count": null,
      "outputs": []
    }
  ]
}