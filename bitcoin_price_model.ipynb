{
  "nbformat": 4,
  "nbformat_minor": 0,
  "metadata": {
    "colab": {
      "provenance": [],
      "include_colab_link": true
    },
    "kernelspec": {
      "name": "python3",
      "display_name": "Python 3"
    },
    "language_info": {
      "name": "python"
    }
  },
  "cells": [
    {
      "cell_type": "markdown",
      "metadata": {
        "id": "view-in-github",
        "colab_type": "text"
      },
      "source": [
        "<a href=\"https://colab.research.google.com/github/lagonee23/price-prediction-models/blob/main/bitcoin_price_model.ipynb\" target=\"_parent\"><img src=\"https://colab.research.google.com/assets/colab-badge.svg\" alt=\"Open In Colab\"/></a>"
      ]
    },
    {
      "cell_type": "markdown",
      "source": [
        "# 암호화폐(BitCoin)의 가격 예측 모델\n"
      ],
      "metadata": {
        "id": "ncvk3adDf-Fg"
      }
    },
    {
      "cell_type": "markdown",
      "source": [
        "### 필요 모듈 설치\n",
        "> [pyupbit](https://github.com/sharebook-kr/pyupbit) 모듈은 업비트라는 암호화폐 거래소의 API를 파이썬에서 쉽게 사용하기 위해 개발되었습니다.\n",
        "해당 라이브러리를 통해 암호화폐의 현재 가격, 매매 주문 등의 정보를 쉽게 얻어올 수 있습니다."
      ],
      "metadata": {
        "id": "XJeMqxahkERA"
      }
    },
    {
      "cell_type": "code",
      "execution_count": null,
      "metadata": {
        "id": "KMzzvcnMk7U5",
        "outputId": "b3333352-ae3c-4304-b0c9-641701e72db7",
        "colab": {
          "base_uri": "https://localhost:8080/"
        }
      },
      "outputs": [
        {
          "output_type": "stream",
          "name": "stdout",
          "text": [
            "Collecting pyupbit\n",
            "  Downloading pyupbit-0.2.33-py3-none-any.whl (24 kB)\n",
            "Requirement already satisfied: pyjwt>=2.0.0 in /usr/lib/python3/dist-packages (from pyupbit) (2.3.0)\n",
            "Requirement already satisfied: pandas in /usr/local/lib/python3.10/dist-packages (from pyupbit) (1.5.3)\n",
            "Requirement already satisfied: requests in /usr/local/lib/python3.10/dist-packages (from pyupbit) (2.31.0)\n",
            "Collecting websockets (from pyupbit)\n",
            "  Downloading websockets-12.0-cp310-cp310-manylinux_2_5_x86_64.manylinux1_x86_64.manylinux_2_17_x86_64.manylinux2014_x86_64.whl (130 kB)\n",
            "\u001b[2K     \u001b[90m━━━━━━━━━━━━━━━━━━━━━━━━━━━━━━━━━━━━━━━━\u001b[0m \u001b[32m130.2/130.2 kB\u001b[0m \u001b[31m2.8 MB/s\u001b[0m eta \u001b[36m0:00:00\u001b[0m\n",
            "\u001b[?25hRequirement already satisfied: python-dateutil>=2.8.1 in /usr/local/lib/python3.10/dist-packages (from pandas->pyupbit) (2.8.2)\n",
            "Requirement already satisfied: pytz>=2020.1 in /usr/local/lib/python3.10/dist-packages (from pandas->pyupbit) (2023.3.post1)\n",
            "Requirement already satisfied: numpy>=1.21.0 in /usr/local/lib/python3.10/dist-packages (from pandas->pyupbit) (1.23.5)\n",
            "Requirement already satisfied: charset-normalizer<4,>=2 in /usr/local/lib/python3.10/dist-packages (from requests->pyupbit) (3.3.2)\n",
            "Requirement already satisfied: idna<4,>=2.5 in /usr/local/lib/python3.10/dist-packages (from requests->pyupbit) (3.6)\n",
            "Requirement already satisfied: urllib3<3,>=1.21.1 in /usr/local/lib/python3.10/dist-packages (from requests->pyupbit) (2.0.7)\n",
            "Requirement already satisfied: certifi>=2017.4.17 in /usr/local/lib/python3.10/dist-packages (from requests->pyupbit) (2023.11.17)\n",
            "Requirement already satisfied: six>=1.5 in /usr/local/lib/python3.10/dist-packages (from python-dateutil>=2.8.1->pandas->pyupbit) (1.16.0)\n",
            "Installing collected packages: websockets, pyupbit\n",
            "Successfully installed pyupbit-0.2.33 websockets-12.0\n"
          ]
        }
      ],
      "source": [
        "!pip install pyupbit"
      ]
    },
    {
      "cell_type": "markdown",
      "source": [
        "### 업비트에서 일봉(day)차트의 데이터 가져오기\n",
        "* `open`: 시가\n",
        "* `high`: 고가\n",
        "* `low`: 저가\n",
        "* `close`: 종가\n",
        "* `volume`: 거래량\n",
        "* `value`: 거래대금\n",
        "\n",
        "> 업비트는 한국 거래소이므로 데이터의 단위는 원화(￦)입니다."
      ],
      "metadata": {
        "id": "RVlfb5-o2nCE"
      }
    },
    {
      "cell_type": "code",
      "source": [
        "import pyupbit\n",
        "\n",
        "# UpBit에서 비트코인 가격 데이터 가져오기\n",
        "df_origin = pyupbit.get_ohlcv(\"KRW-BTC\", \"day\", count=2500, period=1)\n",
        "df_origin"
      ],
      "metadata": {
        "colab": {
          "base_uri": "https://localhost:8080/",
          "height": 423
        },
        "id": "WpIDxLunozsW",
        "outputId": "ed0080fc-e7d4-4635-9214-d70d8e61654e"
      },
      "execution_count": null,
      "outputs": [
        {
          "output_type": "execute_result",
          "data": {
            "text/plain": [
              "                           open        high         low       close  \\\n",
              "2017-09-25 09:00:00   4201000.0   4333000.0   4175000.0   4322000.0   \n",
              "2017-09-26 09:00:00   4317000.0   4418000.0   4311000.0   4321000.0   \n",
              "2017-09-27 09:00:00   4322000.0   4677000.0   4318000.0   4657000.0   \n",
              "2017-09-28 09:00:00   4657000.0   4772000.0   4519000.0   4586000.0   \n",
              "2017-09-29 09:00:00   4586000.0   4709000.0   4476000.0   4657000.0   \n",
              "...                         ...         ...         ...         ...   \n",
              "2023-12-08 09:00:00  59237000.0  60753000.0  58750000.0  60142000.0   \n",
              "2023-12-09 09:00:00  60148000.0  60395000.0  59680000.0  60082000.0   \n",
              "2023-12-10 09:00:00  60082000.0  60277000.0  59563000.0  59835000.0   \n",
              "2023-12-11 09:00:00  59834000.0  59918000.0  55460000.0  56950000.0   \n",
              "2023-12-12 09:00:00  56950000.0  58780000.0  56698000.0  57702000.0   \n",
              "\n",
              "                           volume         value  \n",
              "2017-09-25 09:00:00    132.484755  5.602146e+08  \n",
              "2017-09-26 09:00:00     22.788340  9.950724e+07  \n",
              "2017-09-27 09:00:00     32.269662  1.448276e+08  \n",
              "2017-09-28 09:00:00     80.588243  3.721860e+08  \n",
              "2017-09-29 09:00:00     59.352373  2.724558e+08  \n",
              "...                           ...           ...  \n",
              "2023-12-08 09:00:00   5252.133202  3.128890e+11  \n",
              "2023-12-09 09:00:00   3528.907593  2.121763e+11  \n",
              "2023-12-10 09:00:00   2575.294711  1.545037e+11  \n",
              "2023-12-11 09:00:00  11981.700488  6.909212e+11  \n",
              "2023-12-12 09:00:00   6365.367715  3.673418e+11  \n",
              "\n",
              "[2270 rows x 6 columns]"
            ],
            "text/html": [
              "\n",
              "  <div id=\"df-6c8fba5c-be3f-403f-b91c-e719a9168c9d\" class=\"colab-df-container\">\n",
              "    <div>\n",
              "<style scoped>\n",
              "    .dataframe tbody tr th:only-of-type {\n",
              "        vertical-align: middle;\n",
              "    }\n",
              "\n",
              "    .dataframe tbody tr th {\n",
              "        vertical-align: top;\n",
              "    }\n",
              "\n",
              "    .dataframe thead th {\n",
              "        text-align: right;\n",
              "    }\n",
              "</style>\n",
              "<table border=\"1\" class=\"dataframe\">\n",
              "  <thead>\n",
              "    <tr style=\"text-align: right;\">\n",
              "      <th></th>\n",
              "      <th>open</th>\n",
              "      <th>high</th>\n",
              "      <th>low</th>\n",
              "      <th>close</th>\n",
              "      <th>volume</th>\n",
              "      <th>value</th>\n",
              "    </tr>\n",
              "  </thead>\n",
              "  <tbody>\n",
              "    <tr>\n",
              "      <th>2017-09-25 09:00:00</th>\n",
              "      <td>4201000.0</td>\n",
              "      <td>4333000.0</td>\n",
              "      <td>4175000.0</td>\n",
              "      <td>4322000.0</td>\n",
              "      <td>132.484755</td>\n",
              "      <td>5.602146e+08</td>\n",
              "    </tr>\n",
              "    <tr>\n",
              "      <th>2017-09-26 09:00:00</th>\n",
              "      <td>4317000.0</td>\n",
              "      <td>4418000.0</td>\n",
              "      <td>4311000.0</td>\n",
              "      <td>4321000.0</td>\n",
              "      <td>22.788340</td>\n",
              "      <td>9.950724e+07</td>\n",
              "    </tr>\n",
              "    <tr>\n",
              "      <th>2017-09-27 09:00:00</th>\n",
              "      <td>4322000.0</td>\n",
              "      <td>4677000.0</td>\n",
              "      <td>4318000.0</td>\n",
              "      <td>4657000.0</td>\n",
              "      <td>32.269662</td>\n",
              "      <td>1.448276e+08</td>\n",
              "    </tr>\n",
              "    <tr>\n",
              "      <th>2017-09-28 09:00:00</th>\n",
              "      <td>4657000.0</td>\n",
              "      <td>4772000.0</td>\n",
              "      <td>4519000.0</td>\n",
              "      <td>4586000.0</td>\n",
              "      <td>80.588243</td>\n",
              "      <td>3.721860e+08</td>\n",
              "    </tr>\n",
              "    <tr>\n",
              "      <th>2017-09-29 09:00:00</th>\n",
              "      <td>4586000.0</td>\n",
              "      <td>4709000.0</td>\n",
              "      <td>4476000.0</td>\n",
              "      <td>4657000.0</td>\n",
              "      <td>59.352373</td>\n",
              "      <td>2.724558e+08</td>\n",
              "    </tr>\n",
              "    <tr>\n",
              "      <th>...</th>\n",
              "      <td>...</td>\n",
              "      <td>...</td>\n",
              "      <td>...</td>\n",
              "      <td>...</td>\n",
              "      <td>...</td>\n",
              "      <td>...</td>\n",
              "    </tr>\n",
              "    <tr>\n",
              "      <th>2023-12-08 09:00:00</th>\n",
              "      <td>59237000.0</td>\n",
              "      <td>60753000.0</td>\n",
              "      <td>58750000.0</td>\n",
              "      <td>60142000.0</td>\n",
              "      <td>5252.133202</td>\n",
              "      <td>3.128890e+11</td>\n",
              "    </tr>\n",
              "    <tr>\n",
              "      <th>2023-12-09 09:00:00</th>\n",
              "      <td>60148000.0</td>\n",
              "      <td>60395000.0</td>\n",
              "      <td>59680000.0</td>\n",
              "      <td>60082000.0</td>\n",
              "      <td>3528.907593</td>\n",
              "      <td>2.121763e+11</td>\n",
              "    </tr>\n",
              "    <tr>\n",
              "      <th>2023-12-10 09:00:00</th>\n",
              "      <td>60082000.0</td>\n",
              "      <td>60277000.0</td>\n",
              "      <td>59563000.0</td>\n",
              "      <td>59835000.0</td>\n",
              "      <td>2575.294711</td>\n",
              "      <td>1.545037e+11</td>\n",
              "    </tr>\n",
              "    <tr>\n",
              "      <th>2023-12-11 09:00:00</th>\n",
              "      <td>59834000.0</td>\n",
              "      <td>59918000.0</td>\n",
              "      <td>55460000.0</td>\n",
              "      <td>56950000.0</td>\n",
              "      <td>11981.700488</td>\n",
              "      <td>6.909212e+11</td>\n",
              "    </tr>\n",
              "    <tr>\n",
              "      <th>2023-12-12 09:00:00</th>\n",
              "      <td>56950000.0</td>\n",
              "      <td>58780000.0</td>\n",
              "      <td>56698000.0</td>\n",
              "      <td>57702000.0</td>\n",
              "      <td>6365.367715</td>\n",
              "      <td>3.673418e+11</td>\n",
              "    </tr>\n",
              "  </tbody>\n",
              "</table>\n",
              "<p>2270 rows × 6 columns</p>\n",
              "</div>\n",
              "    <div class=\"colab-df-buttons\">\n",
              "\n",
              "  <div class=\"colab-df-container\">\n",
              "    <button class=\"colab-df-convert\" onclick=\"convertToInteractive('df-6c8fba5c-be3f-403f-b91c-e719a9168c9d')\"\n",
              "            title=\"Convert this dataframe to an interactive table.\"\n",
              "            style=\"display:none;\">\n",
              "\n",
              "  <svg xmlns=\"http://www.w3.org/2000/svg\" height=\"24px\" viewBox=\"0 -960 960 960\">\n",
              "    <path d=\"M120-120v-720h720v720H120Zm60-500h600v-160H180v160Zm220 220h160v-160H400v160Zm0 220h160v-160H400v160ZM180-400h160v-160H180v160Zm440 0h160v-160H620v160ZM180-180h160v-160H180v160Zm440 0h160v-160H620v160Z\"/>\n",
              "  </svg>\n",
              "    </button>\n",
              "\n",
              "  <style>\n",
              "    .colab-df-container {\n",
              "      display:flex;\n",
              "      gap: 12px;\n",
              "    }\n",
              "\n",
              "    .colab-df-convert {\n",
              "      background-color: #E8F0FE;\n",
              "      border: none;\n",
              "      border-radius: 50%;\n",
              "      cursor: pointer;\n",
              "      display: none;\n",
              "      fill: #1967D2;\n",
              "      height: 32px;\n",
              "      padding: 0 0 0 0;\n",
              "      width: 32px;\n",
              "    }\n",
              "\n",
              "    .colab-df-convert:hover {\n",
              "      background-color: #E2EBFA;\n",
              "      box-shadow: 0px 1px 2px rgba(60, 64, 67, 0.3), 0px 1px 3px 1px rgba(60, 64, 67, 0.15);\n",
              "      fill: #174EA6;\n",
              "    }\n",
              "\n",
              "    .colab-df-buttons div {\n",
              "      margin-bottom: 4px;\n",
              "    }\n",
              "\n",
              "    [theme=dark] .colab-df-convert {\n",
              "      background-color: #3B4455;\n",
              "      fill: #D2E3FC;\n",
              "    }\n",
              "\n",
              "    [theme=dark] .colab-df-convert:hover {\n",
              "      background-color: #434B5C;\n",
              "      box-shadow: 0px 1px 3px 1px rgba(0, 0, 0, 0.15);\n",
              "      filter: drop-shadow(0px 1px 2px rgba(0, 0, 0, 0.3));\n",
              "      fill: #FFFFFF;\n",
              "    }\n",
              "  </style>\n",
              "\n",
              "    <script>\n",
              "      const buttonEl =\n",
              "        document.querySelector('#df-6c8fba5c-be3f-403f-b91c-e719a9168c9d button.colab-df-convert');\n",
              "      buttonEl.style.display =\n",
              "        google.colab.kernel.accessAllowed ? 'block' : 'none';\n",
              "\n",
              "      async function convertToInteractive(key) {\n",
              "        const element = document.querySelector('#df-6c8fba5c-be3f-403f-b91c-e719a9168c9d');\n",
              "        const dataTable =\n",
              "          await google.colab.kernel.invokeFunction('convertToInteractive',\n",
              "                                                    [key], {});\n",
              "        if (!dataTable) return;\n",
              "\n",
              "        const docLinkHtml = 'Like what you see? Visit the ' +\n",
              "          '<a target=\"_blank\" href=https://colab.research.google.com/notebooks/data_table.ipynb>data table notebook</a>'\n",
              "          + ' to learn more about interactive tables.';\n",
              "        element.innerHTML = '';\n",
              "        dataTable['output_type'] = 'display_data';\n",
              "        await google.colab.output.renderOutput(dataTable, element);\n",
              "        const docLink = document.createElement('div');\n",
              "        docLink.innerHTML = docLinkHtml;\n",
              "        element.appendChild(docLink);\n",
              "      }\n",
              "    </script>\n",
              "  </div>\n",
              "\n",
              "\n",
              "<div id=\"df-63a4aaad-44bd-4456-8dfe-9053e8702c90\">\n",
              "  <button class=\"colab-df-quickchart\" onclick=\"quickchart('df-63a4aaad-44bd-4456-8dfe-9053e8702c90')\"\n",
              "            title=\"Suggest charts\"\n",
              "            style=\"display:none;\">\n",
              "\n",
              "<svg xmlns=\"http://www.w3.org/2000/svg\" height=\"24px\"viewBox=\"0 0 24 24\"\n",
              "     width=\"24px\">\n",
              "    <g>\n",
              "        <path d=\"M19 3H5c-1.1 0-2 .9-2 2v14c0 1.1.9 2 2 2h14c1.1 0 2-.9 2-2V5c0-1.1-.9-2-2-2zM9 17H7v-7h2v7zm4 0h-2V7h2v10zm4 0h-2v-4h2v4z\"/>\n",
              "    </g>\n",
              "</svg>\n",
              "  </button>\n",
              "\n",
              "<style>\n",
              "  .colab-df-quickchart {\n",
              "      --bg-color: #E8F0FE;\n",
              "      --fill-color: #1967D2;\n",
              "      --hover-bg-color: #E2EBFA;\n",
              "      --hover-fill-color: #174EA6;\n",
              "      --disabled-fill-color: #AAA;\n",
              "      --disabled-bg-color: #DDD;\n",
              "  }\n",
              "\n",
              "  [theme=dark] .colab-df-quickchart {\n",
              "      --bg-color: #3B4455;\n",
              "      --fill-color: #D2E3FC;\n",
              "      --hover-bg-color: #434B5C;\n",
              "      --hover-fill-color: #FFFFFF;\n",
              "      --disabled-bg-color: #3B4455;\n",
              "      --disabled-fill-color: #666;\n",
              "  }\n",
              "\n",
              "  .colab-df-quickchart {\n",
              "    background-color: var(--bg-color);\n",
              "    border: none;\n",
              "    border-radius: 50%;\n",
              "    cursor: pointer;\n",
              "    display: none;\n",
              "    fill: var(--fill-color);\n",
              "    height: 32px;\n",
              "    padding: 0;\n",
              "    width: 32px;\n",
              "  }\n",
              "\n",
              "  .colab-df-quickchart:hover {\n",
              "    background-color: var(--hover-bg-color);\n",
              "    box-shadow: 0 1px 2px rgba(60, 64, 67, 0.3), 0 1px 3px 1px rgba(60, 64, 67, 0.15);\n",
              "    fill: var(--button-hover-fill-color);\n",
              "  }\n",
              "\n",
              "  .colab-df-quickchart-complete:disabled,\n",
              "  .colab-df-quickchart-complete:disabled:hover {\n",
              "    background-color: var(--disabled-bg-color);\n",
              "    fill: var(--disabled-fill-color);\n",
              "    box-shadow: none;\n",
              "  }\n",
              "\n",
              "  .colab-df-spinner {\n",
              "    border: 2px solid var(--fill-color);\n",
              "    border-color: transparent;\n",
              "    border-bottom-color: var(--fill-color);\n",
              "    animation:\n",
              "      spin 1s steps(1) infinite;\n",
              "  }\n",
              "\n",
              "  @keyframes spin {\n",
              "    0% {\n",
              "      border-color: transparent;\n",
              "      border-bottom-color: var(--fill-color);\n",
              "      border-left-color: var(--fill-color);\n",
              "    }\n",
              "    20% {\n",
              "      border-color: transparent;\n",
              "      border-left-color: var(--fill-color);\n",
              "      border-top-color: var(--fill-color);\n",
              "    }\n",
              "    30% {\n",
              "      border-color: transparent;\n",
              "      border-left-color: var(--fill-color);\n",
              "      border-top-color: var(--fill-color);\n",
              "      border-right-color: var(--fill-color);\n",
              "    }\n",
              "    40% {\n",
              "      border-color: transparent;\n",
              "      border-right-color: var(--fill-color);\n",
              "      border-top-color: var(--fill-color);\n",
              "    }\n",
              "    60% {\n",
              "      border-color: transparent;\n",
              "      border-right-color: var(--fill-color);\n",
              "    }\n",
              "    80% {\n",
              "      border-color: transparent;\n",
              "      border-right-color: var(--fill-color);\n",
              "      border-bottom-color: var(--fill-color);\n",
              "    }\n",
              "    90% {\n",
              "      border-color: transparent;\n",
              "      border-bottom-color: var(--fill-color);\n",
              "    }\n",
              "  }\n",
              "</style>\n",
              "\n",
              "  <script>\n",
              "    async function quickchart(key) {\n",
              "      const quickchartButtonEl =\n",
              "        document.querySelector('#' + key + ' button');\n",
              "      quickchartButtonEl.disabled = true;  // To prevent multiple clicks.\n",
              "      quickchartButtonEl.classList.add('colab-df-spinner');\n",
              "      try {\n",
              "        const charts = await google.colab.kernel.invokeFunction(\n",
              "            'suggestCharts', [key], {});\n",
              "      } catch (error) {\n",
              "        console.error('Error during call to suggestCharts:', error);\n",
              "      }\n",
              "      quickchartButtonEl.classList.remove('colab-df-spinner');\n",
              "      quickchartButtonEl.classList.add('colab-df-quickchart-complete');\n",
              "    }\n",
              "    (() => {\n",
              "      let quickchartButtonEl =\n",
              "        document.querySelector('#df-63a4aaad-44bd-4456-8dfe-9053e8702c90 button');\n",
              "      quickchartButtonEl.style.display =\n",
              "        google.colab.kernel.accessAllowed ? 'block' : 'none';\n",
              "    })();\n",
              "  </script>\n",
              "</div>\n",
              "\n",
              "  <div id=\"id_78410052-ceab-4647-9dc2-5407d037cf41\">\n",
              "    <style>\n",
              "      .colab-df-generate {\n",
              "        background-color: #E8F0FE;\n",
              "        border: none;\n",
              "        border-radius: 50%;\n",
              "        cursor: pointer;\n",
              "        display: none;\n",
              "        fill: #1967D2;\n",
              "        height: 32px;\n",
              "        padding: 0 0 0 0;\n",
              "        width: 32px;\n",
              "      }\n",
              "\n",
              "      .colab-df-generate:hover {\n",
              "        background-color: #E2EBFA;\n",
              "        box-shadow: 0px 1px 2px rgba(60, 64, 67, 0.3), 0px 1px 3px 1px rgba(60, 64, 67, 0.15);\n",
              "        fill: #174EA6;\n",
              "      }\n",
              "\n",
              "      [theme=dark] .colab-df-generate {\n",
              "        background-color: #3B4455;\n",
              "        fill: #D2E3FC;\n",
              "      }\n",
              "\n",
              "      [theme=dark] .colab-df-generate:hover {\n",
              "        background-color: #434B5C;\n",
              "        box-shadow: 0px 1px 3px 1px rgba(0, 0, 0, 0.15);\n",
              "        filter: drop-shadow(0px 1px 2px rgba(0, 0, 0, 0.3));\n",
              "        fill: #FFFFFF;\n",
              "      }\n",
              "    </style>\n",
              "    <button class=\"colab-df-generate\" onclick=\"generateWithVariable('df_origin')\"\n",
              "            title=\"Generate code using this dataframe.\"\n",
              "            style=\"display:none;\">\n",
              "\n",
              "  <svg xmlns=\"http://www.w3.org/2000/svg\" height=\"24px\"viewBox=\"0 0 24 24\"\n",
              "       width=\"24px\">\n",
              "    <path d=\"M7,19H8.4L18.45,9,17,7.55,7,17.6ZM5,21V16.75L18.45,3.32a2,2,0,0,1,2.83,0l1.4,1.43a1.91,1.91,0,0,1,.58,1.4,1.91,1.91,0,0,1-.58,1.4L9.25,21ZM18.45,9,17,7.55Zm-12,3A5.31,5.31,0,0,0,4.9,8.1,5.31,5.31,0,0,0,1,6.5,5.31,5.31,0,0,0,4.9,4.9,5.31,5.31,0,0,0,6.5,1,5.31,5.31,0,0,0,8.1,4.9,5.31,5.31,0,0,0,12,6.5,5.46,5.46,0,0,0,6.5,12Z\"/>\n",
              "  </svg>\n",
              "    </button>\n",
              "    <script>\n",
              "      (() => {\n",
              "      const buttonEl =\n",
              "        document.querySelector('#id_78410052-ceab-4647-9dc2-5407d037cf41 button.colab-df-generate');\n",
              "      buttonEl.style.display =\n",
              "        google.colab.kernel.accessAllowed ? 'block' : 'none';\n",
              "\n",
              "      buttonEl.onclick = () => {\n",
              "        google.colab.notebook.generateWithVariable('df_origin');\n",
              "      }\n",
              "      })();\n",
              "    </script>\n",
              "  </div>\n",
              "\n",
              "    </div>\n",
              "  </div>\n"
            ]
          },
          "metadata": {},
          "execution_count": 4
        }
      ]
    },
    {
      "cell_type": "code",
      "source": [
        "df_origin.info()"
      ],
      "metadata": {
        "id": "rnwI3vxezBPB",
        "outputId": "e2ebe81b-2610-4344-b7b4-a8b27dd1d245",
        "colab": {
          "base_uri": "https://localhost:8080/"
        }
      },
      "execution_count": null,
      "outputs": [
        {
          "output_type": "stream",
          "name": "stdout",
          "text": [
            "<class 'pandas.core.frame.DataFrame'>\n",
            "DatetimeIndex: 2270 entries, 2017-09-25 09:00:00 to 2023-12-12 09:00:00\n",
            "Data columns (total 6 columns):\n",
            " #   Column  Non-Null Count  Dtype  \n",
            "---  ------  --------------  -----  \n",
            " 0   open    2270 non-null   float64\n",
            " 1   high    2270 non-null   float64\n",
            " 2   low     2270 non-null   float64\n",
            " 3   close   2270 non-null   float64\n",
            " 4   volume  2270 non-null   float64\n",
            " 5   value   2270 non-null   float64\n",
            "dtypes: float64(6)\n",
            "memory usage: 124.1 KB\n"
          ]
        }
      ]
    },
    {
      "cell_type": "code",
      "source": [
        "import seaborn as sns\n",
        "import matplotlib.pyplot as plt\n",
        "\n",
        "plt.figure(figsize=(14, 6))\n",
        "sns.lineplot(data=df_origin, x=df_origin.index, y='close')  # 비트코인 차트\n",
        "plt.title('Bitcoin Line Chart');"
      ],
      "metadata": {
        "colab": {
          "base_uri": "https://localhost:8080/",
          "height": 545
        },
        "id": "_oJEu-lhpEVY",
        "outputId": "49c30a82-80b9-43c6-cd2b-de028332190e"
      },
      "execution_count": null,
      "outputs": [
        {
          "output_type": "display_data",
          "data": {
            "text/plain": [
              "<Figure size 1400x600 with 1 Axes>"
            ],
            "image/png": "[encoded data removed]"
          },
          "metadata": {}
        }
      ]
    },
    {
      "cell_type": "markdown",
      "source": [
        "## LSTM(Long Short Term Memory)\n",
        "---\n",
        "본 프로젝트에서는 long memory 특성을 보이는 비트코인의 가격 예측을 위한 딥러닝 모형으로 LSTM을 선택하였습니다. LSTM 모형을 이용하여 비트코인의 가격을 예측하고, 예측된 비트코인 가격을 이용한 이동평균선 교차 전략의 투자 성과를 비교 분석하겠습니다.\n",
        "\n",
        "> [LSTM(Long Short-Term Memory)](https://wikidocs.net/152773) 모델은 순환 신경망(Recurrent Neural Network, RNN)의 한 종류로서, 시퀀스 데이터를 처리하는 데 효과적입니다. LSTM은 RNN의 장기 의존성 문제를 해결하기 위해 고안되었습니다."
      ],
      "metadata": {
        "id": "hqC1AuJPJCUG"
      }
    },
    {
      "cell_type": "markdown",
      "source": [
        "### 1. 데이터 전처리\n",
        "일별 수익률(`Return`) 컬럼을 추가합니다."
      ],
      "metadata": {
        "id": "oOZ70dh63qHV"
      }
    },
    {
      "cell_type": "code",
      "source": [
        "# 원본 복사\n",
        "df = df_origin.copy()\n",
        "\n",
        "df['Return'] = df['close'].pct_change()\n",
        "df.head()"
      ],
      "metadata": {
        "id": "NJPC_K7S4GQl",
        "outputId": "01bb0360-6213-44a6-df0b-aad24a6b17d4",
        "colab": {
          "base_uri": "https://localhost:8080/",
          "height": 206
        }
      },
      "execution_count": null,
      "outputs": [
        {
          "output_type": "execute_result",
          "data": {
            "text/plain": [
              "                          open       high        low      close      volume  \\\n",
              "2017-09-25 09:00:00  4201000.0  4333000.0  4175000.0  4322000.0  132.484755   \n",
              "2017-09-26 09:00:00  4317000.0  4418000.0  4311000.0  4321000.0   22.788340   \n",
              "2017-09-27 09:00:00  4322000.0  4677000.0  4318000.0  4657000.0   32.269662   \n",
              "2017-09-28 09:00:00  4657000.0  4772000.0  4519000.0  4586000.0   80.588243   \n",
              "2017-09-29 09:00:00  4586000.0  4709000.0  4476000.0  4657000.0   59.352373   \n",
              "\n",
              "                            value    Return  \n",
              "2017-09-25 09:00:00  5.602146e+08       NaN  \n",
              "2017-09-26 09:00:00  9.950724e+07 -0.000231  \n",
              "2017-09-27 09:00:00  1.448276e+08  0.077760  \n",
              "2017-09-28 09:00:00  3.721860e+08 -0.015246  \n",
              "2017-09-29 09:00:00  2.724558e+08  0.015482  "
            ],
            "text/html": [
              "\n",
              "  <div id=\"df-ac82d957-123c-4574-a994-4491eb7f88c8\" class=\"colab-df-container\">\n",
              "    <div>\n",
              "<style scoped>\n",
              "    .dataframe tbody tr th:only-of-type {\n",
              "        vertical-align: middle;\n",
              "    }\n",
              "\n",
              "    .dataframe tbody tr th {\n",
              "        vertical-align: top;\n",
              "    }\n",
              "\n",
              "    .dataframe thead th {\n",
              "        text-align: right;\n",
              "    }\n",
              "</style>\n",
              "<table border=\"1\" class=\"dataframe\">\n",
              "  <thead>\n",
              "    <tr style=\"text-align: right;\">\n",
              "      <th></th>\n",
              "      <th>open</th>\n",
              "      <th>high</th>\n",
              "      <th>low</th>\n",
              "      <th>close</th>\n",
              "      <th>volume</th>\n",
              "      <th>value</th>\n",
              "      <th>Return</th>\n",
              "    </tr>\n",
              "  </thead>\n",
              "  <tbody>\n",
              "    <tr>\n",
              "      <th>2017-09-25 09:00:00</th>\n",
              "      <td>4201000.0</td>\n",
              "      <td>4333000.0</td>\n",
              "      <td>4175000.0</td>\n",
              "      <td>4322000.0</td>\n",
              "      <td>132.484755</td>\n",
              "      <td>5.602146e+08</td>\n",
              "      <td>NaN</td>\n",
              "    </tr>\n",
              "    <tr>\n",
              "      <th>2017-09-26 09:00:00</th>\n",
              "      <td>4317000.0</td>\n",
              "      <td>4418000.0</td>\n",
              "      <td>4311000.0</td>\n",
              "      <td>4321000.0</td>\n",
              "      <td>22.788340</td>\n",
              "      <td>9.950724e+07</td>\n",
              "      <td>-0.000231</td>\n",
              "    </tr>\n",
              "    <tr>\n",
              "      <th>2017-09-27 09:00:00</th>\n",
              "      <td>4322000.0</td>\n",
              "      <td>4677000.0</td>\n",
              "      <td>4318000.0</td>\n",
              "      <td>4657000.0</td>\n",
              "      <td>32.269662</td>\n",
              "      <td>1.448276e+08</td>\n",
              "      <td>0.077760</td>\n",
              "    </tr>\n",
              "    <tr>\n",
              "      <th>2017-09-28 09:00:00</th>\n",
              "      <td>4657000.0</td>\n",
              "      <td>4772000.0</td>\n",
              "      <td>4519000.0</td>\n",
              "      <td>4586000.0</td>\n",
              "      <td>80.588243</td>\n",
              "      <td>3.721860e+08</td>\n",
              "      <td>-0.015246</td>\n",
              "    </tr>\n",
              "    <tr>\n",
              "      <th>2017-09-29 09:00:00</th>\n",
              "      <td>4586000.0</td>\n",
              "      <td>4709000.0</td>\n",
              "      <td>4476000.0</td>\n",
              "      <td>4657000.0</td>\n",
              "      <td>59.352373</td>\n",
              "      <td>2.724558e+08</td>\n",
              "      <td>0.015482</td>\n",
              "    </tr>\n",
              "  </tbody>\n",
              "</table>\n",
              "</div>\n",
              "    <div class=\"colab-df-buttons\">\n",
              "\n",
              "  <div class=\"colab-df-container\">\n",
              "    <button class=\"colab-df-convert\" onclick=\"convertToInteractive('df-ac82d957-123c-4574-a994-4491eb7f88c8')\"\n",
              "            title=\"Convert this dataframe to an interactive table.\"\n",
              "            style=\"display:none;\">\n",
              "\n",
              "  <svg xmlns=\"http://www.w3.org/2000/svg\" height=\"24px\" viewBox=\"0 -960 960 960\">\n",
              "    <path d=\"M120-120v-720h720v720H120Zm60-500h600v-160H180v160Zm220 220h160v-160H400v160Zm0 220h160v-160H400v160ZM180-400h160v-160H180v160Zm440 0h160v-160H620v160ZM180-180h160v-160H180v160Zm440 0h160v-160H620v160Z\"/>\n",
              "  </svg>\n",
              "    </button>\n",
              "\n",
              "  <style>\n",
              "    .colab-df-container {\n",
              "      display:flex;\n",
              "      gap: 12px;\n",
              "    }\n",
              "\n",
              "    .colab-df-convert {\n",
              "      background-color: #E8F0FE;\n",
              "      border: none;\n",
              "      border-radius: 50%;\n",
              "      cursor: pointer;\n",
              "      display: none;\n",
              "      fill: #1967D2;\n",
              "      height: 32px;\n",
              "      padding: 0 0 0 0;\n",
              "      width: 32px;\n",
              "    }\n",
              "\n",
              "    .colab-df-convert:hover {\n",
              "      background-color: #E2EBFA;\n",
              "      box-shadow: 0px 1px 2px rgba(60, 64, 67, 0.3), 0px 1px 3px 1px rgba(60, 64, 67, 0.15);\n",
              "      fill: #174EA6;\n",
              "    }\n",
              "\n",
              "    .colab-df-buttons div {\n",
              "      margin-bottom: 4px;\n",
              "    }\n",
              "\n",
              "    [theme=dark] .colab-df-convert {\n",
              "      background-color: #3B4455;\n",
              "      fill: #D2E3FC;\n",
              "    }\n",
              "\n",
              "    [theme=dark] .colab-df-convert:hover {\n",
              "      background-color: #434B5C;\n",
              "      box-shadow: 0px 1px 3px 1px rgba(0, 0, 0, 0.15);\n",
              "      filter: drop-shadow(0px 1px 2px rgba(0, 0, 0, 0.3));\n",
              "      fill: #FFFFFF;\n",
              "    }\n",
              "  </style>\n",
              "\n",
              "    <script>\n",
              "      const buttonEl =\n",
              "        document.querySelector('#df-ac82d957-123c-4574-a994-4491eb7f88c8 button.colab-df-convert');\n",
              "      buttonEl.style.display =\n",
              "        google.colab.kernel.accessAllowed ? 'block' : 'none';\n",
              "\n",
              "      async function convertToInteractive(key) {\n",
              "        const element = document.querySelector('#df-ac82d957-123c-4574-a994-4491eb7f88c8');\n",
              "        const dataTable =\n",
              "          await google.colab.kernel.invokeFunction('convertToInteractive',\n",
              "                                                    [key], {});\n",
              "        if (!dataTable) return;\n",
              "\n",
              "        const docLinkHtml = 'Like what you see? Visit the ' +\n",
              "          '<a target=\"_blank\" href=https://colab.research.google.com/notebooks/data_table.ipynb>data table notebook</a>'\n",
              "          + ' to learn more about interactive tables.';\n",
              "        element.innerHTML = '';\n",
              "        dataTable['output_type'] = 'display_data';\n",
              "        await google.colab.output.renderOutput(dataTable, element);\n",
              "        const docLink = document.createElement('div');\n",
              "        docLink.innerHTML = docLinkHtml;\n",
              "        element.appendChild(docLink);\n",
              "      }\n",
              "    </script>\n",
              "  </div>\n",
              "\n",
              "\n",
              "<div id=\"df-8ef3e2ef-ab11-47c4-9fa7-dca72ce7024f\">\n",
              "  <button class=\"colab-df-quickchart\" onclick=\"quickchart('df-8ef3e2ef-ab11-47c4-9fa7-dca72ce7024f')\"\n",
              "            title=\"Suggest charts\"\n",
              "            style=\"display:none;\">\n",
              "\n",
              "<svg xmlns=\"http://www.w3.org/2000/svg\" height=\"24px\"viewBox=\"0 0 24 24\"\n",
              "     width=\"24px\">\n",
              "    <g>\n",
              "        <path d=\"M19 3H5c-1.1 0-2 .9-2 2v14c0 1.1.9 2 2 2h14c1.1 0 2-.9 2-2V5c0-1.1-.9-2-2-2zM9 17H7v-7h2v7zm4 0h-2V7h2v10zm4 0h-2v-4h2v4z\"/>\n",
              "    </g>\n",
              "</svg>\n",
              "  </button>\n",
              "\n",
              "<style>\n",
              "  .colab-df-quickchart {\n",
              "      --bg-color: #E8F0FE;\n",
              "      --fill-color: #1967D2;\n",
              "      --hover-bg-color: #E2EBFA;\n",
              "      --hover-fill-color: #174EA6;\n",
              "      --disabled-fill-color: #AAA;\n",
              "      --disabled-bg-color: #DDD;\n",
              "  }\n",
              "\n",
              "  [theme=dark] .colab-df-quickchart {\n",
              "      --bg-color: #3B4455;\n",
              "      --fill-color: #D2E3FC;\n",
              "      --hover-bg-color: #434B5C;\n",
              "      --hover-fill-color: #FFFFFF;\n",
              "      --disabled-bg-color: #3B4455;\n",
              "      --disabled-fill-color: #666;\n",
              "  }\n",
              "\n",
              "  .colab-df-quickchart {\n",
              "    background-color: var(--bg-color);\n",
              "    border: none;\n",
              "    border-radius: 50%;\n",
              "    cursor: pointer;\n",
              "    display: none;\n",
              "    fill: var(--fill-color);\n",
              "    height: 32px;\n",
              "    padding: 0;\n",
              "    width: 32px;\n",
              "  }\n",
              "\n",
              "  .colab-df-quickchart:hover {\n",
              "    background-color: var(--hover-bg-color);\n",
              "    box-shadow: 0 1px 2px rgba(60, 64, 67, 0.3), 0 1px 3px 1px rgba(60, 64, 67, 0.15);\n",
              "    fill: var(--button-hover-fill-color);\n",
              "  }\n",
              "\n",
              "  .colab-df-quickchart-complete:disabled,\n",
              "  .colab-df-quickchart-complete:disabled:hover {\n",
              "    background-color: var(--disabled-bg-color);\n",
              "    fill: var(--disabled-fill-color);\n",
              "    box-shadow: none;\n",
              "  }\n",
              "\n",
              "  .colab-df-spinner {\n",
              "    border: 2px solid var(--fill-color);\n",
              "    border-color: transparent;\n",
              "    border-bottom-color: var(--fill-color);\n",
              "    animation:\n",
              "      spin 1s steps(1) infinite;\n",
              "  }\n",
              "\n",
              "  @keyframes spin {\n",
              "    0% {\n",
              "      border-color: transparent;\n",
              "      border-bottom-color: var(--fill-color);\n",
              "      border-left-color: var(--fill-color);\n",
              "    }\n",
              "    20% {\n",
              "      border-color: transparent;\n",
              "      border-left-color: var(--fill-color);\n",
              "      border-top-color: var(--fill-color);\n",
              "    }\n",
              "    30% {\n",
              "      border-color: transparent;\n",
              "      border-left-color: var(--fill-color);\n",
              "      border-top-color: var(--fill-color);\n",
              "      border-right-color: var(--fill-color);\n",
              "    }\n",
              "    40% {\n",
              "      border-color: transparent;\n",
              "      border-right-color: var(--fill-color);\n",
              "      border-top-color: var(--fill-color);\n",
              "    }\n",
              "    60% {\n",
              "      border-color: transparent;\n",
              "      border-right-color: var(--fill-color);\n",
              "    }\n",
              "    80% {\n",
              "      border-color: transparent;\n",
              "      border-right-color: var(--fill-color);\n",
              "      border-bottom-color: var(--fill-color);\n",
              "    }\n",
              "    90% {\n",
              "      border-color: transparent;\n",
              "      border-bottom-color: var(--fill-color);\n",
              "    }\n",
              "  }\n",
              "</style>\n",
              "\n",
              "  <script>\n",
              "    async function quickchart(key) {\n",
              "      const quickchartButtonEl =\n",
              "        document.querySelector('#' + key + ' button');\n",
              "      quickchartButtonEl.disabled = true;  // To prevent multiple clicks.\n",
              "      quickchartButtonEl.classList.add('colab-df-spinner');\n",
              "      try {\n",
              "        const charts = await google.colab.kernel.invokeFunction(\n",
              "            'suggestCharts', [key], {});\n",
              "      } catch (error) {\n",
              "        console.error('Error during call to suggestCharts:', error);\n",
              "      }\n",
              "      quickchartButtonEl.classList.remove('colab-df-spinner');\n",
              "      quickchartButtonEl.classList.add('colab-df-quickchart-complete');\n",
              "    }\n",
              "    (() => {\n",
              "      let quickchartButtonEl =\n",
              "        document.querySelector('#df-8ef3e2ef-ab11-47c4-9fa7-dca72ce7024f button');\n",
              "      quickchartButtonEl.style.display =\n",
              "        google.colab.kernel.accessAllowed ? 'block' : 'none';\n",
              "    })();\n",
              "  </script>\n",
              "</div>\n",
              "\n",
              "    </div>\n",
              "  </div>\n"
            ]
          },
          "metadata": {},
          "execution_count": 7
        }
      ]
    },
    {
      "cell_type": "code",
      "source": [
        "# 결측치 확인\n",
        "df.isnull().sum()"
      ],
      "metadata": {
        "id": "LmgM7T93ysQb",
        "outputId": "3ebd4868-ddbf-4469-d1ba-48654d2c5fee",
        "colab": {
          "base_uri": "https://localhost:8080/"
        }
      },
      "execution_count": null,
      "outputs": [
        {
          "output_type": "execute_result",
          "data": {
            "text/plain": [
              "open      0\n",
              "high      0\n",
              "low       0\n",
              "close     0\n",
              "volume    0\n",
              "value     0\n",
              "Return    1\n",
              "dtype: int64"
            ]
          },
          "metadata": {},
          "execution_count": 8
        }
      ]
    },
    {
      "cell_type": "code",
      "source": [
        "# 결측치 제거\n",
        "df.dropna(inplace=True)\n",
        "df.isnull().sum()"
      ],
      "metadata": {
        "id": "9vjYvlL02CYb",
        "outputId": "5fc24576-87f6-448a-8b12-b1d26f035c8b",
        "colab": {
          "base_uri": "https://localhost:8080/"
        }
      },
      "execution_count": null,
      "outputs": [
        {
          "output_type": "execute_result",
          "data": {
            "text/plain": [
              "open      0\n",
              "high      0\n",
              "low       0\n",
              "close     0\n",
              "volume    0\n",
              "value     0\n",
              "Return    0\n",
              "dtype: int64"
            ]
          },
          "metadata": {},
          "execution_count": 9
        }
      ]
    },
    {
      "cell_type": "markdown",
      "source": [
        "입력변수로는 비트코인의 일별 시가(`open`), 고가(`high`), 저가(`low`), 종가(`close`)와 일별 수익률(`Return`) 자료를 이용합니다. 5개의 입력변수를 이용하여 다음 날의 비트코인 종가를 예측하는 것을 목표로 합니다."
      ],
      "metadata": {
        "id": "Qh9llqjH_GfG"
      }
    },
    {
      "cell_type": "code",
      "source": [
        "input_data = df[['open', 'high', 'low', 'close', 'Return']].values\n",
        "\n",
        "print(\"Input data shape:\", input_data.shape, end=\"\\n\\n\")\n",
        "input_data"
      ],
      "metadata": {
        "id": "oV07Efjl_VHg",
        "outputId": "8babccef-4389-4ef5-d262-373cec3ed050",
        "colab": {
          "base_uri": "https://localhost:8080/"
        }
      },
      "execution_count": null,
      "outputs": [
        {
          "output_type": "stream",
          "name": "stdout",
          "text": [
            "Input data shape: (2269, 5)\n",
            "\n"
          ]
        },
        {
          "output_type": "execute_result",
          "data": {
            "text/plain": [
              "array([[ 4.31700000e+06,  4.41800000e+06,  4.31100000e+06,\n",
              "         4.32100000e+06, -2.31374364e-04],\n",
              "       [ 4.32200000e+06,  4.67700000e+06,  4.31800000e+06,\n",
              "         4.65700000e+06,  7.77597778e-02],\n",
              "       [ 4.65700000e+06,  4.77200000e+06,  4.51900000e+06,\n",
              "         4.58600000e+06, -1.52458664e-02],\n",
              "       ...,\n",
              "       [ 6.00820000e+07,  6.02770000e+07,  5.95630000e+07,\n",
              "         5.98350000e+07, -4.11104823e-03],\n",
              "       [ 5.98340000e+07,  5.99180000e+07,  5.54600000e+07,\n",
              "         5.69500000e+07, -4.82159271e-02],\n",
              "       [ 5.69500000e+07,  5.87800000e+07,  5.66980000e+07,\n",
              "         5.77020000e+07,  1.32045654e-02]])"
            ]
          },
          "metadata": {},
          "execution_count": 10
        }
      ]
    },
    {
      "cell_type": "markdown",
      "source": [
        "* 연속된 5일의 데이터를 하나의 **시퀀스**로 설정합니다.\n",
        "* 학습 데이터는 전체 데이터의 70%로 합니다."
      ],
      "metadata": {
        "id": "gpZIW-YqkGDf"
      }
    },
    {
      "cell_type": "code",
      "source": [
        "import math\n",
        "\n",
        "sequence_length = 5\n",
        "\n",
        "train_len = math.ceil(len(input_data) * 0.7)\n",
        "train = input_data[0:train_len, :]\n",
        "test = input_data[train_len - sequence_length:, :]\n",
        "\n",
        "print(\"input data shape:\", input_data.shape)\n",
        "print(\"Train data shape:\", train.shape)\n",
        "print(\"Test data shape:\", test.shape)"
      ],
      "metadata": {
        "colab": {
          "base_uri": "https://localhost:8080/"
        },
        "id": "o062q-tAjQs1",
        "outputId": "1a78c770-0bc3-4a87-c0f6-64b113f0978f"
      },
      "execution_count": null,
      "outputs": [
        {
          "output_type": "stream",
          "name": "stdout",
          "text": [
            "input data shape: (2269, 5)\n",
            "Train data shape: (1589, 5)\n",
            "Test data shape: (685, 5)\n"
          ]
        }
      ]
    },
    {
      "cell_type": "markdown",
      "source": [
        "`MinMaxScaler()`는 최소/최대값이 각각 0, 1이 되도록 하여스 모든 feature 값이 0~1 사이에 있도록 데이터를 재조정합니다.\n",
        "\n",
        "$$ Y = \\frac{X-X_{min}}{X_{max}-X_{min}} $$\n",
        "\n"
      ],
      "metadata": {
        "id": "QOQVwb_YRjB_"
      }
    },
    {
      "cell_type": "code",
      "source": [
        "from sklearn.preprocessing import MinMaxScaler\n",
        "\n",
        "scaler = MinMaxScaler()\n",
        "train = scaler.fit_transform(train)  # 학습 데이터 스케일링\n",
        "test = scaler.transform(test)  # 테스트 데이터 스케일링\n",
        "\n",
        "print(\"Train data shape:\", train.shape)\n",
        "print(\"Test data shape:\", test.shape, end=\"\\n\\n\")\n",
        "train"
      ],
      "metadata": {
        "id": "dW8vn19ZJ_e0",
        "outputId": "7530412e-3787-47da-daf0-6d8390c8326a",
        "colab": {
          "base_uri": "https://localhost:8080/"
        }
      },
      "execution_count": null,
      "outputs": [
        {
          "output_type": "stream",
          "name": "stdout",
          "text": [
            "Train data shape: (1589, 5)\n",
            "Test data shape: (685, 5)\n",
            "\n"
          ]
        },
        {
          "output_type": "execute_result",
          "data": {
            "text/plain": [
              "array([[0.00896094, 0.00927672, 0.00980046, 0.00902499, 0.52942638],\n",
              "       [0.00902522, 0.01255458, 0.00989205, 0.01334465, 0.65429073],\n",
              "       [0.01333213, 0.01375688, 0.01252208, 0.01243186, 0.50538808],\n",
              "       ...,\n",
              "       [0.55246715, 0.5576283 , 0.55764475, 0.55958809, 0.54897261],\n",
              "       [0.55956391, 0.55451497, 0.56180569, 0.56038517, 0.53190224],\n",
              "       [0.56038672, 0.55637537, 0.55036964, 0.56113082, 0.53176382]])"
            ]
          },
          "metadata": {},
          "execution_count": 12
        }
      ]
    },
    {
      "cell_type": "markdown",
      "source": [
        "학습 데이터, 테스트 데이터의 **특성(features)** 및 **타겟(target)** 변수를 정의합니다."
      ],
      "metadata": {
        "id": "UqOWtUehx6GE"
      }
    },
    {
      "cell_type": "code",
      "source": [
        "import numpy as np\n",
        "\n",
        "# 학습 데이터\n",
        "X_train, y_train = [], []\n",
        "\n",
        "for i in range(sequence_length, len(train)):\n",
        "    X_train.append(train[i-sequence_length:i, :])\n",
        "    y_train.append(train[i, 3])\n",
        "\n",
        "X_train, y_train = np.array(X_train), np.array(y_train)\n",
        "\n",
        "\n",
        "# 테스트 데이터\n",
        "X_test = []\n",
        "y_test = df['close'][train_len:].values\n",
        "\n",
        "for i in range(sequence_length, len(test)):\n",
        "    X_test.append(test[i-sequence_length:i, :])\n",
        "\n",
        "X_test = np.array(X_test)\n",
        "\n",
        "print(\"X_train shape:\", X_train.shape)\n",
        "print(\"y_train shape:\", y_train.shape)\n",
        "print(\"X_test shape:\", y_test.shape)\n",
        "print(\"y_test shape:\", y_test.shape)"
      ],
      "metadata": {
        "colab": {
          "base_uri": "https://localhost:8080/"
        },
        "id": "kpgD6ZadlPhc",
        "outputId": "fd740b93-ace5-4e69-dce8-1ea23612fa92"
      },
      "execution_count": null,
      "outputs": [
        {
          "output_type": "stream",
          "name": "stdout",
          "text": [
            "X_train shape: (1584, 5, 5)\n",
            "y_train shape: (1584,)\n",
            "X_test shape: (680,)\n",
            "y_test shape: (680,)\n"
          ]
        }
      ]
    },
    {
      "cell_type": "markdown",
      "source": [
        "### 2. Modeling"
      ],
      "metadata": {
        "id": "mCCQob0yHnCH"
      }
    },
    {
      "cell_type": "code",
      "source": [
        "import tensorflow as tf\n",
        "\n",
        "# 하이퍼 파라미터(Hyperparameter)를 설정하여 모델을 정의합니다.\n",
        "model = tf.keras.models.Sequential([\n",
        "    tf.keras.layers.LSTM(units=50, return_sequences=True, input_shape=(X_train.shape[1], 5)),\n",
        "    tf.keras.layers.Dropout(0.1),\n",
        "    tf.keras.layers.LSTM(units=50, return_sequences=False),\n",
        "    tf.keras.layers.Dense(25),\n",
        "    tf.keras.layers.Dense(1),\n",
        "])\n",
        "\n",
        "# 모델 컴파일\n",
        "adam = tf.keras.optimizers.Adam(learning_rate=0.01)\n",
        "model.compile(optimizer=adam, loss='mean_squared_error', metrics=['accuracy'])\n",
        "\n",
        "model.summary()"
      ],
      "metadata": {
        "id": "rL1_k099Hq9o",
        "colab": {
          "base_uri": "https://localhost:8080/"
        },
        "outputId": "9e8b2b9a-60b0-4616-f003-56f3359a1251"
      },
      "execution_count": null,
      "outputs": [
        {
          "output_type": "stream",
          "name": "stdout",
          "text": [
            "Model: \"sequential\"\n",
            "_________________________________________________________________\n",
            " Layer (type)                Output Shape              Param #   \n",
            "=================================================================\n",
            " lstm (LSTM)                 (None, 5, 50)             11200     \n",
            "                                                                 \n",
            " dropout (Dropout)           (None, 5, 50)             0         \n",
            "                                                                 \n",
            " lstm_1 (LSTM)               (None, 50)                20200     \n",
            "                                                                 \n",
            " dense (Dense)               (None, 25)                1275      \n",
            "                                                                 \n",
            " dense_1 (Dense)             (None, 1)                 26        \n",
            "                                                                 \n",
            "=================================================================\n",
            "Total params: 32701 (127.74 KB)\n",
            "Trainable params: 32701 (127.74 KB)\n",
            "Non-trainable params: 0 (0.00 Byte)\n",
            "_________________________________________________________________\n"
          ]
        }
      ]
    },
    {
      "cell_type": "code",
      "source": [
        "# 학습\n",
        "unicorns = model.fit(X_train, y_train, batch_size=10, epochs=5)\n",
        "\n",
        "# 예측\n",
        "# pred = model.predict(X_test)\n",
        "# pred = scaler.inverse_transform(pred)\n",
        "\n",
        "# # 성능 평가\n",
        "# rmse = math.sqrt(mean_squared_error(y_test, predictions))\n",
        "# print('RMSE: ', rmse)"
      ],
      "metadata": {
        "id": "h9Kpg-Tqd1BV",
        "colab": {
          "base_uri": "https://localhost:8080/"
        },
        "outputId": "f35d36c0-278d-40ff-d302-f7a5eb2c0e8e"
      },
      "execution_count": null,
      "outputs": [
        {
          "output_type": "stream",
          "name": "stdout",
          "text": [
            "Epoch 1/5\n",
            "159/159 [==============================] - 3s 6ms/step - loss: 3.2441e-04 - accuracy: 0.0013\n",
            "Epoch 2/5\n",
            "159/159 [==============================] - 1s 6ms/step - loss: 2.8948e-04 - accuracy: 0.0013\n",
            "Epoch 3/5\n",
            "159/159 [==============================] - 1s 6ms/step - loss: 2.9568e-04 - accuracy: 0.0013\n",
            "Epoch 4/5\n",
            "159/159 [==============================] - 1s 9ms/step - loss: 2.9809e-04 - accuracy: 0.0013\n",
            "Epoch 5/5\n",
            "159/159 [==============================] - 1s 9ms/step - loss: 3.0710e-04 - accuracy: 0.0013\n"
          ]
        }
      ]
    },
    {
      "cell_type": "code",
      "source": [
        "import matplotlib.pyplot as plt\n",
        "\n",
        "# Plot training & validation loss values\n",
        "plt.plot(unicorns.history['loss'])\n",
        "# plt.plot(unicorns.history['val_loss'])\n",
        "plt.title('Model loss')\n",
        "plt.ylabel('Loss')\n",
        "plt.xlabel('Epoch')\n",
        "plt.legend(['Train', 'Test'], loc='upper left')\n",
        "plt.show();"
      ],
      "metadata": {
        "id": "JhbGE_IvSt4f",
        "outputId": "1789935b-393d-4136-94e9-054e2c22be98",
        "colab": {
          "base_uri": "https://localhost:8080/",
          "height": 472
        }
      },
      "execution_count": null,
      "outputs": [
        {
          "output_type": "display_data",
          "data": {
            "text/plain": [
              "<Figure size 640x480 with 1 Axes>"
            ],
            "image/png": "[encoded data removed]"
          },
          "metadata": {}
        }
      ]
    },
    {
      "cell_type": "markdown",
      "source": [
        "### 평가지표"
      ],
      "metadata": {
        "id": "EKtxkqEw6QSc"
      }
    },
    {
      "cell_type": "code",
      "source": [
        "from sklearn.metrics import classification_report\n",
        "\n",
        "y_pred_test_log = logCV_model.predict(X_test_std)\n",
        "\n",
        "print(classification_report(y_test, y_pred_test_log))"
      ],
      "metadata": {
        "id": "yVLgenIQvjTY",
        "colab": {
          "base_uri": "https://localhost:8080/",
          "height": 255
        },
        "outputId": "db2b1cd7-7953-4925-c8a0-f46fa6ba3a09"
      },
      "execution_count": null,
      "outputs": [
        {
          "output_type": "error",
          "ename": "NameError",
          "evalue": "ignored",
          "traceback": [
            "\u001b[0;31m---------------------------------------------------------------------------\u001b[0m",
            "\u001b[0;31mNameError\u001b[0m                                 Traceback (most recent call last)",
            "\u001b[0;32m<ipython-input-16-88dcb6c879f9>\u001b[0m in \u001b[0;36m<cell line: 3>\u001b[0;34m()\u001b[0m\n\u001b[1;32m      1\u001b[0m \u001b[0;32mfrom\u001b[0m \u001b[0msklearn\u001b[0m\u001b[0;34m.\u001b[0m\u001b[0mmetrics\u001b[0m \u001b[0;32mimport\u001b[0m \u001b[0mclassification_report\u001b[0m\u001b[0;34m\u001b[0m\u001b[0;34m\u001b[0m\u001b[0m\n\u001b[1;32m      2\u001b[0m \u001b[0;34m\u001b[0m\u001b[0m\n\u001b[0;32m----> 3\u001b[0;31m \u001b[0my_pred_test_log\u001b[0m \u001b[0;34m=\u001b[0m \u001b[0mlogCV_model\u001b[0m\u001b[0;34m.\u001b[0m\u001b[0mpredict\u001b[0m\u001b[0;34m(\u001b[0m\u001b[0mX_test_std\u001b[0m\u001b[0;34m)\u001b[0m\u001b[0;34m\u001b[0m\u001b[0;34m\u001b[0m\u001b[0m\n\u001b[0m\u001b[1;32m      4\u001b[0m \u001b[0;34m\u001b[0m\u001b[0m\n\u001b[1;32m      5\u001b[0m \u001b[0mprint\u001b[0m\u001b[0;34m(\u001b[0m\u001b[0mclassification_report\u001b[0m\u001b[0;34m(\u001b[0m\u001b[0my_test\u001b[0m\u001b[0;34m,\u001b[0m \u001b[0my_pred_test_log\u001b[0m\u001b[0;34m)\u001b[0m\u001b[0;34m)\u001b[0m\u001b[0;34m\u001b[0m\u001b[0;34m\u001b[0m\u001b[0m\n",
            "\u001b[0;31mNameError\u001b[0m: name 'logCV_model' is not defined"
          ]
        }
      ]
    }
  ]
}