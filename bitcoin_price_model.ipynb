{
  "nbformat": 4,
  "nbformat_minor": 0,
  "metadata": {
    "colab": {
      "provenance": [],
      "collapsed_sections": []
    },
    "kernelspec": {
      "name": "python3",
      "display_name": "Python 3"
    },
    "language_info": {
      "name": "python"
    }
  },
  "cells": [
    {
      "cell_type": "markdown",
      "source": [
        "# 암호화폐(BitCoin)의 가격 예측 모델"
      ],
      "metadata": {
        "id": "ncvk3adDf-Fg"
      }
    },
    {
      "cell_type": "markdown",
      "source": [
        "### 필요 모듈 설치\n",
        "> pyupbit 모듈은 업비트 API를 파이썬에서 쉽게 사용하기 위해서 개발되었다. 따로 API를 호출할 필요가 없어 간편하다. \n",
        "\n",
        "[Github 문서](https://github.com/sharebook-kr/pyupbit)"
      ],
      "metadata": {
        "id": "XJeMqxahkERA"
      }
    },
    {
      "cell_type": "code",
      "execution_count": null,
      "metadata": {
        "id": "KMzzvcnMk7U5"
      },
      "outputs": [],
      "source": [
        "!pip install pyupbit\n",
        "!pip3 install xgboost\n",
        "!pip3 install bayesian-optimization"
      ]
    },
    {
      "cell_type": "code",
      "source": [
        "import pyupbit"
      ],
      "metadata": {
        "id": "E1yAyw24osYT"
      },
      "execution_count": 3,
      "outputs": []
    },
    {
      "cell_type": "markdown",
      "source": [
        "### 업비트에서 일봉(day)차트의 데이터 가져오기\n",
        "* `open`: 시가\n",
        "* `high`: 고가\n",
        "* `low`: 저가\n",
        "* `close`: 종가\n",
        "* `volume`: 거래량\n",
        "* `value`: 거래대금"
      ],
      "metadata": {
        "id": "RVlfb5-o2nCE"
      }
    },
    {
      "cell_type": "code",
      "source": [
        "# 원본 데이터\n",
        "df_origin = pyupbit.get_ohlcv(\"KRW-BTC\", \"day\", count=2000, period=1)\n",
        "\n",
        "print(df_origin.shape)\n",
        "df_origin.head()"
      ],
      "metadata": {
        "colab": {
          "base_uri": "https://localhost:8080/",
          "height": 224
        },
        "id": "WpIDxLunozsW",
        "outputId": "50953b53-90ec-447e-f170-d85cbd70c9ed"
      },
      "execution_count": 4,
      "outputs": [
        {
          "output_type": "stream",
          "name": "stdout",
          "text": [
            "(1832, 6)\n"
          ]
        },
        {
          "output_type": "execute_result",
          "data": {
            "text/plain": [
              "                          open       high        low      close      volume  \\\n",
              "2017-09-25 09:00:00  4201000.0  4333000.0  4175000.0  4322000.0  132.484755   \n",
              "2017-09-26 09:00:00  4317000.0  4418000.0  4311000.0  4321000.0   22.788340   \n",
              "2017-09-27 09:00:00  4322000.0  4677000.0  4318000.0  4657000.0   32.269662   \n",
              "2017-09-28 09:00:00  4657000.0  4772000.0  4519000.0  4586000.0   80.588243   \n",
              "2017-09-29 09:00:00  4586000.0  4709000.0  4476000.0  4657000.0   59.352373   \n",
              "\n",
              "                            value  \n",
              "2017-09-25 09:00:00  5.602146e+08  \n",
              "2017-09-26 09:00:00  9.950724e+07  \n",
              "2017-09-27 09:00:00  1.448276e+08  \n",
              "2017-09-28 09:00:00  3.721860e+08  \n",
              "2017-09-29 09:00:00  2.724558e+08  "
            ],
            "text/html": [
              "\n",
              "  <div id=\"df-cb193bfc-3973-4003-873b-e0662379b5fa\">\n",
              "    <div class=\"colab-df-container\">\n",
              "      <div>\n",
              "<style scoped>\n",
              "    .dataframe tbody tr th:only-of-type {\n",
              "        vertical-align: middle;\n",
              "    }\n",
              "\n",
              "    .dataframe tbody tr th {\n",
              "        vertical-align: top;\n",
              "    }\n",
              "\n",
              "    .dataframe thead th {\n",
              "        text-align: right;\n",
              "    }\n",
              "</style>\n",
              "<table border=\"1\" class=\"dataframe\">\n",
              "  <thead>\n",
              "    <tr style=\"text-align: right;\">\n",
              "      <th></th>\n",
              "      <th>open</th>\n",
              "      <th>high</th>\n",
              "      <th>low</th>\n",
              "      <th>close</th>\n",
              "      <th>volume</th>\n",
              "      <th>value</th>\n",
              "    </tr>\n",
              "  </thead>\n",
              "  <tbody>\n",
              "    <tr>\n",
              "      <th>2017-09-25 09:00:00</th>\n",
              "      <td>4201000.0</td>\n",
              "      <td>4333000.0</td>\n",
              "      <td>4175000.0</td>\n",
              "      <td>4322000.0</td>\n",
              "      <td>132.484755</td>\n",
              "      <td>5.602146e+08</td>\n",
              "    </tr>\n",
              "    <tr>\n",
              "      <th>2017-09-26 09:00:00</th>\n",
              "      <td>4317000.0</td>\n",
              "      <td>4418000.0</td>\n",
              "      <td>4311000.0</td>\n",
              "      <td>4321000.0</td>\n",
              "      <td>22.788340</td>\n",
              "      <td>9.950724e+07</td>\n",
              "    </tr>\n",
              "    <tr>\n",
              "      <th>2017-09-27 09:00:00</th>\n",
              "      <td>4322000.0</td>\n",
              "      <td>4677000.0</td>\n",
              "      <td>4318000.0</td>\n",
              "      <td>4657000.0</td>\n",
              "      <td>32.269662</td>\n",
              "      <td>1.448276e+08</td>\n",
              "    </tr>\n",
              "    <tr>\n",
              "      <th>2017-09-28 09:00:00</th>\n",
              "      <td>4657000.0</td>\n",
              "      <td>4772000.0</td>\n",
              "      <td>4519000.0</td>\n",
              "      <td>4586000.0</td>\n",
              "      <td>80.588243</td>\n",
              "      <td>3.721860e+08</td>\n",
              "    </tr>\n",
              "    <tr>\n",
              "      <th>2017-09-29 09:00:00</th>\n",
              "      <td>4586000.0</td>\n",
              "      <td>4709000.0</td>\n",
              "      <td>4476000.0</td>\n",
              "      <td>4657000.0</td>\n",
              "      <td>59.352373</td>\n",
              "      <td>2.724558e+08</td>\n",
              "    </tr>\n",
              "  </tbody>\n",
              "</table>\n",
              "</div>\n",
              "      <button class=\"colab-df-convert\" onclick=\"convertToInteractive('df-cb193bfc-3973-4003-873b-e0662379b5fa')\"\n",
              "              title=\"Convert this dataframe to an interactive table.\"\n",
              "              style=\"display:none;\">\n",
              "        \n",
              "  <svg xmlns=\"http://www.w3.org/2000/svg\" height=\"24px\"viewBox=\"0 0 24 24\"\n",
              "       width=\"24px\">\n",
              "    <path d=\"M0 0h24v24H0V0z\" fill=\"none\"/>\n",
              "    <path d=\"M18.56 5.44l.94 2.06.94-2.06 2.06-.94-2.06-.94-.94-2.06-.94 2.06-2.06.94zm-11 1L8.5 8.5l.94-2.06 2.06-.94-2.06-.94L8.5 2.5l-.94 2.06-2.06.94zm10 10l.94 2.06.94-2.06 2.06-.94-2.06-.94-.94-2.06-.94 2.06-2.06.94z\"/><path d=\"M17.41 7.96l-1.37-1.37c-.4-.4-.92-.59-1.43-.59-.52 0-1.04.2-1.43.59L10.3 9.45l-7.72 7.72c-.78.78-.78 2.05 0 2.83L4 21.41c.39.39.9.59 1.41.59.51 0 1.02-.2 1.41-.59l7.78-7.78 2.81-2.81c.8-.78.8-2.07 0-2.86zM5.41 20L4 18.59l7.72-7.72 1.47 1.35L5.41 20z\"/>\n",
              "  </svg>\n",
              "      </button>\n",
              "      \n",
              "  <style>\n",
              "    .colab-df-container {\n",
              "      display:flex;\n",
              "      flex-wrap:wrap;\n",
              "      gap: 12px;\n",
              "    }\n",
              "\n",
              "    .colab-df-convert {\n",
              "      background-color: #E8F0FE;\n",
              "      border: none;\n",
              "      border-radius: 50%;\n",
              "      cursor: pointer;\n",
              "      display: none;\n",
              "      fill: #1967D2;\n",
              "      height: 32px;\n",
              "      padding: 0 0 0 0;\n",
              "      width: 32px;\n",
              "    }\n",
              "\n",
              "    .colab-df-convert:hover {\n",
              "      background-color: #E2EBFA;\n",
              "      box-shadow: 0px 1px 2px rgba(60, 64, 67, 0.3), 0px 1px 3px 1px rgba(60, 64, 67, 0.15);\n",
              "      fill: #174EA6;\n",
              "    }\n",
              "\n",
              "    [theme=dark] .colab-df-convert {\n",
              "      background-color: #3B4455;\n",
              "      fill: #D2E3FC;\n",
              "    }\n",
              "\n",
              "    [theme=dark] .colab-df-convert:hover {\n",
              "      background-color: #434B5C;\n",
              "      box-shadow: 0px 1px 3px 1px rgba(0, 0, 0, 0.15);\n",
              "      filter: drop-shadow(0px 1px 2px rgba(0, 0, 0, 0.3));\n",
              "      fill: #FFFFFF;\n",
              "    }\n",
              "  </style>\n",
              "\n",
              "      <script>\n",
              "        const buttonEl =\n",
              "          document.querySelector('#df-cb193bfc-3973-4003-873b-e0662379b5fa button.colab-df-convert');\n",
              "        buttonEl.style.display =\n",
              "          google.colab.kernel.accessAllowed ? 'block' : 'none';\n",
              "\n",
              "        async function convertToInteractive(key) {\n",
              "          const element = document.querySelector('#df-cb193bfc-3973-4003-873b-e0662379b5fa');\n",
              "          const dataTable =\n",
              "            await google.colab.kernel.invokeFunction('convertToInteractive',\n",
              "                                                     [key], {});\n",
              "          if (!dataTable) return;\n",
              "\n",
              "          const docLinkHtml = 'Like what you see? Visit the ' +\n",
              "            '<a target=\"_blank\" href=https://colab.research.google.com/notebooks/data_table.ipynb>data table notebook</a>'\n",
              "            + ' to learn more about interactive tables.';\n",
              "          element.innerHTML = '';\n",
              "          dataTable['output_type'] = 'display_data';\n",
              "          await google.colab.output.renderOutput(dataTable, element);\n",
              "          const docLink = document.createElement('div');\n",
              "          docLink.innerHTML = docLinkHtml;\n",
              "          element.appendChild(docLink);\n",
              "        }\n",
              "      </script>\n",
              "    </div>\n",
              "  </div>\n",
              "  "
            ]
          },
          "metadata": {},
          "execution_count": 4
        }
      ]
    },
    {
      "cell_type": "markdown",
      "source": [
        "### EDA, Feature engineering\n",
        "* 새로운 컬럼을 생성\n",
        "  * `candle`: 전날 대비 캔들의 비율(음봉은 음수, 양봉은 양수)\n",
        "  * `volume_ratio`: 전날 대비 거래량의 비율\n",
        "  * `profit_loss`: 다음 날의 손실(0)과 이득(1)을 나타내는 컬럼을 생성 "
      ],
      "metadata": {
        "id": "oOZ70dh63qHV"
      }
    },
    {
      "cell_type": "code",
      "source": [
        "import numpy as np\n",
        "import matplotlib.pyplot as plt\n",
        "import pandas as pd\n",
        "\n",
        "df = df_origin.copy()\n",
        "\n",
        "# 전날 대비 캔들의 길이\n",
        "candle_lst = [np.nan]\n",
        "for c in range(len(df)-1):\n",
        "  candle_ratio = (df['close'].iloc[c+1]-df['open'].iloc[c+1]) / abs(df['close'].iloc[c]-df['open'].iloc[c]+1)\n",
        "  candle_lst.append(candle_ratio.round(2))\n",
        "\n",
        "df['candle'] = candle_lst\n",
        "\n",
        "\n",
        "# 전날 대비 거래량 비율\n",
        "volume_lst = [np.nan]\n",
        "for c in range(len(df)-1):\n",
        "  volume_ratio = df['volume'].iloc[c+1] / df['volume'].iloc[c]\n",
        "  volume_lst.append(volume_ratio.round(2))\n",
        "\n",
        "df['volume_ratio'] = volume_lst\n",
        "\n",
        "\n",
        "# 다음날의 손익 컬럼 생성(1은 수익, 0은 손실을 의미)\n",
        "pl_lst = []\n",
        "for p in range(len(df)-1):\n",
        "  if df.iloc[p+1, 3]-df.iloc[p+1,0] > 0:\n",
        "    pl_lst.append(1)\n",
        "  elif df.iloc[p+1,3]-df.iloc[p+1,0] <= 0:\n",
        "    pl_lst.append(0)\n",
        "# 마지막 행의 손익을 알 수 없으므로 결측치 처리\n",
        "pl_lst.append(np.nan)\n",
        "df['profit_loss'] = pl_lst\n",
        "\n",
        "# 첫 행과 마지막 행 삭제\n",
        "df.dropna(inplace=True)\n",
        "\n",
        "# 데이터 타입 변경\n",
        "df = df.astype({'open':int, 'high':int, 'low':int, 'close':int, 'profit_loss':int})\n",
        "df"
      ],
      "metadata": {
        "colab": {
          "base_uri": "https://localhost:8080/",
          "height": 424
        },
        "id": "G8zTsv9QpX-0",
        "outputId": "880b40d3-66a9-4b86-9369-6d640b798793"
      },
      "execution_count": 40,
      "outputs": [
        {
          "output_type": "execute_result",
          "data": {
            "text/plain": [
              "                         open      high       low     close        volume  \\\n",
              "2017-09-26 09:00:00   4317000   4418000   4311000   4321000     22.788340   \n",
              "2017-09-27 09:00:00   4322000   4677000   4318000   4657000     32.269662   \n",
              "2017-09-28 09:00:00   4657000   4772000   4519000   4586000     80.588243   \n",
              "2017-09-29 09:00:00   4586000   4709000   4476000   4657000     59.352373   \n",
              "2017-09-30 09:00:00   4657000   4896000   4651000   4895000     19.998483   \n",
              "...                       ...       ...       ...       ...           ...   \n",
              "2022-09-25 09:00:00  27270000  27499000  26910000  27051000   2488.111300   \n",
              "2022-09-26 09:00:00  27051000  27749000  27000000  27597000   4639.446161   \n",
              "2022-09-27 09:00:00  27604000  29112000  27130000  27501000  11326.095177   \n",
              "2022-09-28 09:00:00  27495000  28421000  26800000  27952000   7772.212439   \n",
              "2022-09-29 09:00:00  27952000  28246000  27290000  28033000   6460.931579   \n",
              "\n",
              "                            value  candle  volume_ratio  profit_loss  \n",
              "2017-09-26 09:00:00  9.950724e+07    0.03          0.17            1  \n",
              "2017-09-27 09:00:00  1.448276e+08   83.73          1.42            0  \n",
              "2017-09-28 09:00:00  3.721860e+08   -0.21          2.50            1  \n",
              "2017-09-29 09:00:00  2.724558e+08    1.00          0.74            1  \n",
              "2017-09-30 09:00:00  9.561476e+07    3.35          0.34            1  \n",
              "...                           ...     ...           ...          ...  \n",
              "2022-09-25 09:00:00  6.783023e+10   -0.68          0.86            1  \n",
              "2022-09-26 09:00:00  1.270504e+11    2.49          1.86            0  \n",
              "2022-09-27 09:00:00  3.191365e+11   -0.19          2.44            1  \n",
              "2022-09-28 09:00:00  2.141910e+11    4.44          0.69            1  \n",
              "2022-09-29 09:00:00  1.800406e+11    0.18          0.83            0  \n",
              "\n",
              "[1830 rows x 9 columns]"
            ],
            "text/html": [
              "\n",
              "  <div id=\"df-017d8dc3-16e5-45c0-b072-a8e861b6c77a\">\n",
              "    <div class=\"colab-df-container\">\n",
              "      <div>\n",
              "<style scoped>\n",
              "    .dataframe tbody tr th:only-of-type {\n",
              "        vertical-align: middle;\n",
              "    }\n",
              "\n",
              "    .dataframe tbody tr th {\n",
              "        vertical-align: top;\n",
              "    }\n",
              "\n",
              "    .dataframe thead th {\n",
              "        text-align: right;\n",
              "    }\n",
              "</style>\n",
              "<table border=\"1\" class=\"dataframe\">\n",
              "  <thead>\n",
              "    <tr style=\"text-align: right;\">\n",
              "      <th></th>\n",
              "      <th>open</th>\n",
              "      <th>high</th>\n",
              "      <th>low</th>\n",
              "      <th>close</th>\n",
              "      <th>volume</th>\n",
              "      <th>value</th>\n",
              "      <th>candle</th>\n",
              "      <th>volume_ratio</th>\n",
              "      <th>profit_loss</th>\n",
              "    </tr>\n",
              "  </thead>\n",
              "  <tbody>\n",
              "    <tr>\n",
              "      <th>2017-09-26 09:00:00</th>\n",
              "      <td>4317000</td>\n",
              "      <td>4418000</td>\n",
              "      <td>4311000</td>\n",
              "      <td>4321000</td>\n",
              "      <td>22.788340</td>\n",
              "      <td>9.950724e+07</td>\n",
              "      <td>0.03</td>\n",
              "      <td>0.17</td>\n",
              "      <td>1</td>\n",
              "    </tr>\n",
              "    <tr>\n",
              "      <th>2017-09-27 09:00:00</th>\n",
              "      <td>4322000</td>\n",
              "      <td>4677000</td>\n",
              "      <td>4318000</td>\n",
              "      <td>4657000</td>\n",
              "      <td>32.269662</td>\n",
              "      <td>1.448276e+08</td>\n",
              "      <td>83.73</td>\n",
              "      <td>1.42</td>\n",
              "      <td>0</td>\n",
              "    </tr>\n",
              "    <tr>\n",
              "      <th>2017-09-28 09:00:00</th>\n",
              "      <td>4657000</td>\n",
              "      <td>4772000</td>\n",
              "      <td>4519000</td>\n",
              "      <td>4586000</td>\n",
              "      <td>80.588243</td>\n",
              "      <td>3.721860e+08</td>\n",
              "      <td>-0.21</td>\n",
              "      <td>2.50</td>\n",
              "      <td>1</td>\n",
              "    </tr>\n",
              "    <tr>\n",
              "      <th>2017-09-29 09:00:00</th>\n",
              "      <td>4586000</td>\n",
              "      <td>4709000</td>\n",
              "      <td>4476000</td>\n",
              "      <td>4657000</td>\n",
              "      <td>59.352373</td>\n",
              "      <td>2.724558e+08</td>\n",
              "      <td>1.00</td>\n",
              "      <td>0.74</td>\n",
              "      <td>1</td>\n",
              "    </tr>\n",
              "    <tr>\n",
              "      <th>2017-09-30 09:00:00</th>\n",
              "      <td>4657000</td>\n",
              "      <td>4896000</td>\n",
              "      <td>4651000</td>\n",
              "      <td>4895000</td>\n",
              "      <td>19.998483</td>\n",
              "      <td>9.561476e+07</td>\n",
              "      <td>3.35</td>\n",
              "      <td>0.34</td>\n",
              "      <td>1</td>\n",
              "    </tr>\n",
              "    <tr>\n",
              "      <th>...</th>\n",
              "      <td>...</td>\n",
              "      <td>...</td>\n",
              "      <td>...</td>\n",
              "      <td>...</td>\n",
              "      <td>...</td>\n",
              "      <td>...</td>\n",
              "      <td>...</td>\n",
              "      <td>...</td>\n",
              "      <td>...</td>\n",
              "    </tr>\n",
              "    <tr>\n",
              "      <th>2022-09-25 09:00:00</th>\n",
              "      <td>27270000</td>\n",
              "      <td>27499000</td>\n",
              "      <td>26910000</td>\n",
              "      <td>27051000</td>\n",
              "      <td>2488.111300</td>\n",
              "      <td>6.783023e+10</td>\n",
              "      <td>-0.68</td>\n",
              "      <td>0.86</td>\n",
              "      <td>1</td>\n",
              "    </tr>\n",
              "    <tr>\n",
              "      <th>2022-09-26 09:00:00</th>\n",
              "      <td>27051000</td>\n",
              "      <td>27749000</td>\n",
              "      <td>27000000</td>\n",
              "      <td>27597000</td>\n",
              "      <td>4639.446161</td>\n",
              "      <td>1.270504e+11</td>\n",
              "      <td>2.49</td>\n",
              "      <td>1.86</td>\n",
              "      <td>0</td>\n",
              "    </tr>\n",
              "    <tr>\n",
              "      <th>2022-09-27 09:00:00</th>\n",
              "      <td>27604000</td>\n",
              "      <td>29112000</td>\n",
              "      <td>27130000</td>\n",
              "      <td>27501000</td>\n",
              "      <td>11326.095177</td>\n",
              "      <td>3.191365e+11</td>\n",
              "      <td>-0.19</td>\n",
              "      <td>2.44</td>\n",
              "      <td>1</td>\n",
              "    </tr>\n",
              "    <tr>\n",
              "      <th>2022-09-28 09:00:00</th>\n",
              "      <td>27495000</td>\n",
              "      <td>28421000</td>\n",
              "      <td>26800000</td>\n",
              "      <td>27952000</td>\n",
              "      <td>7772.212439</td>\n",
              "      <td>2.141910e+11</td>\n",
              "      <td>4.44</td>\n",
              "      <td>0.69</td>\n",
              "      <td>1</td>\n",
              "    </tr>\n",
              "    <tr>\n",
              "      <th>2022-09-29 09:00:00</th>\n",
              "      <td>27952000</td>\n",
              "      <td>28246000</td>\n",
              "      <td>27290000</td>\n",
              "      <td>28033000</td>\n",
              "      <td>6460.931579</td>\n",
              "      <td>1.800406e+11</td>\n",
              "      <td>0.18</td>\n",
              "      <td>0.83</td>\n",
              "      <td>0</td>\n",
              "    </tr>\n",
              "  </tbody>\n",
              "</table>\n",
              "<p>1830 rows × 9 columns</p>\n",
              "</div>\n",
              "      <button class=\"colab-df-convert\" onclick=\"convertToInteractive('df-017d8dc3-16e5-45c0-b072-a8e861b6c77a')\"\n",
              "              title=\"Convert this dataframe to an interactive table.\"\n",
              "              style=\"display:none;\">\n",
              "        \n",
              "  <svg xmlns=\"http://www.w3.org/2000/svg\" height=\"24px\"viewBox=\"0 0 24 24\"\n",
              "       width=\"24px\">\n",
              "    <path d=\"M0 0h24v24H0V0z\" fill=\"none\"/>\n",
              "    <path d=\"M18.56 5.44l.94 2.06.94-2.06 2.06-.94-2.06-.94-.94-2.06-.94 2.06-2.06.94zm-11 1L8.5 8.5l.94-2.06 2.06-.94-2.06-.94L8.5 2.5l-.94 2.06-2.06.94zm10 10l.94 2.06.94-2.06 2.06-.94-2.06-.94-.94-2.06-.94 2.06-2.06.94z\"/><path d=\"M17.41 7.96l-1.37-1.37c-.4-.4-.92-.59-1.43-.59-.52 0-1.04.2-1.43.59L10.3 9.45l-7.72 7.72c-.78.78-.78 2.05 0 2.83L4 21.41c.39.39.9.59 1.41.59.51 0 1.02-.2 1.41-.59l7.78-7.78 2.81-2.81c.8-.78.8-2.07 0-2.86zM5.41 20L4 18.59l7.72-7.72 1.47 1.35L5.41 20z\"/>\n",
              "  </svg>\n",
              "      </button>\n",
              "      \n",
              "  <style>\n",
              "    .colab-df-container {\n",
              "      display:flex;\n",
              "      flex-wrap:wrap;\n",
              "      gap: 12px;\n",
              "    }\n",
              "\n",
              "    .colab-df-convert {\n",
              "      background-color: #E8F0FE;\n",
              "      border: none;\n",
              "      border-radius: 50%;\n",
              "      cursor: pointer;\n",
              "      display: none;\n",
              "      fill: #1967D2;\n",
              "      height: 32px;\n",
              "      padding: 0 0 0 0;\n",
              "      width: 32px;\n",
              "    }\n",
              "\n",
              "    .colab-df-convert:hover {\n",
              "      background-color: #E2EBFA;\n",
              "      box-shadow: 0px 1px 2px rgba(60, 64, 67, 0.3), 0px 1px 3px 1px rgba(60, 64, 67, 0.15);\n",
              "      fill: #174EA6;\n",
              "    }\n",
              "\n",
              "    [theme=dark] .colab-df-convert {\n",
              "      background-color: #3B4455;\n",
              "      fill: #D2E3FC;\n",
              "    }\n",
              "\n",
              "    [theme=dark] .colab-df-convert:hover {\n",
              "      background-color: #434B5C;\n",
              "      box-shadow: 0px 1px 3px 1px rgba(0, 0, 0, 0.15);\n",
              "      filter: drop-shadow(0px 1px 2px rgba(0, 0, 0, 0.3));\n",
              "      fill: #FFFFFF;\n",
              "    }\n",
              "  </style>\n",
              "\n",
              "      <script>\n",
              "        const buttonEl =\n",
              "          document.querySelector('#df-017d8dc3-16e5-45c0-b072-a8e861b6c77a button.colab-df-convert');\n",
              "        buttonEl.style.display =\n",
              "          google.colab.kernel.accessAllowed ? 'block' : 'none';\n",
              "\n",
              "        async function convertToInteractive(key) {\n",
              "          const element = document.querySelector('#df-017d8dc3-16e5-45c0-b072-a8e861b6c77a');\n",
              "          const dataTable =\n",
              "            await google.colab.kernel.invokeFunction('convertToInteractive',\n",
              "                                                     [key], {});\n",
              "          if (!dataTable) return;\n",
              "\n",
              "          const docLinkHtml = 'Like what you see? Visit the ' +\n",
              "            '<a target=\"_blank\" href=https://colab.research.google.com/notebooks/data_table.ipynb>data table notebook</a>'\n",
              "            + ' to learn more about interactive tables.';\n",
              "          element.innerHTML = '';\n",
              "          dataTable['output_type'] = 'display_data';\n",
              "          await google.colab.output.renderOutput(dataTable, element);\n",
              "          const docLink = document.createElement('div');\n",
              "          docLink.innerHTML = docLinkHtml;\n",
              "          element.appendChild(docLink);\n",
              "        }\n",
              "      </script>\n",
              "    </div>\n",
              "  </div>\n",
              "  "
            ]
          },
          "metadata": {},
          "execution_count": 40
        }
      ]
    },
    {
      "cell_type": "markdown",
      "source": [
        "### 특성과 타겟을 분리, 학습과 테스트 데이터를 분리"
      ],
      "metadata": {
        "id": "47np_zpU5ExS"
      }
    },
    {
      "cell_type": "code",
      "source": [
        "from sklearn.model_selection import train_test_split\n",
        "\n",
        "features = ['candle',\t'volume_ratio']\n",
        "target = 'profit_loss'\n",
        "\n",
        "X, y = df[features], df[target]\n",
        "\n",
        "X_train, X_test, y_train, y_test = train_test_split(X, y, test_size=0.2, stratify=y, random_state=42)"
      ],
      "metadata": {
        "id": "v9j4D3UvKZ8C"
      },
      "execution_count": 6,
      "outputs": []
    },
    {
      "cell_type": "markdown",
      "source": [
        "### 데이터 정규화 및 기준모델의 정확도 계산"
      ],
      "metadata": {
        "id": "Nd5RM0fW5U0s"
      }
    },
    {
      "cell_type": "code",
      "source": [
        "from sklearn.metrics import accuracy_score\n",
        "from sklearn.preprocessing import StandardScaler\n",
        "\n",
        "# Scaling\n",
        "scaler_std = StandardScaler()\n",
        "\n",
        "X_train_std = scaler_std.fit_transform(X_train)\n",
        "X_test_std = scaler_std.transform(X_test)\n",
        "\n",
        "\n",
        "# 기준모델\n",
        "base = y_train.mode()[0]\n",
        "baseline = len(y_train) * [base]\n",
        "y_pred_base = len(y_test) * [base]\n",
        "# 기준모델의 정확도\n",
        "print(\"Train accuracy:\", accuracy_score(y_train, baseline).round(3))\n",
        "print(\"Test accuracy:\", accuracy_score(y_test, y_pred_base).round(3))"
      ],
      "metadata": {
        "colab": {
          "base_uri": "https://localhost:8080/"
        },
        "id": "sv23Oz0cNMwW",
        "outputId": "a1b2f172-d30d-4db8-e26c-065c68166966"
      },
      "execution_count": 37,
      "outputs": [
        {
          "output_type": "stream",
          "name": "stdout",
          "text": [
            "Train accuracy: 0.526\n",
            "Test accuracy: 0.525\n"
          ]
        }
      ]
    },
    {
      "cell_type": "markdown",
      "source": [
        "### 기준모델의 Confusion Matrix"
      ],
      "metadata": {
        "id": "BOPMK3bg5l7R"
      }
    },
    {
      "cell_type": "code",
      "source": [
        "y_true0 = y_test.value_counts()[0]\n",
        "y_true1 = y_test.value_counts()[1]\n",
        "confusion_base = pd.DataFrame(index = ['True 0', 'True 1'], data = {'Predicted 0':[0,0], 'Predicted 1':[y_true0,y_true1]})\n",
        "confusion_base"
      ],
      "metadata": {
        "colab": {
          "base_uri": "https://localhost:8080/",
          "height": 112
        },
        "id": "WsKQrRQu5rLO",
        "outputId": "30346480-d228-4182-f89d-95914ba62602"
      },
      "execution_count": 36,
      "outputs": [
        {
          "output_type": "execute_result",
          "data": {
            "text/plain": [
              "        Predicted 0  Predicted 1\n",
              "True 0            0          174\n",
              "True 1            0          192"
            ],
            "text/html": [
              "\n",
              "  <div id=\"df-3922755c-84d6-4836-9aa0-35d20f44a456\">\n",
              "    <div class=\"colab-df-container\">\n",
              "      <div>\n",
              "<style scoped>\n",
              "    .dataframe tbody tr th:only-of-type {\n",
              "        vertical-align: middle;\n",
              "    }\n",
              "\n",
              "    .dataframe tbody tr th {\n",
              "        vertical-align: top;\n",
              "    }\n",
              "\n",
              "    .dataframe thead th {\n",
              "        text-align: right;\n",
              "    }\n",
              "</style>\n",
              "<table border=\"1\" class=\"dataframe\">\n",
              "  <thead>\n",
              "    <tr style=\"text-align: right;\">\n",
              "      <th></th>\n",
              "      <th>Predicted 0</th>\n",
              "      <th>Predicted 1</th>\n",
              "    </tr>\n",
              "  </thead>\n",
              "  <tbody>\n",
              "    <tr>\n",
              "      <th>True 0</th>\n",
              "      <td>0</td>\n",
              "      <td>174</td>\n",
              "    </tr>\n",
              "    <tr>\n",
              "      <th>True 1</th>\n",
              "      <td>0</td>\n",
              "      <td>192</td>\n",
              "    </tr>\n",
              "  </tbody>\n",
              "</table>\n",
              "</div>\n",
              "      <button class=\"colab-df-convert\" onclick=\"convertToInteractive('df-3922755c-84d6-4836-9aa0-35d20f44a456')\"\n",
              "              title=\"Convert this dataframe to an interactive table.\"\n",
              "              style=\"display:none;\">\n",
              "        \n",
              "  <svg xmlns=\"http://www.w3.org/2000/svg\" height=\"24px\"viewBox=\"0 0 24 24\"\n",
              "       width=\"24px\">\n",
              "    <path d=\"M0 0h24v24H0V0z\" fill=\"none\"/>\n",
              "    <path d=\"M18.56 5.44l.94 2.06.94-2.06 2.06-.94-2.06-.94-.94-2.06-.94 2.06-2.06.94zm-11 1L8.5 8.5l.94-2.06 2.06-.94-2.06-.94L8.5 2.5l-.94 2.06-2.06.94zm10 10l.94 2.06.94-2.06 2.06-.94-2.06-.94-.94-2.06-.94 2.06-2.06.94z\"/><path d=\"M17.41 7.96l-1.37-1.37c-.4-.4-.92-.59-1.43-.59-.52 0-1.04.2-1.43.59L10.3 9.45l-7.72 7.72c-.78.78-.78 2.05 0 2.83L4 21.41c.39.39.9.59 1.41.59.51 0 1.02-.2 1.41-.59l7.78-7.78 2.81-2.81c.8-.78.8-2.07 0-2.86zM5.41 20L4 18.59l7.72-7.72 1.47 1.35L5.41 20z\"/>\n",
              "  </svg>\n",
              "      </button>\n",
              "      \n",
              "  <style>\n",
              "    .colab-df-container {\n",
              "      display:flex;\n",
              "      flex-wrap:wrap;\n",
              "      gap: 12px;\n",
              "    }\n",
              "\n",
              "    .colab-df-convert {\n",
              "      background-color: #E8F0FE;\n",
              "      border: none;\n",
              "      border-radius: 50%;\n",
              "      cursor: pointer;\n",
              "      display: none;\n",
              "      fill: #1967D2;\n",
              "      height: 32px;\n",
              "      padding: 0 0 0 0;\n",
              "      width: 32px;\n",
              "    }\n",
              "\n",
              "    .colab-df-convert:hover {\n",
              "      background-color: #E2EBFA;\n",
              "      box-shadow: 0px 1px 2px rgba(60, 64, 67, 0.3), 0px 1px 3px 1px rgba(60, 64, 67, 0.15);\n",
              "      fill: #174EA6;\n",
              "    }\n",
              "\n",
              "    [theme=dark] .colab-df-convert {\n",
              "      background-color: #3B4455;\n",
              "      fill: #D2E3FC;\n",
              "    }\n",
              "\n",
              "    [theme=dark] .colab-df-convert:hover {\n",
              "      background-color: #434B5C;\n",
              "      box-shadow: 0px 1px 3px 1px rgba(0, 0, 0, 0.15);\n",
              "      filter: drop-shadow(0px 1px 2px rgba(0, 0, 0, 0.3));\n",
              "      fill: #FFFFFF;\n",
              "    }\n",
              "  </style>\n",
              "\n",
              "      <script>\n",
              "        const buttonEl =\n",
              "          document.querySelector('#df-3922755c-84d6-4836-9aa0-35d20f44a456 button.colab-df-convert');\n",
              "        buttonEl.style.display =\n",
              "          google.colab.kernel.accessAllowed ? 'block' : 'none';\n",
              "\n",
              "        async function convertToInteractive(key) {\n",
              "          const element = document.querySelector('#df-3922755c-84d6-4836-9aa0-35d20f44a456');\n",
              "          const dataTable =\n",
              "            await google.colab.kernel.invokeFunction('convertToInteractive',\n",
              "                                                     [key], {});\n",
              "          if (!dataTable) return;\n",
              "\n",
              "          const docLinkHtml = 'Like what you see? Visit the ' +\n",
              "            '<a target=\"_blank\" href=https://colab.research.google.com/notebooks/data_table.ipynb>data table notebook</a>'\n",
              "            + ' to learn more about interactive tables.';\n",
              "          element.innerHTML = '';\n",
              "          dataTable['output_type'] = 'display_data';\n",
              "          await google.colab.output.renderOutput(dataTable, element);\n",
              "          const docLink = document.createElement('div');\n",
              "          docLink.innerHTML = docLinkHtml;\n",
              "          element.appendChild(docLink);\n",
              "        }\n",
              "      </script>\n",
              "    </div>\n",
              "  </div>\n",
              "  "
            ]
          },
          "metadata": {},
          "execution_count": 36
        }
      ]
    },
    {
      "cell_type": "markdown",
      "source": [
        "## 로지스틱 모델"
      ],
      "metadata": {
        "id": "hqC1AuJPJCUG"
      }
    },
    {
      "cell_type": "markdown",
      "source": [
        "### 모델의 정확도"
      ],
      "metadata": {
        "id": "0TcPxbqg6HrL"
      }
    },
    {
      "cell_type": "code",
      "source": [
        "from sklearn.linear_model import LogisticRegressionCV\n",
        "from sklearn.model_selection import cross_val_score\n",
        "\n",
        "# 로지스틱 회귀\n",
        "logCV_model = LogisticRegressionCV(cv=5)\n",
        "logCV_model.fit(X_train_std, y_train)\n",
        "\n",
        "# 로지스틱 회귀모델의 정확도\n",
        "print(\"Train accuracy:\", logCV_model.score(X_train_std, y_train).round(3))"
      ],
      "metadata": {
        "colab": {
          "base_uri": "https://localhost:8080/"
        },
        "id": "fHx4JBvZuG3O",
        "outputId": "dbf30c49-2fc1-4a03-c2b0-6751336a65b4"
      },
      "execution_count": 41,
      "outputs": [
        {
          "output_type": "stream",
          "name": "stdout",
          "text": [
            "Train accuracy: 0.527\n"
          ]
        }
      ]
    },
    {
      "cell_type": "markdown",
      "source": [
        "### 평가지표"
      ],
      "metadata": {
        "id": "EKtxkqEw6QSc"
      }
    },
    {
      "cell_type": "code",
      "source": [
        "from sklearn.metrics import classification_report\n",
        "\n",
        "y_pred_test_log = logCV_model.predict(X_test_std)\n",
        "\n",
        "print(classification_report(y_test, y_pred_test_log))"
      ],
      "metadata": {
        "colab": {
          "base_uri": "https://localhost:8080/"
        },
        "id": "yVLgenIQvjTY",
        "outputId": "bde2d3d4-f72a-46bb-d0c5-f96143638c60"
      },
      "execution_count": 39,
      "outputs": [
        {
          "output_type": "stream",
          "name": "stdout",
          "text": [
            "              precision    recall  f1-score   support\n",
            "\n",
            "           0       0.00      0.00      0.00       174\n",
            "           1       0.52      1.00      0.69       192\n",
            "\n",
            "    accuracy                           0.52       366\n",
            "   macro avg       0.26      0.50      0.34       366\n",
            "weighted avg       0.28      0.52      0.36       366\n",
            "\n"
          ]
        },
        {
          "output_type": "stream",
          "name": "stderr",
          "text": [
            "/usr/local/lib/python3.7/dist-packages/sklearn/metrics/_classification.py:1318: UndefinedMetricWarning: Precision and F-score are ill-defined and being set to 0.0 in labels with no predicted samples. Use `zero_division` parameter to control this behavior.\n",
            "  _warn_prf(average, modifier, msg_start, len(result))\n",
            "/usr/local/lib/python3.7/dist-packages/sklearn/metrics/_classification.py:1318: UndefinedMetricWarning: Precision and F-score are ill-defined and being set to 0.0 in labels with no predicted samples. Use `zero_division` parameter to control this behavior.\n",
            "  _warn_prf(average, modifier, msg_start, len(result))\n",
            "/usr/local/lib/python3.7/dist-packages/sklearn/metrics/_classification.py:1318: UndefinedMetricWarning: Precision and F-score are ill-defined and being set to 0.0 in labels with no predicted samples. Use `zero_division` parameter to control this behavior.\n",
            "  _warn_prf(average, modifier, msg_start, len(result))\n"
          ]
        }
      ]
    },
    {
      "cell_type": "markdown",
      "source": [
        "## 랜덤포레스트 모델"
      ],
      "metadata": {
        "id": "mDtqD7bWOHeL"
      }
    },
    {
      "cell_type": "code",
      "source": [
        "from sklearn.ensemble import RandomForestClassifier\n",
        "\n",
        "rf_model = RandomForestClassifier(oob_score=True, n_jobs=-1)\n",
        "rf_model.fit(X_train, y_train)\n",
        "\n",
        "print(\"Train accuracy:\", rf_model.score(X_train, y_train).round(3))\n",
        "print(\"Out-of-bag 샘플의 정확도:\", rf_model.oob_score_.round(3))"
      ],
      "metadata": {
        "id": "n4YLreNXOpK6",
        "colab": {
          "base_uri": "https://localhost:8080/"
        },
        "outputId": "924b90ab-e95a-416b-908b-c5a6d78cbeb4"
      },
      "execution_count": 15,
      "outputs": [
        {
          "output_type": "stream",
          "name": "stdout",
          "text": [
            "Train accuracy: 0.997\n",
            "Out-of-bag 샘플의 정확도: 0.51\n"
          ]
        }
      ]
    },
    {
      "cell_type": "code",
      "source": [
        "y_pred_test_rf = rf_model.predict(X_test)\n",
        "print(classification_report(y_test, y_pred_test_rf))"
      ],
      "metadata": {
        "colab": {
          "base_uri": "https://localhost:8080/"
        },
        "id": "KyIJQbQc8hh3",
        "outputId": "a44ffe44-7ded-47fc-b32b-77407350d860"
      },
      "execution_count": 16,
      "outputs": [
        {
          "output_type": "stream",
          "name": "stdout",
          "text": [
            "              precision    recall  f1-score   support\n",
            "\n",
            "           0       0.48      0.41      0.44       174\n",
            "           1       0.53      0.60      0.56       192\n",
            "\n",
            "    accuracy                           0.51       366\n",
            "   macro avg       0.51      0.51      0.50       366\n",
            "weighted avg       0.51      0.51      0.51       366\n",
            "\n"
          ]
        }
      ]
    },
    {
      "cell_type": "markdown",
      "source": [
        "## XGBoost"
      ],
      "metadata": {
        "id": "cltdAyxgPrr0"
      }
    },
    {
      "cell_type": "code",
      "source": [
        "from xgboost import XGBClassifier\n",
        "\n",
        "xgb_model = XGBClassifier(\n",
        "    eval_metric=\"error\",\n",
        "    n_estimators=200,\n",
        "    random_state=42,\n",
        "    n_jobs=-1,\n",
        "    learning_rate=0.1,\n",
        "    use_label_encoder=False\n",
        ")\n",
        "\n",
        "xgb_model.fit(X_train, y_train)\n",
        "\n",
        "# 정확도\n",
        "print(\"Traing accuracy\", xgb_model.score(X_train, y_train).round(3))\n",
        "\n",
        "y_pred_xgb = xgb_model.predict(X_test)\n",
        "print(classification_report(y_test, y_pred_xgb))"
      ],
      "metadata": {
        "colab": {
          "base_uri": "https://localhost:8080/"
        },
        "id": "oWdnyZ6EPxx1",
        "outputId": "33c3d194-893d-46bf-87d6-5b5603f74dd8"
      },
      "execution_count": 31,
      "outputs": [
        {
          "output_type": "stream",
          "name": "stdout",
          "text": [
            "Traing accuracy 0.727\n",
            "              precision    recall  f1-score   support\n",
            "\n",
            "           0       0.46      0.41      0.43       174\n",
            "           1       0.51      0.55      0.53       192\n",
            "\n",
            "    accuracy                           0.49       366\n",
            "   macro avg       0.48      0.48      0.48       366\n",
            "weighted avg       0.48      0.49      0.48       366\n",
            "\n"
          ]
        }
      ]
    }
  ]
}
